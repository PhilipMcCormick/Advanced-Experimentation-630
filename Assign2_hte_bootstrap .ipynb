{
  "nbformat": 4,
  "nbformat_minor": 0,
  "metadata": {
    "colab": {
      "provenance": []
    },
    "kernelspec": {
      "name": "python3",
      "display_name": "Python 3"
    },
    "language_info": {
      "name": "python"
    }
  },
  "cells": [
    {
      "cell_type": "markdown",
      "source": [
        "Problem 1"
      ],
      "metadata": {
        "id": "fNkhr5q0HgSk"
      }
    },
    {
      "cell_type": "code",
      "source": [
        "# Load libraries: numpy, pandas, and linear regression\n",
        "import numpy as np\n",
        "import pandas as pd\n",
        "import statsmodels.formula.api as sm\n",
        "\n",
        "np.random.seed(5)"
      ],
      "metadata": {
        "id": "SrW9mUA8Hvml"
      },
      "execution_count": null,
      "outputs": []
    },
    {
      "cell_type": "code",
      "source": [
        "from google.colab import drive\n",
        "drive.mount('/content/drive')"
      ],
      "metadata": {
        "colab": {
          "base_uri": "https://localhost:8080/"
        },
        "id": "oCQ02MDrIQ6-",
        "outputId": "54120bfe-cf69-4b26-e98f-92c790b5c272"
      },
      "execution_count": null,
      "outputs": [
        {
          "output_type": "stream",
          "name": "stdout",
          "text": [
            "Mounted at /content/drive\n"
          ]
        }
      ]
    },
    {
      "cell_type": "code",
      "source": [
        "df = pd.read_csv('/content/drive/MyDrive/ECON 630/data_assignment2.csv')\n",
        "df.head()"
      ],
      "metadata": {
        "colab": {
          "base_uri": "https://localhost:8080/",
          "height": 206
        },
        "id": "LGyJDiJZI3IG",
        "outputId": "dc34be4c-316e-4e77-ce1e-f6de8b78e48e"
      },
      "execution_count": null,
      "outputs": [
        {
          "output_type": "execute_result",
          "data": {
            "text/plain": [
              "   response  treatment   age party\n",
              "0         0          0  28.0     d\n",
              "1         1          0  54.0     g\n",
              "2         1          0  44.0     a\n",
              "3         0          0  77.0     a\n",
              "4         0          0  44.0     a"
            ],
            "text/html": [
              "\n",
              "  <div id=\"df-87bce429-0291-4a32-a9eb-6e6b4e2c9d15\">\n",
              "    <div class=\"colab-df-container\">\n",
              "      <div>\n",
              "<style scoped>\n",
              "    .dataframe tbody tr th:only-of-type {\n",
              "        vertical-align: middle;\n",
              "    }\n",
              "\n",
              "    .dataframe tbody tr th {\n",
              "        vertical-align: top;\n",
              "    }\n",
              "\n",
              "    .dataframe thead th {\n",
              "        text-align: right;\n",
              "    }\n",
              "</style>\n",
              "<table border=\"1\" class=\"dataframe\">\n",
              "  <thead>\n",
              "    <tr style=\"text-align: right;\">\n",
              "      <th></th>\n",
              "      <th>response</th>\n",
              "      <th>treatment</th>\n",
              "      <th>age</th>\n",
              "      <th>party</th>\n",
              "    </tr>\n",
              "  </thead>\n",
              "  <tbody>\n",
              "    <tr>\n",
              "      <th>0</th>\n",
              "      <td>0</td>\n",
              "      <td>0</td>\n",
              "      <td>28.0</td>\n",
              "      <td>d</td>\n",
              "    </tr>\n",
              "    <tr>\n",
              "      <th>1</th>\n",
              "      <td>1</td>\n",
              "      <td>0</td>\n",
              "      <td>54.0</td>\n",
              "      <td>g</td>\n",
              "    </tr>\n",
              "    <tr>\n",
              "      <th>2</th>\n",
              "      <td>1</td>\n",
              "      <td>0</td>\n",
              "      <td>44.0</td>\n",
              "      <td>a</td>\n",
              "    </tr>\n",
              "    <tr>\n",
              "      <th>3</th>\n",
              "      <td>0</td>\n",
              "      <td>0</td>\n",
              "      <td>77.0</td>\n",
              "      <td>a</td>\n",
              "    </tr>\n",
              "    <tr>\n",
              "      <th>4</th>\n",
              "      <td>0</td>\n",
              "      <td>0</td>\n",
              "      <td>44.0</td>\n",
              "      <td>a</td>\n",
              "    </tr>\n",
              "  </tbody>\n",
              "</table>\n",
              "</div>\n",
              "      <button class=\"colab-df-convert\" onclick=\"convertToInteractive('df-87bce429-0291-4a32-a9eb-6e6b4e2c9d15')\"\n",
              "              title=\"Convert this dataframe to an interactive table.\"\n",
              "              style=\"display:none;\">\n",
              "        \n",
              "  <svg xmlns=\"http://www.w3.org/2000/svg\" height=\"24px\"viewBox=\"0 0 24 24\"\n",
              "       width=\"24px\">\n",
              "    <path d=\"M0 0h24v24H0V0z\" fill=\"none\"/>\n",
              "    <path d=\"M18.56 5.44l.94 2.06.94-2.06 2.06-.94-2.06-.94-.94-2.06-.94 2.06-2.06.94zm-11 1L8.5 8.5l.94-2.06 2.06-.94-2.06-.94L8.5 2.5l-.94 2.06-2.06.94zm10 10l.94 2.06.94-2.06 2.06-.94-2.06-.94-.94-2.06-.94 2.06-2.06.94z\"/><path d=\"M17.41 7.96l-1.37-1.37c-.4-.4-.92-.59-1.43-.59-.52 0-1.04.2-1.43.59L10.3 9.45l-7.72 7.72c-.78.78-.78 2.05 0 2.83L4 21.41c.39.39.9.59 1.41.59.51 0 1.02-.2 1.41-.59l7.78-7.78 2.81-2.81c.8-.78.8-2.07 0-2.86zM5.41 20L4 18.59l7.72-7.72 1.47 1.35L5.41 20z\"/>\n",
              "  </svg>\n",
              "      </button>\n",
              "      \n",
              "  <style>\n",
              "    .colab-df-container {\n",
              "      display:flex;\n",
              "      flex-wrap:wrap;\n",
              "      gap: 12px;\n",
              "    }\n",
              "\n",
              "    .colab-df-convert {\n",
              "      background-color: #E8F0FE;\n",
              "      border: none;\n",
              "      border-radius: 50%;\n",
              "      cursor: pointer;\n",
              "      display: none;\n",
              "      fill: #1967D2;\n",
              "      height: 32px;\n",
              "      padding: 0 0 0 0;\n",
              "      width: 32px;\n",
              "    }\n",
              "\n",
              "    .colab-df-convert:hover {\n",
              "      background-color: #E2EBFA;\n",
              "      box-shadow: 0px 1px 2px rgba(60, 64, 67, 0.3), 0px 1px 3px 1px rgba(60, 64, 67, 0.15);\n",
              "      fill: #174EA6;\n",
              "    }\n",
              "\n",
              "    [theme=dark] .colab-df-convert {\n",
              "      background-color: #3B4455;\n",
              "      fill: #D2E3FC;\n",
              "    }\n",
              "\n",
              "    [theme=dark] .colab-df-convert:hover {\n",
              "      background-color: #434B5C;\n",
              "      box-shadow: 0px 1px 3px 1px rgba(0, 0, 0, 0.15);\n",
              "      filter: drop-shadow(0px 1px 2px rgba(0, 0, 0, 0.3));\n",
              "      fill: #FFFFFF;\n",
              "    }\n",
              "  </style>\n",
              "\n",
              "      <script>\n",
              "        const buttonEl =\n",
              "          document.querySelector('#df-87bce429-0291-4a32-a9eb-6e6b4e2c9d15 button.colab-df-convert');\n",
              "        buttonEl.style.display =\n",
              "          google.colab.kernel.accessAllowed ? 'block' : 'none';\n",
              "\n",
              "        async function convertToInteractive(key) {\n",
              "          const element = document.querySelector('#df-87bce429-0291-4a32-a9eb-6e6b4e2c9d15');\n",
              "          const dataTable =\n",
              "            await google.colab.kernel.invokeFunction('convertToInteractive',\n",
              "                                                     [key], {});\n",
              "          if (!dataTable) return;\n",
              "\n",
              "          const docLinkHtml = 'Like what you see? Visit the ' +\n",
              "            '<a target=\"_blank\" href=https://colab.research.google.com/notebooks/data_table.ipynb>data table notebook</a>'\n",
              "            + ' to learn more about interactive tables.';\n",
              "          element.innerHTML = '';\n",
              "          dataTable['output_type'] = 'display_data';\n",
              "          await google.colab.output.renderOutput(dataTable, element);\n",
              "          const docLink = document.createElement('div');\n",
              "          docLink.innerHTML = docLinkHtml;\n",
              "          element.appendChild(docLink);\n",
              "        }\n",
              "      </script>\n",
              "    </div>\n",
              "  </div>\n",
              "  "
            ]
          },
          "metadata": {},
          "execution_count": 3
        }
      ]
    },
    {
      "cell_type": "markdown",
      "source": [
        "1. (20 points) We suspect there is treatment heterogeneity in age, with older participants (those\n",
        "50 or older) differing from younger participants (49 and below). Estimate the treatment effect\n",
        "on the elderly, the treatment effect on the young, and the difference between the groups; and\n",
        "furthermore construct standard errors for all three estimates using the bootstrap with at least\n",
        "2,000 iterations. You may ignore the political party covariate for this problem."
      ],
      "metadata": {
        "id": "BiRzs0O8H9GQ"
      }
    },
    {
      "cell_type": "code",
      "source": [
        "df['age_split'] = df.age >= 50.0\n",
        "df"
      ],
      "metadata": {
        "colab": {
          "base_uri": "https://localhost:8080/",
          "height": 424
        },
        "id": "7DvTi2eJfeRY",
        "outputId": "e06a0999-c3de-4f44-b26e-6037fd30b54e"
      },
      "execution_count": null,
      "outputs": [
        {
          "output_type": "execute_result",
          "data": {
            "text/plain": [
              "       response  treatment   age party  age_split\n",
              "0             0          0  28.0     d      False\n",
              "1             1          0  54.0     g       True\n",
              "2             1          0  44.0     a      False\n",
              "3             0          0  77.0     a       True\n",
              "4             0          0  44.0     a      False\n",
              "...         ...        ...   ...   ...        ...\n",
              "36496         0          0  62.0     g       True\n",
              "36497         1          0  66.0     g       True\n",
              "36498         0          1  54.0     b       True\n",
              "36499         0          0  57.0     d       True\n",
              "36500         1          0  30.0     h      False\n",
              "\n",
              "[36501 rows x 5 columns]"
            ],
            "text/html": [
              "\n",
              "  <div id=\"df-4e77baf5-0da9-4487-b92c-0facc51c6d19\">\n",
              "    <div class=\"colab-df-container\">\n",
              "      <div>\n",
              "<style scoped>\n",
              "    .dataframe tbody tr th:only-of-type {\n",
              "        vertical-align: middle;\n",
              "    }\n",
              "\n",
              "    .dataframe tbody tr th {\n",
              "        vertical-align: top;\n",
              "    }\n",
              "\n",
              "    .dataframe thead th {\n",
              "        text-align: right;\n",
              "    }\n",
              "</style>\n",
              "<table border=\"1\" class=\"dataframe\">\n",
              "  <thead>\n",
              "    <tr style=\"text-align: right;\">\n",
              "      <th></th>\n",
              "      <th>response</th>\n",
              "      <th>treatment</th>\n",
              "      <th>age</th>\n",
              "      <th>party</th>\n",
              "      <th>age_split</th>\n",
              "    </tr>\n",
              "  </thead>\n",
              "  <tbody>\n",
              "    <tr>\n",
              "      <th>0</th>\n",
              "      <td>0</td>\n",
              "      <td>0</td>\n",
              "      <td>28.0</td>\n",
              "      <td>d</td>\n",
              "      <td>False</td>\n",
              "    </tr>\n",
              "    <tr>\n",
              "      <th>1</th>\n",
              "      <td>1</td>\n",
              "      <td>0</td>\n",
              "      <td>54.0</td>\n",
              "      <td>g</td>\n",
              "      <td>True</td>\n",
              "    </tr>\n",
              "    <tr>\n",
              "      <th>2</th>\n",
              "      <td>1</td>\n",
              "      <td>0</td>\n",
              "      <td>44.0</td>\n",
              "      <td>a</td>\n",
              "      <td>False</td>\n",
              "    </tr>\n",
              "    <tr>\n",
              "      <th>3</th>\n",
              "      <td>0</td>\n",
              "      <td>0</td>\n",
              "      <td>77.0</td>\n",
              "      <td>a</td>\n",
              "      <td>True</td>\n",
              "    </tr>\n",
              "    <tr>\n",
              "      <th>4</th>\n",
              "      <td>0</td>\n",
              "      <td>0</td>\n",
              "      <td>44.0</td>\n",
              "      <td>a</td>\n",
              "      <td>False</td>\n",
              "    </tr>\n",
              "    <tr>\n",
              "      <th>...</th>\n",
              "      <td>...</td>\n",
              "      <td>...</td>\n",
              "      <td>...</td>\n",
              "      <td>...</td>\n",
              "      <td>...</td>\n",
              "    </tr>\n",
              "    <tr>\n",
              "      <th>36496</th>\n",
              "      <td>0</td>\n",
              "      <td>0</td>\n",
              "      <td>62.0</td>\n",
              "      <td>g</td>\n",
              "      <td>True</td>\n",
              "    </tr>\n",
              "    <tr>\n",
              "      <th>36497</th>\n",
              "      <td>1</td>\n",
              "      <td>0</td>\n",
              "      <td>66.0</td>\n",
              "      <td>g</td>\n",
              "      <td>True</td>\n",
              "    </tr>\n",
              "    <tr>\n",
              "      <th>36498</th>\n",
              "      <td>0</td>\n",
              "      <td>1</td>\n",
              "      <td>54.0</td>\n",
              "      <td>b</td>\n",
              "      <td>True</td>\n",
              "    </tr>\n",
              "    <tr>\n",
              "      <th>36499</th>\n",
              "      <td>0</td>\n",
              "      <td>0</td>\n",
              "      <td>57.0</td>\n",
              "      <td>d</td>\n",
              "      <td>True</td>\n",
              "    </tr>\n",
              "    <tr>\n",
              "      <th>36500</th>\n",
              "      <td>1</td>\n",
              "      <td>0</td>\n",
              "      <td>30.0</td>\n",
              "      <td>h</td>\n",
              "      <td>False</td>\n",
              "    </tr>\n",
              "  </tbody>\n",
              "</table>\n",
              "<p>36501 rows × 5 columns</p>\n",
              "</div>\n",
              "      <button class=\"colab-df-convert\" onclick=\"convertToInteractive('df-4e77baf5-0da9-4487-b92c-0facc51c6d19')\"\n",
              "              title=\"Convert this dataframe to an interactive table.\"\n",
              "              style=\"display:none;\">\n",
              "        \n",
              "  <svg xmlns=\"http://www.w3.org/2000/svg\" height=\"24px\"viewBox=\"0 0 24 24\"\n",
              "       width=\"24px\">\n",
              "    <path d=\"M0 0h24v24H0V0z\" fill=\"none\"/>\n",
              "    <path d=\"M18.56 5.44l.94 2.06.94-2.06 2.06-.94-2.06-.94-.94-2.06-.94 2.06-2.06.94zm-11 1L8.5 8.5l.94-2.06 2.06-.94-2.06-.94L8.5 2.5l-.94 2.06-2.06.94zm10 10l.94 2.06.94-2.06 2.06-.94-2.06-.94-.94-2.06-.94 2.06-2.06.94z\"/><path d=\"M17.41 7.96l-1.37-1.37c-.4-.4-.92-.59-1.43-.59-.52 0-1.04.2-1.43.59L10.3 9.45l-7.72 7.72c-.78.78-.78 2.05 0 2.83L4 21.41c.39.39.9.59 1.41.59.51 0 1.02-.2 1.41-.59l7.78-7.78 2.81-2.81c.8-.78.8-2.07 0-2.86zM5.41 20L4 18.59l7.72-7.72 1.47 1.35L5.41 20z\"/>\n",
              "  </svg>\n",
              "      </button>\n",
              "      \n",
              "  <style>\n",
              "    .colab-df-container {\n",
              "      display:flex;\n",
              "      flex-wrap:wrap;\n",
              "      gap: 12px;\n",
              "    }\n",
              "\n",
              "    .colab-df-convert {\n",
              "      background-color: #E8F0FE;\n",
              "      border: none;\n",
              "      border-radius: 50%;\n",
              "      cursor: pointer;\n",
              "      display: none;\n",
              "      fill: #1967D2;\n",
              "      height: 32px;\n",
              "      padding: 0 0 0 0;\n",
              "      width: 32px;\n",
              "    }\n",
              "\n",
              "    .colab-df-convert:hover {\n",
              "      background-color: #E2EBFA;\n",
              "      box-shadow: 0px 1px 2px rgba(60, 64, 67, 0.3), 0px 1px 3px 1px rgba(60, 64, 67, 0.15);\n",
              "      fill: #174EA6;\n",
              "    }\n",
              "\n",
              "    [theme=dark] .colab-df-convert {\n",
              "      background-color: #3B4455;\n",
              "      fill: #D2E3FC;\n",
              "    }\n",
              "\n",
              "    [theme=dark] .colab-df-convert:hover {\n",
              "      background-color: #434B5C;\n",
              "      box-shadow: 0px 1px 3px 1px rgba(0, 0, 0, 0.15);\n",
              "      filter: drop-shadow(0px 1px 2px rgba(0, 0, 0, 0.3));\n",
              "      fill: #FFFFFF;\n",
              "    }\n",
              "  </style>\n",
              "\n",
              "      <script>\n",
              "        const buttonEl =\n",
              "          document.querySelector('#df-4e77baf5-0da9-4487-b92c-0facc51c6d19 button.colab-df-convert');\n",
              "        buttonEl.style.display =\n",
              "          google.colab.kernel.accessAllowed ? 'block' : 'none';\n",
              "\n",
              "        async function convertToInteractive(key) {\n",
              "          const element = document.querySelector('#df-4e77baf5-0da9-4487-b92c-0facc51c6d19');\n",
              "          const dataTable =\n",
              "            await google.colab.kernel.invokeFunction('convertToInteractive',\n",
              "                                                     [key], {});\n",
              "          if (!dataTable) return;\n",
              "\n",
              "          const docLinkHtml = 'Like what you see? Visit the ' +\n",
              "            '<a target=\"_blank\" href=https://colab.research.google.com/notebooks/data_table.ipynb>data table notebook</a>'\n",
              "            + ' to learn more about interactive tables.';\n",
              "          element.innerHTML = '';\n",
              "          dataTable['output_type'] = 'display_data';\n",
              "          await google.colab.output.renderOutput(dataTable, element);\n",
              "          const docLink = document.createElement('div');\n",
              "          docLink.innerHTML = docLinkHtml;\n",
              "          element.appendChild(docLink);\n",
              "        }\n",
              "      </script>\n",
              "    </div>\n",
              "  </div>\n",
              "  "
            ]
          },
          "metadata": {},
          "execution_count": 4
        }
      ]
    },
    {
      "cell_type": "code",
      "source": [
        "df.age_split = df['age_split'].map({True:\"o\",False:\"y\"})"
      ],
      "metadata": {
        "id": "Kex_odjhy_Fn"
      },
      "execution_count": null,
      "outputs": []
    },
    {
      "cell_type": "code",
      "source": [
        "print(df)"
      ],
      "metadata": {
        "colab": {
          "base_uri": "https://localhost:8080/"
        },
        "id": "3Is2SBrzz6i5",
        "outputId": "12b9e6a6-5fc4-4cf4-d86d-c68a14887c86"
      },
      "execution_count": null,
      "outputs": [
        {
          "output_type": "stream",
          "name": "stdout",
          "text": [
            "       response  treatment   age party age_split\n",
            "0             0          0  28.0     d         y\n",
            "1             1          0  54.0     g         o\n",
            "2             1          0  44.0     a         y\n",
            "3             0          0  77.0     a         o\n",
            "4             0          0  44.0     a         y\n",
            "...         ...        ...   ...   ...       ...\n",
            "36496         0          0  62.0     g         o\n",
            "36497         1          0  66.0     g         o\n",
            "36498         0          1  54.0     b         o\n",
            "36499         0          0  57.0     d         o\n",
            "36500         1          0  30.0     h         y\n",
            "\n",
            "[36501 rows x 5 columns]\n"
          ]
        }
      ]
    },
    {
      "cell_type": "code",
      "source": [
        "# Define a regression function\n",
        "def regression(f, df):\n",
        "  result = sm.ols(formula = f, data = df).fit()\n",
        "  return(result.params[1])\n",
        "\n",
        "# Get point estimate\n",
        "point_estimate = regression('response ~ age_split + treatment + treatment * age_split', df)\n",
        "print(\"Estimated effect of treatment is: \" + str(round(point_estimate, 3)))\n",
        "\n",
        "# Get summary on number of treated / control units\n",
        "print(\"There are \" + str(sum(df['treatment'])) + \" treated units and \" + \n",
        "      str(len(df['treatment']) - sum(df['treatment'])) + \" control units\")"
      ],
      "metadata": {
        "colab": {
          "base_uri": "https://localhost:8080/"
        },
        "id": "SflEnYC10Wwu",
        "outputId": "de68f37a-154e-4693-cb24-053b325257f4"
      },
      "execution_count": null,
      "outputs": [
        {
          "output_type": "stream",
          "name": "stdout",
          "text": [
            "Estimated effect of treatment is: 0.021\n",
            "There are 19453 treated units and 17048 control units\n"
          ]
        }
      ]
    },
    {
      "cell_type": "code",
      "source": [
        "#HTE topic 2 code\n",
        "n = len(df)\n",
        "# Measure three components over each iteration: the older effect, \n",
        "# the younger effect, and the difference in effects\n",
        "bootstrap_older = []\n",
        "bootstrap_younger = []\n",
        "bootstrap_difference = []\n",
        "\n",
        "# Remember: the sampling design was supposed to be 50-50 treatment-control, but older\n",
        "# of course due to sampling error, it was slightly off. So we need to reweight\n",
        "# when we do the Bootstrap iterations\n",
        "weight_control = sum(df['treatment'] == 1)/n\n",
        "weight_treatment = 1 - weight_control\n",
        "probability = ((df['treatment'] == 1) *  weight_treatment + \n",
        "               (df['treatment'] == 0) * weight_control)\n",
        "probability = probability/sum(probability)\n",
        "\n",
        "# Bootstrap through 2000 iterations\n",
        "# Note that 2000 is normally low, but we do this in the interest of time\n",
        "for i in range(2000):\n",
        "\n",
        "  # Sample observations (with the reweighting)\n",
        "  index = np.random.choice(range(n), n, replace = True, p = probability)\n",
        "\n",
        "  # Run the regression model. for eacf sample w/ the iloc function\n",
        "  result = sm.ols(formula=\"response ~ age_split + treatment + treatment * age_split\", \n",
        "                  data = df.iloc[index,]).fit()\n",
        "  \n",
        "  # This code is messy, but it basically extracts the two key coefficients: \n",
        "  # treatment effect, and treatment effect interacted with being young\n",
        "  output = pd.DataFrame({'cols': result.params.index, 'par': result.params})\n",
        "  sample_effect = output.iloc[np.where(output['cols'] == 'treatment')[0][0],1]\n",
        "  sample_effect_younger_addon = output.iloc[np.where(output['cols'] == 'treatment:age_split[T.y]')[0][0],1]\n",
        "\n",
        "  # Save the relevant indicators\n",
        "  bootstrap_older.append(sample_effect)\n",
        "  bootstrap_younger.append(sample_effect + sample_effect_younger_addon)\n",
        "  bootstrap_difference.append(sample_effect_younger_addon)\n",
        "\n",
        "  if i % 100 == 0:\n",
        "    print(\"On iteration: \" + str(i))\n",
        "\n",
        "\n",
        "# Report summary statistics\n",
        "print(\"The older std error is: \" + \n",
        "      str(round(np.std(bootstrap_older), 4)))\n",
        "print(\"The younger std error is: \" + \n",
        "      str(round(np.std(bootstrap_younger), 4)))\n",
        "print(\"The difference std error is: \" + \n",
        "      str(round(np.std(bootstrap_difference), 4)))\n",
        "\n",
        "# Remind ourselves of the actual treatment effects estimated from the regression\n",
        "result = sm.ols(formula=\"response ~ age_split + treatment + treatment * age_split\", \n",
        "                data = df).fit()\n",
        "output = pd.DataFrame({'cols': result.params.index, 'par': result.params})\n",
        "effect = output.iloc[np.where(output['cols'] == 'treatment')[0][0],1]\n",
        "effect_younger_addon = output.iloc[np.where(output['cols'] == 'treatment:age_split[T.y]')[0][0],1]\n",
        "print(\"The younger treatment effect is: \" + str(round(effect, 4)))\n",
        "print(\"The older treatment_effect is: \" + \n",
        "      str(round(effect + effect_younger_addon, 4)))\n",
        "print(\"The difference in treatment effects is: \" + \n",
        "      str(round(effect_younger_addon, 4)))"
      ],
      "metadata": {
        "id": "FIgFmrdZI1g8",
        "colab": {
          "base_uri": "https://localhost:8080/"
        },
        "outputId": "6e5c24a3-6de1-4436-a494-572b78c1a0ee"
      },
      "execution_count": null,
      "outputs": [
        {
          "output_type": "stream",
          "name": "stdout",
          "text": [
            "On iteration: 0\n",
            "On iteration: 100\n",
            "On iteration: 200\n",
            "On iteration: 300\n",
            "On iteration: 400\n",
            "On iteration: 500\n",
            "On iteration: 600\n",
            "On iteration: 700\n",
            "On iteration: 800\n",
            "On iteration: 900\n",
            "On iteration: 1000\n",
            "On iteration: 1100\n",
            "On iteration: 1200\n",
            "On iteration: 1300\n",
            "On iteration: 1400\n",
            "On iteration: 1500\n",
            "On iteration: 1600\n",
            "On iteration: 1700\n",
            "On iteration: 1800\n",
            "On iteration: 1900\n",
            "The older std error is: 0.0069\n",
            "The younger std error is: 0.0054\n",
            "The difference std error is: 0.0088\n",
            "The younger treatment effect is: -0.3164\n",
            "The older treatment_effect is: -0.3514\n",
            "The difference in treatment effects is: -0.035\n"
          ]
        }
      ]
    },
    {
      "cell_type": "code",
      "source": [
        "#differnce in treatment effect of old vs young"
      ],
      "metadata": {
        "id": "bT1VQaQIQ3g1"
      },
      "execution_count": null,
      "outputs": []
    },
    {
      "cell_type": "markdown",
      "source": [
        "2. Justify Answer on Standard Error choices"
      ],
      "metadata": {
        "id": "I8ANNBuDIDIX"
      }
    },
    {
      "cell_type": "markdown",
      "source": [
        "3. (20 points) We similarly suspect there is treatment heterogeneity in party preference. Prove\n",
        "or disprove this hypothesis; but be mindful of the higher dimensionality of the problem\n",
        "and implement a solution accordingly. You may ignore the age covariate for this problem.\n",
        "Note that the standard errors should again be constructed by bootstrap with at least 2,000\n",
        "iterations; but if you are unable to do so, you may use the default standard errors as reported\n",
        "by linear regression for a five-point penalty only."
      ],
      "metadata": {
        "id": "M6rtWJq_IM4I"
      }
    },
    {
      "cell_type": "code",
      "source": [
        "#stat sig a, b, g, f, and i"
      ],
      "metadata": {
        "id": "N4R3tDhNYKGt"
      },
      "execution_count": null,
      "outputs": []
    },
    {
      "cell_type": "code",
      "source": [
        "# Get point estimate\n",
        "point_estimate3 = regression('response ~ party + treatment + treatment * party', df)\n",
        "print(\"Estimated effect of treatment is: \" + str(round(point_estimate3, 3)))\n",
        "\n",
        "# Get summary on number of treated / control units\n",
        "print(\"There are \" + str(sum(df['treatment'])) + \" treated units and \" + \n",
        "      str(len(df['treatment']) - sum(df['treatment'])) + \" control units\")"
      ],
      "metadata": {
        "colab": {
          "base_uri": "https://localhost:8080/"
        },
        "id": "j7uoGJCeyzJF",
        "outputId": "dee53969-076a-4cb6-8d1a-f43fffa9554c"
      },
      "execution_count": null,
      "outputs": [
        {
          "output_type": "stream",
          "name": "stdout",
          "text": [
            "Estimated effect of treatment is: 0.067\n",
            "There are 19453 treated units and 17048 control units\n"
          ]
        }
      ]
    },
    {
      "cell_type": "code",
      "source": [
        "n= len(df)\n",
        "# Note that this isn't the Bootstrap: we are just splitting the sample\n",
        "index = np.random.choice(range(n), round(n/2), replace = False)"
      ],
      "metadata": {
        "id": "QTwC7J0CWTQV"
      },
      "execution_count": null,
      "outputs": []
    },
    {
      "cell_type": "code",
      "source": [
        "# Run the regression model\n",
        "result = sm.ols(formula=\"response ~ treatment + party + treatment*party\", \n",
        "                data = df.drop(index)).fit()\n",
        "print(result.summary())"
      ],
      "metadata": {
        "colab": {
          "base_uri": "https://localhost:8080/"
        },
        "id": "nVUsGsuGz3lN",
        "outputId": "e3192eaf-7e4c-4142-81f0-90e1d0f40b14"
      },
      "execution_count": null,
      "outputs": [
        {
          "output_type": "stream",
          "name": "stdout",
          "text": [
            "                            OLS Regression Results                            \n",
            "==============================================================================\n",
            "Dep. Variable:               response   R-squared:                       0.184\n",
            "Model:                            OLS   Adj. R-squared:                  0.183\n",
            "Method:                 Least Squares   F-statistic:                     242.1\n",
            "Date:                Fri, 04 Nov 2022   Prob (F-statistic):               0.00\n",
            "Time:                        15:54:48   Log-Likelihood:                -8731.8\n",
            "No. Observations:               18251   AIC:                         1.750e+04\n",
            "Df Residuals:                   18233   BIC:                         1.764e+04\n",
            "Df Model:                          17                                         \n",
            "Covariance Type:            nonrobust                                         \n",
            "========================================================================================\n",
            "                           coef    std err          t      P>|t|      [0.025      0.975]\n",
            "----------------------------------------------------------------------------------------\n",
            "Intercept                0.2926      0.011     26.672      0.000       0.271       0.314\n",
            "party[T.b]               0.0804      0.015      5.528      0.000       0.052       0.109\n",
            "party[T.c]               0.0733      0.017      4.429      0.000       0.041       0.106\n",
            "party[T.d]               0.0942      0.015      6.172      0.000       0.064       0.124\n",
            "party[T.e]               0.0733      0.062      1.182      0.237      -0.048       0.195\n",
            "party[T.f]               0.2298      0.015     15.357      0.000       0.200       0.259\n",
            "party[T.g]               0.3094      0.017     18.299      0.000       0.276       0.343\n",
            "party[T.h]               0.2352      0.034      6.847      0.000       0.168       0.303\n",
            "party[T.i]               0.2270      0.018     12.699      0.000       0.192       0.262\n",
            "treatment               -0.2485      0.015    -16.789      0.000      -0.278      -0.220\n",
            "treatment:party[T.b]    -0.0700      0.020     -3.536      0.000      -0.109      -0.031\n",
            "treatment:party[T.c]    -0.0629      0.023     -2.767      0.006      -0.107      -0.018\n",
            "treatment:party[T.d]    -0.0590      0.021     -2.838      0.005      -0.100      -0.018\n",
            "treatment:party[T.e]    -0.0189      0.080     -0.236      0.813      -0.176       0.138\n",
            "treatment:party[T.f]    -0.1474      0.020     -7.192      0.000      -0.188      -0.107\n",
            "treatment:party[T.g]    -0.1811      0.023     -7.849      0.000      -0.226      -0.136\n",
            "treatment:party[T.h]    -0.0745      0.050     -1.496      0.135      -0.172       0.023\n",
            "treatment:party[T.i]    -0.1658      0.025     -6.763      0.000      -0.214      -0.118\n",
            "==============================================================================\n",
            "Omnibus:                     1631.302   Durbin-Watson:                   1.920\n",
            "Prob(Omnibus):                  0.000   Jarque-Bera (JB):             2013.524\n",
            "Skew:                           0.797   Prob(JB):                         0.00\n",
            "Kurtosis:                       2.678   Cond. No.                         41.0\n",
            "==============================================================================\n",
            "\n",
            "Notes:\n",
            "[1] Standard Errors assume that the covariance matrix of the errors is correctly specified.\n"
          ]
        }
      ]
    },
    {
      "cell_type": "code",
      "source": [
        "# Measure three components over each iteration: the Old effect, \n",
        "# the Young effect, and the difference in effects\n",
        "bootstrap_a = []\n",
        "bootstrap_b = []\n",
        "bootstrap_d = []\n",
        "bootstrap_f = []\n",
        "bootstrap_g = []\n",
        "bootstrap_i = []\n",
        "bootstrap_diff = []\n",
        "\n",
        "# Remember: the sampling design was supposed to be 50-50 treatment-control, but \n",
        "# of course due to sampling error, it was slightly off. So we need to reweight\n",
        "# when we do the Bootstrap iterations\n",
        "weight_control = sum(df['treatment'] == 1)/n\n",
        "weight_treatment = 1 - weight_control\n",
        "probability = ((df['treatment'] == 1) *  weight_treatment + \n",
        "               (df['treatment'] == 0) * weight_control)\n",
        "probability = probability/sum(probability)\n",
        "\n",
        "# Bootstrap through 2000 iterations\n",
        "for i in range(2000):\n",
        "\n",
        "  # Sample 10,000 observations (with the reweighting)\n",
        "  index = np.random.choice(range(n), n, replace = True, p = probability)\n",
        "\n",
        "  # Run the regression model\n",
        "  result = sm.ols(formula=\"response ~ treatment + party + treatment*party\", \n",
        "                  data = df.iloc[index,]).fit()\n",
        "  \n",
        "  # This code is messy, but it basically extracts the two key coefficients: \n",
        "  # treatment effect, and treatment effect interacted with being young\n",
        "  output = pd.DataFrame({'cols': result.params.index, 'par': result.params})\n",
        "  sample_effect = output.iloc[np.where(output['cols'] == 'treatment')[0][0],1]\n",
        "  sample_effect_b_add = output.iloc[np.where(output['cols'] == 'treatment:party[T.b]')[0][0],1]\n",
        "  sample_effect_d_add = output.iloc[np.where(output['cols'] == 'treatment:party[T.d]')[0][0],1]\n",
        "  sample_effect_f_add = output.iloc[np.where(output['cols'] == 'treatment:party[T.f]')[0][0],1]\n",
        "  sample_effect_g_add = output.iloc[np.where(output['cols'] == 'treatment:party[T.b]')[0][0],1]\n",
        "  sample_effect_i_add = output.iloc[np.where(output['cols'] == 'treatment:party[T.b]')[0][0],1]\n",
        "\n",
        "  # Save the relevant indicators\n",
        "  bootstrap_a.append(sample_effect)\n",
        "  bootstrap_b.append(sample_effect + sample_effect_b_add)\n",
        "  bootstrap_d.append(sample_effect + sample_effect_b_add + sample_effect_d_add)\n",
        "  bootstrap_f.append(sample_effect + sample_effect_b_add + sample_effect_d_add+ sample_effect_f_add)\n",
        "  bootstrap_g.append(sample_effect + sample_effect_b_add + sample_effect_d_add+ sample_effect_f_add + sample_effect_g_add)\n",
        "  bootstrap_i.append(sample_effect + sample_effect_b_add + sample_effect_d_add+ sample_effect_f_add + sample_effect_g_add + sample_effect_i_add)\n",
        "  bootstrap_diff.append(sample_effect_b_add + sample_effect_d_add+ sample_effect_f_add + sample_effect_g_add + sample_effect_i_add)\n",
        "\n",
        "  if i % 100 == 0:\n",
        "    print(\"On iteration: \" + str(i))"
      ],
      "metadata": {
        "colab": {
          "base_uri": "https://localhost:8080/"
        },
        "id": "qKvmDQ_-W2DM",
        "outputId": "6018ccf6-5cb2-4135-a5e4-2432460984bd"
      },
      "execution_count": null,
      "outputs": [
        {
          "output_type": "stream",
          "name": "stdout",
          "text": [
            "On iteration: 0\n",
            "On iteration: 100\n",
            "On iteration: 200\n",
            "On iteration: 300\n",
            "On iteration: 400\n",
            "On iteration: 500\n",
            "On iteration: 600\n",
            "On iteration: 700\n",
            "On iteration: 800\n",
            "On iteration: 900\n",
            "On iteration: 1000\n",
            "On iteration: 1100\n",
            "On iteration: 1200\n",
            "On iteration: 1300\n",
            "On iteration: 1400\n",
            "On iteration: 1500\n",
            "On iteration: 1600\n",
            "On iteration: 1700\n",
            "On iteration: 1800\n",
            "On iteration: 1900\n"
          ]
        }
      ]
    },
    {
      "cell_type": "code",
      "source": [
        "# Report summary statistics\n",
        "print(\"The party a std error is: \" + \n",
        "      str(round(np.std(bootstrap_a), 4)))\n",
        "print(\"The party b std error is: \" + \n",
        "      str(round(np.std(bootstrap_b), 4)))\n",
        "print(\"The party d std error is: \" + \n",
        "      str(round(np.std(bootstrap_d), 4)))\n",
        "print(\"The party f std error is: \" + \n",
        "      str(round(np.std(bootstrap_f), 4)))\n",
        "print(\"The party g std error is: \" + \n",
        "      str(round(np.std(bootstrap_g), 4)))\n",
        "print(\"The party i std error is: \" + \n",
        "      str(round(np.std(bootstrap_i), 4)))\n",
        "\n",
        "print(\"The difference std error is: \" + \n",
        "      str(round(np.std(bootstrap_diff), 4)))"
      ],
      "metadata": {
        "colab": {
          "base_uri": "https://localhost:8080/"
        },
        "id": "13qaIAIvW6zF",
        "outputId": "e7c7404a-d880-48fd-af31-c7e4aad54379"
      },
      "execution_count": null,
      "outputs": [
        {
          "output_type": "stream",
          "name": "stdout",
          "text": [
            "The party a std error is: 0.0097\n",
            "The party b std error is: 0.009\n",
            "The party d std error is: 0.017\n",
            "The party f std error is: 0.0261\n",
            "The party g std error is: 0.0373\n",
            "The party i std error is: 0.0496\n",
            "The difference std error is: 0.0575\n"
          ]
        }
      ]
    },
    {
      "cell_type": "markdown",
      "source": [
        "Write a function that can compute the standard errors for the\n",
        "mean of a data series via 1000 bootstrapped iterations.\n",
        "\n",
        "Assume that the data is provided in batches, and each batch\n",
        "must be deleted before the next batch is provided.\n",
        "\n",
        "Test the function on a dataset that comes in five separate\n",
        "batches, where each batch has 100,000 observations randomly\n",
        "and uniformly distributed from 30 to 50; and report the\n",
        "standard error.\n",
        "\n",
        "The function to generate random Poisson values is\n",
        "numpy.random.poisson(λ, n); and the function to generate\n",
        "Uniform data for testing is numpy.random.uniform(30, 50, n)."
      ],
      "metadata": {
        "id": "yoahrsBFUnlN"
      }
    },
    {
      "cell_type": "code",
      "source": [
        "def simulator(n_sims, n_batch, low, high, batch_size):\n",
        "    #list stores the streaming sum and counts:\n",
        "    summation = np.zeros(n_sims)\n",
        "    count = np.zeros(n_sims)\n",
        "    #repeat the main process of data-gen and bootstrapping\n",
        "    for i in range(n_batch):\n",
        "        data = np.random.uniform(low, high, batch_size)\n",
        "    #repeat the bootstrapping process\n",
        "    for i in range(n_sims):\n",
        "        #generate random poisson dist for each iteration\n",
        "        poisson = np.random.poisson(lam=1,size=len(data))\n",
        "        #poisson*data\n",
        "        m = np.multiply(poisson,data)\n",
        "        #store the sum and counts\n",
        "        summation[i] = summation[i] + np.sum(m)\n",
        "        count[i] = count[i] + np.sum(poisson)\n",
        "    return(summation, count)\n",
        "summation, count"
      ],
      "metadata": {
        "colab": {
          "base_uri": "https://localhost:8080/"
        },
        "id": "gFXULO_O4BQB",
        "outputId": "70ec10f2-4442-44d5-cd38-fb886d3144b4"
      },
      "execution_count": null,
      "outputs": [
        {
          "output_type": "execute_result",
          "data": {
            "text/plain": [
              "(array([0.        , 1.4924527 , 2.98514209, 5.97028418]),\n",
              " array([0., 1., 1., 2.]))"
            ]
          },
          "metadata": {},
          "execution_count": 16
        }
      ]
    },
    {
      "cell_type": "code",
      "source": [
        "#number of sims\n",
        "n_sims = int(1e3)\n",
        "#details of the data\n",
        "n_batch = 5\n",
        "batch_size = int(1e5)\n",
        "high = 50\n",
        "low = 30\n",
        "#run the simulation:\n",
        "s,c = simulator(n_sims=n_sims, n_batch=n_batch, batch_size=batch_size,\n",
        "                 low=low, high=high)"
      ],
      "metadata": {
        "id": "AkB8zXPN4ER5"
      },
      "execution_count": null,
      "outputs": []
    },
    {
      "cell_type": "code",
      "source": [
        "std_dev = np.std(s/c)\n",
        "round(std_dev, 4)"
      ],
      "metadata": {
        "colab": {
          "base_uri": "https://localhost:8080/"
        },
        "id": "ip51S29aAZKd",
        "outputId": "adc5f67a-704b-4c49-a600-744d3be8ba9b"
      },
      "execution_count": null,
      "outputs": [
        {
          "output_type": "execute_result",
          "data": {
            "text/plain": [
              "0.0182"
            ]
          },
          "metadata": {},
          "execution_count": 20
        }
      ]
    }
  ]
}
