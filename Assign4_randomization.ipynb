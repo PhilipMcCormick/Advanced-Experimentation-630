{
  "nbformat": 4,
  "nbformat_minor": 0,
  "metadata": {
    "colab": {
      "provenance": []
    },
    "kernelspec": {
      "name": "python3",
      "display_name": "Python 3"
    },
    "language_info": {
      "name": "python"
    }
  },
  "cells": [
    {
      "cell_type": "markdown",
      "source": [
        "Philip McCormick\n",
        "\n",
        "ECON 630-02\n",
        "\n",
        "Novemeber 21, 2022\n",
        "\n",
        "Assignment 4"
      ],
      "metadata": {
        "id": "y5njx1ZPYyb-"
      }
    },
    {
      "cell_type": "code",
      "source": [
        "import numpy as np\n",
        "import pandas as pd\n",
        "import statsmodels.formula.api as sm\n",
        "import matplotlib.pyplot as plt\n",
        "from scipy.stats import norm\n",
        "# Set a random seed\n",
        "np.random.seed(4)"
      ],
      "metadata": {
        "id": "GvOCJWLzNwiA"
      },
      "execution_count": 49,
      "outputs": []
    },
    {
      "cell_type": "code",
      "source": [
        "from google.colab import drive\n",
        "drive.mount('/content/drive')"
      ],
      "metadata": {
        "colab": {
          "base_uri": "https://localhost:8080/"
        },
        "id": "N9oVFeTNN2CE",
        "outputId": "6f126720-25b8-4ab2-bef0-68fe343e39e9"
      },
      "execution_count": 2,
      "outputs": [
        {
          "output_type": "stream",
          "name": "stdout",
          "text": [
            "Drive already mounted at /content/drive; to attempt to forcibly remount, call drive.mount(\"/content/drive\", force_remount=True).\n"
          ]
        }
      ]
    },
    {
      "cell_type": "code",
      "source": [
        "df = pd.read_csv('/content/drive/MyDrive/ECON 630/data_assignment4.csv')"
      ],
      "metadata": {
        "id": "mkwwQwQDN2cj"
      },
      "execution_count": 3,
      "outputs": []
    },
    {
      "cell_type": "code",
      "source": [
        "df.head()"
      ],
      "metadata": {
        "colab": {
          "base_uri": "https://localhost:8080/",
          "height": 206
        },
        "id": "sAvnGi82PMJm",
        "outputId": "7883beb5-7e11-4c75-a505-806b3f49881c"
      },
      "execution_count": 4,
      "outputs": [
        {
          "output_type": "execute_result",
          "data": {
            "text/plain": [
              "      city  treatment_person  treatment_city  treatment_twostage  \\\n",
              "0  atlanta                 0               0                   1   \n",
              "1  atlanta                 0               0                   1   \n",
              "2  atlanta                 0               0                   1   \n",
              "3  atlanta                 0               0                   1   \n",
              "4  atlanta                 0               0                   1   \n",
              "\n",
              "   revenue_person  revenue_city  revenue_twostage  \n",
              "0       27.454834     27.454834         30.054834  \n",
              "1       15.374318     15.374318         17.974318  \n",
              "2       23.229566     23.229566         25.829566  \n",
              "3        7.713634      7.713634         10.313634  \n",
              "4       12.333270     12.333270         14.933270  "
            ],
            "text/html": [
              "\n",
              "  <div id=\"df-361bdaf9-bb38-4e40-a3fd-d96c4e8811f6\">\n",
              "    <div class=\"colab-df-container\">\n",
              "      <div>\n",
              "<style scoped>\n",
              "    .dataframe tbody tr th:only-of-type {\n",
              "        vertical-align: middle;\n",
              "    }\n",
              "\n",
              "    .dataframe tbody tr th {\n",
              "        vertical-align: top;\n",
              "    }\n",
              "\n",
              "    .dataframe thead th {\n",
              "        text-align: right;\n",
              "    }\n",
              "</style>\n",
              "<table border=\"1\" class=\"dataframe\">\n",
              "  <thead>\n",
              "    <tr style=\"text-align: right;\">\n",
              "      <th></th>\n",
              "      <th>city</th>\n",
              "      <th>treatment_person</th>\n",
              "      <th>treatment_city</th>\n",
              "      <th>treatment_twostage</th>\n",
              "      <th>revenue_person</th>\n",
              "      <th>revenue_city</th>\n",
              "      <th>revenue_twostage</th>\n",
              "    </tr>\n",
              "  </thead>\n",
              "  <tbody>\n",
              "    <tr>\n",
              "      <th>0</th>\n",
              "      <td>atlanta</td>\n",
              "      <td>0</td>\n",
              "      <td>0</td>\n",
              "      <td>1</td>\n",
              "      <td>27.454834</td>\n",
              "      <td>27.454834</td>\n",
              "      <td>30.054834</td>\n",
              "    </tr>\n",
              "    <tr>\n",
              "      <th>1</th>\n",
              "      <td>atlanta</td>\n",
              "      <td>0</td>\n",
              "      <td>0</td>\n",
              "      <td>1</td>\n",
              "      <td>15.374318</td>\n",
              "      <td>15.374318</td>\n",
              "      <td>17.974318</td>\n",
              "    </tr>\n",
              "    <tr>\n",
              "      <th>2</th>\n",
              "      <td>atlanta</td>\n",
              "      <td>0</td>\n",
              "      <td>0</td>\n",
              "      <td>1</td>\n",
              "      <td>23.229566</td>\n",
              "      <td>23.229566</td>\n",
              "      <td>25.829566</td>\n",
              "    </tr>\n",
              "    <tr>\n",
              "      <th>3</th>\n",
              "      <td>atlanta</td>\n",
              "      <td>0</td>\n",
              "      <td>0</td>\n",
              "      <td>1</td>\n",
              "      <td>7.713634</td>\n",
              "      <td>7.713634</td>\n",
              "      <td>10.313634</td>\n",
              "    </tr>\n",
              "    <tr>\n",
              "      <th>4</th>\n",
              "      <td>atlanta</td>\n",
              "      <td>0</td>\n",
              "      <td>0</td>\n",
              "      <td>1</td>\n",
              "      <td>12.333270</td>\n",
              "      <td>12.333270</td>\n",
              "      <td>14.933270</td>\n",
              "    </tr>\n",
              "  </tbody>\n",
              "</table>\n",
              "</div>\n",
              "      <button class=\"colab-df-convert\" onclick=\"convertToInteractive('df-361bdaf9-bb38-4e40-a3fd-d96c4e8811f6')\"\n",
              "              title=\"Convert this dataframe to an interactive table.\"\n",
              "              style=\"display:none;\">\n",
              "        \n",
              "  <svg xmlns=\"http://www.w3.org/2000/svg\" height=\"24px\"viewBox=\"0 0 24 24\"\n",
              "       width=\"24px\">\n",
              "    <path d=\"M0 0h24v24H0V0z\" fill=\"none\"/>\n",
              "    <path d=\"M18.56 5.44l.94 2.06.94-2.06 2.06-.94-2.06-.94-.94-2.06-.94 2.06-2.06.94zm-11 1L8.5 8.5l.94-2.06 2.06-.94-2.06-.94L8.5 2.5l-.94 2.06-2.06.94zm10 10l.94 2.06.94-2.06 2.06-.94-2.06-.94-.94-2.06-.94 2.06-2.06.94z\"/><path d=\"M17.41 7.96l-1.37-1.37c-.4-.4-.92-.59-1.43-.59-.52 0-1.04.2-1.43.59L10.3 9.45l-7.72 7.72c-.78.78-.78 2.05 0 2.83L4 21.41c.39.39.9.59 1.41.59.51 0 1.02-.2 1.41-.59l7.78-7.78 2.81-2.81c.8-.78.8-2.07 0-2.86zM5.41 20L4 18.59l7.72-7.72 1.47 1.35L5.41 20z\"/>\n",
              "  </svg>\n",
              "      </button>\n",
              "      \n",
              "  <style>\n",
              "    .colab-df-container {\n",
              "      display:flex;\n",
              "      flex-wrap:wrap;\n",
              "      gap: 12px;\n",
              "    }\n",
              "\n",
              "    .colab-df-convert {\n",
              "      background-color: #E8F0FE;\n",
              "      border: none;\n",
              "      border-radius: 50%;\n",
              "      cursor: pointer;\n",
              "      display: none;\n",
              "      fill: #1967D2;\n",
              "      height: 32px;\n",
              "      padding: 0 0 0 0;\n",
              "      width: 32px;\n",
              "    }\n",
              "\n",
              "    .colab-df-convert:hover {\n",
              "      background-color: #E2EBFA;\n",
              "      box-shadow: 0px 1px 2px rgba(60, 64, 67, 0.3), 0px 1px 3px 1px rgba(60, 64, 67, 0.15);\n",
              "      fill: #174EA6;\n",
              "    }\n",
              "\n",
              "    [theme=dark] .colab-df-convert {\n",
              "      background-color: #3B4455;\n",
              "      fill: #D2E3FC;\n",
              "    }\n",
              "\n",
              "    [theme=dark] .colab-df-convert:hover {\n",
              "      background-color: #434B5C;\n",
              "      box-shadow: 0px 1px 3px 1px rgba(0, 0, 0, 0.15);\n",
              "      filter: drop-shadow(0px 1px 2px rgba(0, 0, 0, 0.3));\n",
              "      fill: #FFFFFF;\n",
              "    }\n",
              "  </style>\n",
              "\n",
              "      <script>\n",
              "        const buttonEl =\n",
              "          document.querySelector('#df-361bdaf9-bb38-4e40-a3fd-d96c4e8811f6 button.colab-df-convert');\n",
              "        buttonEl.style.display =\n",
              "          google.colab.kernel.accessAllowed ? 'block' : 'none';\n",
              "\n",
              "        async function convertToInteractive(key) {\n",
              "          const element = document.querySelector('#df-361bdaf9-bb38-4e40-a3fd-d96c4e8811f6');\n",
              "          const dataTable =\n",
              "            await google.colab.kernel.invokeFunction('convertToInteractive',\n",
              "                                                     [key], {});\n",
              "          if (!dataTable) return;\n",
              "\n",
              "          const docLinkHtml = 'Like what you see? Visit the ' +\n",
              "            '<a target=\"_blank\" href=https://colab.research.google.com/notebooks/data_table.ipynb>data table notebook</a>'\n",
              "            + ' to learn more about interactive tables.';\n",
              "          element.innerHTML = '';\n",
              "          dataTable['output_type'] = 'display_data';\n",
              "          await google.colab.output.renderOutput(dataTable, element);\n",
              "          const docLink = document.createElement('div');\n",
              "          docLink.innerHTML = docLinkHtml;\n",
              "          element.appendChild(docLink);\n",
              "        }\n",
              "      </script>\n",
              "    </div>\n",
              "  </div>\n",
              "  "
            ]
          },
          "metadata": {},
          "execution_count": 4
        }
      ]
    },
    {
      "cell_type": "code",
      "source": [
        "df.city.unique()"
      ],
      "metadata": {
        "colab": {
          "base_uri": "https://localhost:8080/"
        },
        "id": "CbgzcKVAXE2b",
        "outputId": "34850889-aa42-46dc-eccd-1730b4a333f0"
      },
      "execution_count": 5,
      "outputs": [
        {
          "output_type": "execute_result",
          "data": {
            "text/plain": [
              "array(['atlanta', 'austin', 'baltimore', 'boston', 'charlotte', 'chicago',\n",
              "       'columbus', 'dallas', 'denver', 'detroit', 'elpaso', 'fresno',\n",
              "       'houston', 'jacksonville', 'kansascity', 'lasvegas', 'losangeles',\n",
              "       'louisville', 'memphis', 'miami', 'milwaukee', 'minneapolis',\n",
              "       'nashville', 'newyork', 'oklahomacity', 'omaha', 'philadelphia',\n",
              "       'phoenix', 'portland', 'sanantonio', 'sandiego', 'sanfrancisco',\n",
              "       'sanjose', 'seattle', 'tampa', 'washingtondc'], dtype=object)"
            ]
          },
          "metadata": {},
          "execution_count": 5
        }
      ]
    },
    {
      "cell_type": "code",
      "source": [],
      "metadata": {
        "id": "qf7-K5WjK2P8"
      },
      "execution_count": 5,
      "outputs": []
    },
    {
      "cell_type": "code",
      "source": [
        "# calculate the number of users in each city\n",
        "df.groupby('city')['treatment_twostage'].count()"
      ],
      "metadata": {
        "colab": {
          "base_uri": "https://localhost:8080/"
        },
        "id": "Ypa27AqTHLum",
        "outputId": "0b1d4d5f-9077-4515-f791-2989a2566678"
      },
      "execution_count": 6,
      "outputs": [
        {
          "output_type": "execute_result",
          "data": {
            "text/plain": [
              "city\n",
              "atlanta         1000\n",
              "austin          1000\n",
              "baltimore       1000\n",
              "boston          1000\n",
              "charlotte       1000\n",
              "chicago         1000\n",
              "columbus        1000\n",
              "dallas          1000\n",
              "denver          1000\n",
              "detroit         1000\n",
              "elpaso          1000\n",
              "fresno          1000\n",
              "houston         1000\n",
              "jacksonville    1000\n",
              "kansascity      1000\n",
              "lasvegas        1000\n",
              "losangeles      1000\n",
              "louisville      1000\n",
              "memphis         1000\n",
              "miami           1000\n",
              "milwaukee       1000\n",
              "minneapolis     1000\n",
              "nashville       1000\n",
              "newyork         1000\n",
              "oklahomacity    1000\n",
              "omaha           1000\n",
              "philadelphia    1000\n",
              "phoenix         1000\n",
              "portland        1000\n",
              "sanantonio      1000\n",
              "sandiego        1000\n",
              "sanfrancisco    1000\n",
              "sanjose         1000\n",
              "seattle         1000\n",
              "tampa           1000\n",
              "washingtondc    1000\n",
              "Name: treatment_twostage, dtype: int64"
            ]
          },
          "metadata": {},
          "execution_count": 6
        }
      ]
    },
    {
      "cell_type": "code",
      "source": [
        "df.groupby('city')['treatment_twostage'].sum()"
      ],
      "metadata": {
        "colab": {
          "base_uri": "https://localhost:8080/"
        },
        "id": "8hl0Zvb_WFwF",
        "outputId": "79e0b5b8-6210-4daf-bdf3-0fb9c7944b62"
      },
      "execution_count": 7,
      "outputs": [
        {
          "output_type": "execute_result",
          "data": {
            "text/plain": [
              "city\n",
              "atlanta         200\n",
              "austin          300\n",
              "baltimore       100\n",
              "boston          300\n",
              "charlotte       200\n",
              "chicago         200\n",
              "columbus        400\n",
              "dallas          400\n",
              "denver          600\n",
              "detroit         500\n",
              "elpaso          300\n",
              "fresno          100\n",
              "houston         700\n",
              "jacksonville    900\n",
              "kansascity      500\n",
              "lasvegas        800\n",
              "losangeles      700\n",
              "louisville      800\n",
              "memphis         500\n",
              "miami           300\n",
              "milwaukee       600\n",
              "minneapolis     400\n",
              "nashville       700\n",
              "newyork         500\n",
              "oklahomacity    800\n",
              "omaha           800\n",
              "philadelphia    600\n",
              "phoenix         700\n",
              "portland        200\n",
              "sanantonio      600\n",
              "sandiego        400\n",
              "sanfrancisco    900\n",
              "sanjose         900\n",
              "seattle         100\n",
              "tampa           900\n",
              "washingtondc    100\n",
              "Name: treatment_twostage, dtype: int64"
            ]
          },
          "metadata": {},
          "execution_count": 7
        }
      ]
    },
    {
      "cell_type": "code",
      "source": [
        "df.treatment_twostage.sum()"
      ],
      "metadata": {
        "colab": {
          "base_uri": "https://localhost:8080/"
        },
        "id": "NKREHkFAiJH3",
        "outputId": "48427ec3-80f8-486c-ec5f-1c250900ed63"
      },
      "execution_count": 8,
      "outputs": [
        {
          "output_type": "execute_result",
          "data": {
            "text/plain": [
              "18000"
            ]
          },
          "metadata": {},
          "execution_count": 8
        }
      ]
    },
    {
      "cell_type": "code",
      "source": [
        "df.city.count()"
      ],
      "metadata": {
        "colab": {
          "base_uri": "https://localhost:8080/"
        },
        "id": "XFCoUcotOfZX",
        "outputId": "0873ebcc-c6f1-4044-8ea8-fbbb185a6925"
      },
      "execution_count": 9,
      "outputs": [
        {
          "output_type": "execute_result",
          "data": {
            "text/plain": [
              "36000"
            ]
          },
          "metadata": {},
          "execution_count": 9
        }
      ]
    },
    {
      "cell_type": "code",
      "source": [
        "from collections import Counter\n",
        "\n",
        "Counter(df.city).keys()"
      ],
      "metadata": {
        "colab": {
          "base_uri": "https://localhost:8080/"
        },
        "id": "XFNj-PrsJjR6",
        "outputId": "a7d8a33d-03b9-46df-88b5-884fb390ee8c"
      },
      "execution_count": 10,
      "outputs": [
        {
          "output_type": "execute_result",
          "data": {
            "text/plain": [
              "dict_keys(['atlanta', 'austin', 'baltimore', 'boston', 'charlotte', 'chicago', 'columbus', 'dallas', 'denver', 'detroit', 'elpaso', 'fresno', 'houston', 'jacksonville', 'kansascity', 'lasvegas', 'losangeles', 'louisville', 'memphis', 'miami', 'milwaukee', 'minneapolis', 'nashville', 'newyork', 'oklahomacity', 'omaha', 'philadelphia', 'phoenix', 'portland', 'sanantonio', 'sandiego', 'sanfrancisco', 'sanjose', 'seattle', 'tampa', 'washingtondc'])"
            ]
          },
          "metadata": {},
          "execution_count": 10
        }
      ]
    },
    {
      "cell_type": "markdown",
      "source": [
        "\n",
        "**Problem 1: Network Effects**\n",
        "\n",
        "\n",
        "1. (10 points) Using the first version of the experiment – person-level randomization – esti-\n",
        "mate the treatment effect and the standard errors. You should use at least 2,000 bootstrap\n",
        "iterations.\n"
      ],
      "metadata": {
        "id": "t-JTsgXDNNEh"
      }
    },
    {
      "cell_type": "code",
      "source": [
        "# Define a regression function\n",
        "def regression(f, df):\n",
        "  result = sm.ols(formula = f, data = df).fit()\n",
        "  return(result.params[1])\n",
        "\n",
        "# Get point estimate\n",
        "pointestimate = regression('revenue_person ~ treatment_person', df)\n",
        "print(\"Estimated effect of treatment is: \" + str(round(pointestimate, 3)))\n",
        "\n",
        "# Get summary on number of treated / control units\n",
        "print(\"There are \" + str(sum(df['treatment_person'])) + \" treated units and \" + \n",
        "      str(len(df['treatment_person']) - sum(df['treatment_person'])) + \" control units\")"
      ],
      "metadata": {
        "colab": {
          "base_uri": "https://localhost:8080/"
        },
        "id": "ItxkNpYjVB0-",
        "outputId": "c20486c0-5271-4759-adfd-671bb7c29acf"
      },
      "execution_count": 11,
      "outputs": [
        {
          "output_type": "stream",
          "name": "stdout",
          "text": [
            "Estimated effect of treatment is: 3.482\n",
            "There are 18000 treated units and 18000 control units\n"
          ]
        }
      ]
    },
    {
      "cell_type": "code",
      "source": [
        "index_treated = np.where(df['treatment_person'] == 1)[0]\n",
        "index_control = np.where(df['treatment_person'] == 0)[0]\n",
        "bootstrap = []\n",
        "\n",
        "# For each bootstrap iteration, sample treated and control units separately,\n",
        "# thus preserving 1800 treated and 1800 control units in every iteration\n",
        "for i in range(2000):\n",
        "  treated_sample = np.random.choice(index_treated, len(index_treated), \n",
        "                                    replace = True)\n",
        "  control_sample = np.random.choice(index_control, len(index_control), \n",
        "                                    replace = True)\n",
        "  sample = np.append(treated_sample, control_sample)\n",
        "  estimate = regression('revenue_person ~ treatment_person', df.iloc[sample,])\n",
        "  bootstrap.append(estimate)\n",
        "\n",
        "# Compute standard deviation of the point estimates across all iterations, \n",
        "# which is the standard error of the original point estimate\n",
        "print(\"Estimated effect of treatment is: \" + str(round(estimate, 3)))\n",
        "print(\"The standard error of the estimate: \" + str(round(np.std(bootstrap), 4)))\n",
        "print(\"The t-statistic is: \" + str(round(pointestimate/np.std(bootstrap), 4)))"
      ],
      "metadata": {
        "colab": {
          "base_uri": "https://localhost:8080/"
        },
        "id": "4eQ4D4vCVEIc",
        "outputId": "3a9b57e4-716d-4d77-81bb-8def87845755"
      },
      "execution_count": 12,
      "outputs": [
        {
          "output_type": "stream",
          "name": "stdout",
          "text": [
            "Estimated effect of treatment is: 3.3\n",
            "The standard error of the estimate: 0.1613\n",
            "The t-statistic is: 21.588\n"
          ]
        }
      ]
    },
    {
      "cell_type": "markdown",
      "source": [
        "2. (10 points) Using the second version of the experiment – city-level randomization – estimate\n",
        "the treatment effect and the standard errors. Remember that the units of the analysis in this\n",
        "schematic are not people but cities. Again, you should use at least 2,000 bootstrap iterations.\n"
      ],
      "metadata": {
        "id": "xGC0Dy5RNSJM"
      }
    },
    {
      "cell_type": "code",
      "source": [
        "# Get point estimate\n",
        "pointestimate2 = regression('revenue_city ~ treatment_city', df)\n",
        "print(\"Estimated effect of treatment is: \" + str(round(pointestimate2, 3)))\n",
        "\n",
        "# Get summary on number of treated / control units\n",
        "print(\"There are \" + str(sum(df['treatment_city'])) + \" treated units and \" + \n",
        "      str(len(df['treatment_city']) - sum(df['treatment_city'])) + \" control units\")"
      ],
      "metadata": {
        "colab": {
          "base_uri": "https://localhost:8080/"
        },
        "id": "DYv2VCZ4W9Qd",
        "outputId": "45460e58-b435-4aba-ec5f-91496c19e2f6"
      },
      "execution_count": 13,
      "outputs": [
        {
          "output_type": "stream",
          "name": "stdout",
          "text": [
            "Estimated effect of treatment is: 1.151\n",
            "There are 18000 treated units and 18000 control units\n"
          ]
        }
      ]
    },
    {
      "cell_type": "code",
      "source": [
        "index_treated = np.where(df['treatment_city'] == 1)[0]\n",
        "index_control = np.where(df['treatment_city'] == 0)[0]\n",
        "bootstrap2 = []\n",
        "\n",
        "# For each bootstrap iteration, sample treated and control units separately,\n",
        "# thus preserving 18 treated and 18 control units in every iteration(or 1000 people in treatment and control per city)\n",
        "for i in range(2000):\n",
        "  treated_sample = np.random.choice(index_treated, int(len(df['city'].unique())/2), \n",
        "                                    replace = True)\n",
        "  control_sample = np.random.choice(index_control, int(len(df['city'].unique())/2), \n",
        "                                    replace = True)\n",
        "  sample = np.append(treated_sample, control_sample)\n",
        "  estimate2 = regression('revenue_city ~ treatment_city', df.iloc[sample,])\n",
        "  bootstrap2.append(estimate2)\n",
        "\n",
        "# Compute standard deviation of the point estimates across all iterations, \n",
        "# which is the standard error of the original point estimate\n",
        "print(\"Estimated effect of treatment is: \" + str(round(pointestimate2, 3)))\n",
        "print(\"The standard error of the estimate: \" + str(round(np.std(bootstrap2), 4)))\n",
        "print(\"The t-statistic is: \" + str(round(pointestimate2/np.std(bootstrap2), 4)))"
      ],
      "metadata": {
        "colab": {
          "base_uri": "https://localhost:8080/"
        },
        "id": "fKxQXWJPlKyq",
        "outputId": "a256b14a-df3f-4cca-971d-b4963f64c1e9"
      },
      "execution_count": 21,
      "outputs": [
        {
          "output_type": "stream",
          "name": "stdout",
          "text": [
            "Estimated effect of treatment is: 1.151\n",
            "The standard error of the estimate: 5.0362\n",
            "The t-statistic is: 0.2286\n"
          ]
        }
      ]
    },
    {
      "cell_type": "markdown",
      "source": [
        "3. (10 points) Compare the two estimates on the basis of bias and variance. Under what\n",
        "conditions would you trust each one more?\n"
      ],
      "metadata": {
        "id": "2CLtDy2yNUmP"
      }
    },
    {
      "cell_type": "markdown",
      "source": [
        "For the treated person variance, we compute a much smaller standard error (0.16) than the treated city (5.04). This is due to treating the person-level experiment as 36,000 observations as oppose to 36 unique cities with their own variances. Though the treated person variance is lower than treated city, there may be more bias in this version of the experiment due not accounting for regions in which the experiment is taking place. The trade-off of estimates would be to trust the treated city for having less bias but more variance, while the treated person has more bias but less variance."
      ],
      "metadata": {
        "id": "9Q-2tCiuRhcn"
      }
    },
    {
      "cell_type": "markdown",
      "source": [
        "4. In addition to the concerns around bias and variance discussed above, these two estimates\n",
        "only target the total treatment effect; and do not allow us to identify a direct effect from any\n",
        "indirect effects. We will use the two-stage randomization schematic to improve on this. We\n",
        "will make the strong simplifying assumptions that the direct effect is constant, and that the\n",
        "direct and indirect treatment effects are additive.\n",
        "\n",
        "(a) (10 points) First, estimate the treatment effect within each city. Second, plot the\n",
        "estimated treatment effect against the proportion of the city treated, and fit a straight\n",
        "line to the data.\n"
      ],
      "metadata": {
        "id": "cBVUJJkANWkk"
      }
    },
    {
      "cell_type": "code",
      "source": [
        "treatment_effects=[]\n",
        "for feature in list(df['city'].unique()):\n",
        "  df1 = df.loc[df[\"city\"]==feature]\n",
        "  result = sm.ols(formula=\"revenue_twostage ~ treatment_twostage\", \n",
        "                data = df1).fit()\n",
        "  te = result.params[0] + result.params[1]\n",
        "  treatment_effects.append(te)\n",
        "  print(\"The treatment effect \" + str(feature) + \": \" + str(round(te, 2)))"
      ],
      "metadata": {
        "colab": {
          "base_uri": "https://localhost:8080/"
        },
        "id": "C7FV9iJdmSl_",
        "outputId": "b03c4c08-1118-4142-ba3b-18cd2fccbd2d"
      },
      "execution_count": 26,
      "outputs": [
        {
          "output_type": "stream",
          "name": "stdout",
          "text": [
            "The treatment effect atlanta: 20.97\n",
            "The treatment effect austin: 30.46\n",
            "The treatment effect baltimore: 5.3\n",
            "The treatment effect boston: 20.52\n",
            "The treatment effect charlotte: 5.1\n",
            "The treatment effect chicago: 6.5\n",
            "The treatment effect columbus: 14.74\n",
            "The treatment effect dallas: 24.61\n",
            "The treatment effect denver: 23.37\n",
            "The treatment effect detroit: 11.4\n",
            "The treatment effect elpaso: 41.24\n",
            "The treatment effect fresno: 23.73\n",
            "The treatment effect houston: 42.07\n",
            "The treatment effect jacksonville: 43.69\n",
            "The treatment effect kansascity: 20.7\n",
            "The treatment effect lasvegas: 43.79\n",
            "The treatment effect losangeles: 9.13\n",
            "The treatment effect louisville: 31.76\n",
            "The treatment effect memphis: 30.97\n",
            "The treatment effect miami: 16.71\n",
            "The treatment effect milwaukee: 16.61\n",
            "The treatment effect minneapolis: 15.73\n",
            "The treatment effect nashville: 22.56\n",
            "The treatment effect newyork: 20.77\n",
            "The treatment effect oklahomacity: 5.15\n",
            "The treatment effect omaha: 42.72\n",
            "The treatment effect philadelphia: 10.16\n",
            "The treatment effect phoenix: 10.3\n",
            "The treatment effect portland: 39.46\n",
            "The treatment effect sanantonio: 13.8\n",
            "The treatment effect sandiego: 33.21\n",
            "The treatment effect sanfrancisco: 15.89\n",
            "The treatment effect sanjose: 19.18\n",
            "The treatment effect seattle: 31.4\n",
            "The treatment effect tampa: 14.13\n",
            "The treatment effect washingtondc: 8.63\n"
          ]
        }
      ]
    },
    {
      "cell_type": "code",
      "source": [
        "# yint = direct effect \n",
        "#xint = indirect effect\n",
        "y = treatment_effects\n",
        "x = df.groupby('city')['treatment_twostage'].sum()"
      ],
      "metadata": {
        "id": "ZCiyBfGungzU",
        "colab": {
          "base_uri": "https://localhost:8080/"
        },
        "outputId": "6f4d3f65-64b7-475e-92e7-0c43567be69f"
      },
      "execution_count": 43,
      "outputs": [
        {
          "output_type": "execute_result",
          "data": {
            "text/plain": [
              "city\n",
              "atlanta         200\n",
              "austin          300\n",
              "baltimore       100\n",
              "boston          300\n",
              "charlotte       200\n",
              "chicago         200\n",
              "columbus        400\n",
              "dallas          400\n",
              "denver          600\n",
              "detroit         500\n",
              "elpaso          300\n",
              "fresno          100\n",
              "houston         700\n",
              "jacksonville    900\n",
              "kansascity      500\n",
              "lasvegas        800\n",
              "losangeles      700\n",
              "louisville      800\n",
              "memphis         500\n",
              "miami           300\n",
              "milwaukee       600\n",
              "minneapolis     400\n",
              "nashville       700\n",
              "newyork         500\n",
              "oklahomacity    800\n",
              "omaha           800\n",
              "philadelphia    600\n",
              "phoenix         700\n",
              "portland        200\n",
              "sanantonio      600\n",
              "sandiego        400\n",
              "sanfrancisco    900\n",
              "sanjose         900\n",
              "seattle         100\n",
              "tampa           900\n",
              "washingtondc    100\n",
              "Name: treatment_twostage, dtype: int64"
            ]
          },
          "metadata": {},
          "execution_count": 43
        }
      ]
    },
    {
      "cell_type": "code",
      "source": [
        "#find line of best fit\n",
        "m, b = np.polyfit(x, y, 1)\n",
        "\n",
        "#add points to plot\n",
        "plt.plot(x, y, 'o')\n",
        "\n",
        "#add line of best fit to plot\n",
        "plt.plot(x, m*x + b) "
      ],
      "metadata": {
        "colab": {
          "base_uri": "https://localhost:8080/",
          "height": 283
        },
        "id": "-frKA7p7tZeJ",
        "outputId": "f1a7165c-d7d7-4598-b0dc-cd0901f3a554"
      },
      "execution_count": 44,
      "outputs": [
        {
          "output_type": "execute_result",
          "data": {
            "text/plain": [
              "[<matplotlib.lines.Line2D at 0x7f339c8ca790>]"
            ]
          },
          "metadata": {},
          "execution_count": 44
        },
        {
          "output_type": "display_data",
          "data": {
            "text/plain": [
              "<Figure size 432x288 with 1 Axes>"
            ],
            "image/png": "[encoded data removed]"
          },
          "metadata": {
            "needs_background": "light"
          }
        }
      ]
    },
    {
      "cell_type": "markdown",
      "source": [
        "(b) (10 points) Use the line to extract the direct treatment effect and the indirect treatment\n",
        "effect on the treated. Since the direct effect is constant, a valid interpretation is that it\n",
        "is the effect of receiving treatment when nobody else in your city does. Furthermore, the\n",
        "indirect effect on the treated is the added effect, for a given treated user, as you move\n",
        "from nobody in your city to everyone in your city receiving treatment."
      ],
      "metadata": {
        "id": "0aK4Ti1KY0Dl"
      }
    },
    {
      "cell_type": "code",
      "source": [
        "# yint = direct effect \n",
        "\n",
        "b"
      ],
      "metadata": {
        "colab": {
          "base_uri": "https://localhost:8080/"
        },
        "id": "Q29EGvFHu29q",
        "outputId": "b6194585-656e-4d37-8906-e01a5e4fc641"
      },
      "execution_count": 45,
      "outputs": [
        {
          "output_type": "execute_result",
          "data": {
            "text/plain": [
              "18.191537881429557"
            ]
          },
          "metadata": {},
          "execution_count": 45
        }
      ]
    },
    {
      "cell_type": "code",
      "source": [
        "#slope = indirect effect\n",
        "\n",
        "m"
      ],
      "metadata": {
        "colab": {
          "base_uri": "https://localhost:8080/"
        },
        "id": "vIHzZ2K6x9pC",
        "outputId": "9f9c0f63-63e7-4f49-b421-cc48a277e60a"
      },
      "execution_count": 46,
      "outputs": [
        {
          "output_type": "execute_result",
          "data": {
            "text/plain": [
              "0.007309658266059515"
            ]
          },
          "metadata": {},
          "execution_count": 46
        }
      ]
    },
    {
      "cell_type": "markdown",
      "source": [
        "(c) (10 points) Bootstrapping for two-stage randomization is fairly complex. Rather than\n",
        "implement it technically, describe verbally how you would do it."
      ],
      "metadata": {
        "id": "kDrlz_BZY2KA"
      }
    },
    {
      "cell_type": "markdown",
      "source": [
        "In order to run the bootstrap for the two-stage randomization experiment, we would need to randomize at the city level, set each city to a random fraction of treatment that would total a 50-50 split of treatment and control (18000 each), from there we would get the estimated treatment effect for each of the cities, and iterate through that process 2000 times. We would also look for the standard error and a t-stat to understand significance. This would closely replicate the true effect on the population that the bootstrap aims to capture. "
      ],
      "metadata": {
        "id": "tuvjldTpU2mu"
      }
    },
    {
      "cell_type": "markdown",
      "source": [
        "(d) (10 points) Note that standard errors generated when you implement the bootstrap\n",
        "are respectively 0.32 and 0.58. Using this information, verbally compare this estimator\n",
        "to the first two on bias and variance."
      ],
      "metadata": {
        "id": "7IBzDG3ZY37f"
      }
    },
    {
      "cell_type": "markdown",
      "source": [
        "With these standard errors in mind we can assume that the two-stage randomization has lower bias and variance than the person and city randomization. We can see lower variance computed when compared to the city randomization and can conclude that this estimator accounts for the bias from the person randomization. "
      ],
      "metadata": {
        "id": "GHZhedhoW6-e"
      }
    },
    {
      "cell_type": "markdown",
      "source": [
        "**Problem 2**"
      ],
      "metadata": {
        "id": "MDp4kh8jQrtR"
      }
    },
    {
      "cell_type": "code",
      "source": [
        "# constructing control, treatment and power:\n",
        "c = np.arange(1000,3001,1) # defining control series\n",
        "power = np.arange(0.60,0.91,0.1) # defining power series"
      ],
      "metadata": {
        "id": "hCWl-jqoQy6_"
      },
      "execution_count": 50,
      "outputs": []
    },
    {
      "cell_type": "code",
      "source": [
        "# example treatment count with power = 60% and control_n = 1000\n",
        "treatment = 1/(pow((0.1/(norm.ppf(0.975) - norm.ppf(1-0.60))),2)-(1/1000))\n",
        "print(f'test treatment_n {treatment}')"
      ],
      "metadata": {
        "colab": {
          "base_uri": "https://localhost:8080/"
        },
        "id": "1_2LH-Q1Q1c9",
        "outputId": "1a0ca669-3f11-422f-af6c-61db531300ad"
      },
      "execution_count": 51,
      "outputs": [
        {
          "output_type": "stream",
          "name": "stdout",
          "text": [
            "test treatment_n 960.3022987711976\n"
          ]
        }
      ]
    },
    {
      "cell_type": "code",
      "source": [
        "output = pd.DataFrame(columns = ['power','control','treatment'],index = range(len(c)*len(power)))        \n",
        "counter = 0\n",
        "for i in range(len(power)):\n",
        "    for j in range(len(c)):\n",
        "        output.power[counter] = power[i]\n",
        "        output.control[counter] = c[j]\n",
        "        output.treatment[counter] = 1/(pow((0.1/(norm.ppf(0.975) - norm.ppf(1- power[i]))),2)-(1/c[j]))\n",
        "        counter = counter + 1"
      ],
      "metadata": {
        "id": "Ro9RsylcQ4xh"
      },
      "execution_count": 52,
      "outputs": []
    },
    {
      "cell_type": "code",
      "source": [
        "output.drop(output[(output['treatment'] < 0)].index,inplace = True)\n",
        "output.drop(output[(output['treatment'] >= 3000)].index,inplace = True)\n",
        "output.head()"
      ],
      "metadata": {
        "colab": {
          "base_uri": "https://localhost:8080/",
          "height": 206
        },
        "id": "ceSemgrwQ6Ry",
        "outputId": "e6b66697-0abc-4dde-87a8-864e6714512a"
      },
      "execution_count": 53,
      "outputs": [
        {
          "output_type": "execute_result",
          "data": {
            "text/plain": [
              "  power control   treatment\n",
              "0   0.6    1000  960.302299\n",
              "1   0.6    1001  959.381922\n",
              "2   0.6    1002  958.465141\n",
              "3   0.6    1003  957.551932\n",
              "4   0.6    1004  956.642276"
            ],
            "text/html": [
              "\n",
              "  <div id=\"df-c0c62f25-8396-4170-a622-f969ea404fac\">\n",
              "    <div class=\"colab-df-container\">\n",
              "      <div>\n",
              "<style scoped>\n",
              "    .dataframe tbody tr th:only-of-type {\n",
              "        vertical-align: middle;\n",
              "    }\n",
              "\n",
              "    .dataframe tbody tr th {\n",
              "        vertical-align: top;\n",
              "    }\n",
              "\n",
              "    .dataframe thead th {\n",
              "        text-align: right;\n",
              "    }\n",
              "</style>\n",
              "<table border=\"1\" class=\"dataframe\">\n",
              "  <thead>\n",
              "    <tr style=\"text-align: right;\">\n",
              "      <th></th>\n",
              "      <th>power</th>\n",
              "      <th>control</th>\n",
              "      <th>treatment</th>\n",
              "    </tr>\n",
              "  </thead>\n",
              "  <tbody>\n",
              "    <tr>\n",
              "      <th>0</th>\n",
              "      <td>0.6</td>\n",
              "      <td>1000</td>\n",
              "      <td>960.302299</td>\n",
              "    </tr>\n",
              "    <tr>\n",
              "      <th>1</th>\n",
              "      <td>0.6</td>\n",
              "      <td>1001</td>\n",
              "      <td>959.381922</td>\n",
              "    </tr>\n",
              "    <tr>\n",
              "      <th>2</th>\n",
              "      <td>0.6</td>\n",
              "      <td>1002</td>\n",
              "      <td>958.465141</td>\n",
              "    </tr>\n",
              "    <tr>\n",
              "      <th>3</th>\n",
              "      <td>0.6</td>\n",
              "      <td>1003</td>\n",
              "      <td>957.551932</td>\n",
              "    </tr>\n",
              "    <tr>\n",
              "      <th>4</th>\n",
              "      <td>0.6</td>\n",
              "      <td>1004</td>\n",
              "      <td>956.642276</td>\n",
              "    </tr>\n",
              "  </tbody>\n",
              "</table>\n",
              "</div>\n",
              "      <button class=\"colab-df-convert\" onclick=\"convertToInteractive('df-c0c62f25-8396-4170-a622-f969ea404fac')\"\n",
              "              title=\"Convert this dataframe to an interactive table.\"\n",
              "              style=\"display:none;\">\n",
              "        \n",
              "  <svg xmlns=\"http://www.w3.org/2000/svg\" height=\"24px\"viewBox=\"0 0 24 24\"\n",
              "       width=\"24px\">\n",
              "    <path d=\"M0 0h24v24H0V0z\" fill=\"none\"/>\n",
              "    <path d=\"M18.56 5.44l.94 2.06.94-2.06 2.06-.94-2.06-.94-.94-2.06-.94 2.06-2.06.94zm-11 1L8.5 8.5l.94-2.06 2.06-.94-2.06-.94L8.5 2.5l-.94 2.06-2.06.94zm10 10l.94 2.06.94-2.06 2.06-.94-2.06-.94-.94-2.06-.94 2.06-2.06.94z\"/><path d=\"M17.41 7.96l-1.37-1.37c-.4-.4-.92-.59-1.43-.59-.52 0-1.04.2-1.43.59L10.3 9.45l-7.72 7.72c-.78.78-.78 2.05 0 2.83L4 21.41c.39.39.9.59 1.41.59.51 0 1.02-.2 1.41-.59l7.78-7.78 2.81-2.81c.8-.78.8-2.07 0-2.86zM5.41 20L4 18.59l7.72-7.72 1.47 1.35L5.41 20z\"/>\n",
              "  </svg>\n",
              "      </button>\n",
              "      \n",
              "  <style>\n",
              "    .colab-df-container {\n",
              "      display:flex;\n",
              "      flex-wrap:wrap;\n",
              "      gap: 12px;\n",
              "    }\n",
              "\n",
              "    .colab-df-convert {\n",
              "      background-color: #E8F0FE;\n",
              "      border: none;\n",
              "      border-radius: 50%;\n",
              "      cursor: pointer;\n",
              "      display: none;\n",
              "      fill: #1967D2;\n",
              "      height: 32px;\n",
              "      padding: 0 0 0 0;\n",
              "      width: 32px;\n",
              "    }\n",
              "\n",
              "    .colab-df-convert:hover {\n",
              "      background-color: #E2EBFA;\n",
              "      box-shadow: 0px 1px 2px rgba(60, 64, 67, 0.3), 0px 1px 3px 1px rgba(60, 64, 67, 0.15);\n",
              "      fill: #174EA6;\n",
              "    }\n",
              "\n",
              "    [theme=dark] .colab-df-convert {\n",
              "      background-color: #3B4455;\n",
              "      fill: #D2E3FC;\n",
              "    }\n",
              "\n",
              "    [theme=dark] .colab-df-convert:hover {\n",
              "      background-color: #434B5C;\n",
              "      box-shadow: 0px 1px 3px 1px rgba(0, 0, 0, 0.15);\n",
              "      filter: drop-shadow(0px 1px 2px rgba(0, 0, 0, 0.3));\n",
              "      fill: #FFFFFF;\n",
              "    }\n",
              "  </style>\n",
              "\n",
              "      <script>\n",
              "        const buttonEl =\n",
              "          document.querySelector('#df-c0c62f25-8396-4170-a622-f969ea404fac button.colab-df-convert');\n",
              "        buttonEl.style.display =\n",
              "          google.colab.kernel.accessAllowed ? 'block' : 'none';\n",
              "\n",
              "        async function convertToInteractive(key) {\n",
              "          const element = document.querySelector('#df-c0c62f25-8396-4170-a622-f969ea404fac');\n",
              "          const dataTable =\n",
              "            await google.colab.kernel.invokeFunction('convertToInteractive',\n",
              "                                                     [key], {});\n",
              "          if (!dataTable) return;\n",
              "\n",
              "          const docLinkHtml = 'Like what you see? Visit the ' +\n",
              "            '<a target=\"_blank\" href=https://colab.research.google.com/notebooks/data_table.ipynb>data table notebook</a>'\n",
              "            + ' to learn more about interactive tables.';\n",
              "          element.innerHTML = '';\n",
              "          dataTable['output_type'] = 'display_data';\n",
              "          await google.colab.output.renderOutput(dataTable, element);\n",
              "          const docLink = document.createElement('div');\n",
              "          docLink.innerHTML = docLinkHtml;\n",
              "          element.appendChild(docLink);\n",
              "        }\n",
              "      </script>\n",
              "    </div>\n",
              "  </div>\n",
              "  "
            ]
          },
          "metadata": {},
          "execution_count": 53
        }
      ]
    },
    {
      "cell_type": "code",
      "source": [
        "fig,ax = plt.subplots()\n",
        "for i in range(len(power)):\n",
        "    x = output[output['power'] == power[i]][['treatment']]\n",
        "    y = output[output['power'] == power[i]][['control']]\n",
        "    ax.scatter(x,y, s = 2)\n",
        "ax.legend(np.round(power,2))\n",
        "ax.set_xlabel('# Treated')\n",
        "ax.set_ylabel('# Control')"
      ],
      "metadata": {
        "colab": {
          "base_uri": "https://localhost:8080/",
          "height": 296
        },
        "id": "T4OpDyUKQ8Px",
        "outputId": "746f6d00-4f9e-42ce-c003-774cbed9a3ee"
      },
      "execution_count": 54,
      "outputs": [
        {
          "output_type": "execute_result",
          "data": {
            "text/plain": [
              "Text(0, 0.5, 'Number Control')"
            ]
          },
          "metadata": {},
          "execution_count": 54
        },
        {
          "output_type": "display_data",
          "data": {
            "text/plain": [
              "<Figure size 432x288 with 1 Axes>"
            ],
            "image/png": "[encoded data removed]"
          },
          "metadata": {
            "needs_background": "light"
          }
        }
      ]
    },
    {
      "cell_type": "markdown",
      "source": [
        "Problem 1 done in collaboration with Ezana Kremmer and Danielle Abaya.\n",
        "\n",
        "Problem 2 done in collaboration with Danielle Abaya, Zhirui Wang, and Ezana Kremmer."
      ],
      "metadata": {
        "id": "5gQedQc6ZFQ9"
      }
    }
  ]
}
