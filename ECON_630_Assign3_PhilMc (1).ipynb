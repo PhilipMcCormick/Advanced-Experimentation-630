{
  "nbformat": 4,
  "nbformat_minor": 0,
  "metadata": {
    "colab": {
      "provenance": []
    },
    "kernelspec": {
      "name": "python3",
      "display_name": "Python 3"
    },
    "language_info": {
      "name": "python"
    }
  },
  "cells": [
    {
      "cell_type": "markdown",
      "source": [
        "Phil McCormick\n",
        "\n",
        "ECON 630-02\n",
        "\n",
        "November 12, 2022\n",
        "\n",
        "Assignment 3"
      ],
      "metadata": {
        "id": "Xq8smsjd3aDy"
      }
    },
    {
      "cell_type": "code",
      "execution_count": null,
      "metadata": {
        "id": "DfykFVXHoEk8"
      },
      "outputs": [],
      "source": [
        "import numpy as np\n",
        "import pandas as pd\n",
        "import statsmodels.formula.api as sm\n",
        "import matplotlib.pyplot as plt\n",
        "import seaborn as sns\n",
        "# Set a random seed\n",
        "np.random.seed(4)"
      ]
    },
    {
      "cell_type": "code",
      "source": [
        "from google.colab import drive\n",
        "drive.mount('/content/drive')"
      ],
      "metadata": {
        "colab": {
          "base_uri": "https://localhost:8080/"
        },
        "id": "hbzJVdbt1x6H",
        "outputId": "ee61cb2b-508b-4a3f-9661-098e1161d366"
      },
      "execution_count": null,
      "outputs": [
        {
          "output_type": "stream",
          "name": "stdout",
          "text": [
            "Drive already mounted at /content/drive; to attempt to forcibly remount, call drive.mount(\"/content/drive\", force_remount=True).\n"
          ]
        }
      ]
    },
    {
      "cell_type": "code",
      "source": [
        "df = pd.read_csv('/content/drive/MyDrive/ECON 630/data_assignment3.csv')"
      ],
      "metadata": {
        "id": "iJHut1gn15Ls"
      },
      "execution_count": null,
      "outputs": []
    },
    {
      "cell_type": "code",
      "source": [
        "df.head()"
      ],
      "metadata": {
        "colab": {
          "base_uri": "https://localhost:8080/",
          "height": 206
        },
        "id": "_n4m6JRbxm-I",
        "outputId": "146bfcf4-2f35-445c-a043-4a3b4fadf62d"
      },
      "execution_count": null,
      "outputs": [
        {
          "output_type": "execute_result",
          "data": {
            "text/plain": [
              "     revenue  treatment  compliance  age gender  weekly zone    signal\n",
              "0  13.327541          1           0   65      m       2    e  4.037839\n",
              "1  23.808945          1           0   37      m       7    b  4.050101\n",
              "2  24.997824          1           0   51      m       1    d  3.966287\n",
              "3  22.750393          1           0   59      o       3    c  4.091852\n",
              "4  24.001336          1           0   38      o       0    b  4.091740"
            ],
            "text/html": [
              "\n",
              "  <div id=\"df-fcf0a205-73c6-431d-97c1-94d25bcfd4f6\">\n",
              "    <div class=\"colab-df-container\">\n",
              "      <div>\n",
              "<style scoped>\n",
              "    .dataframe tbody tr th:only-of-type {\n",
              "        vertical-align: middle;\n",
              "    }\n",
              "\n",
              "    .dataframe tbody tr th {\n",
              "        vertical-align: top;\n",
              "    }\n",
              "\n",
              "    .dataframe thead th {\n",
              "        text-align: right;\n",
              "    }\n",
              "</style>\n",
              "<table border=\"1\" class=\"dataframe\">\n",
              "  <thead>\n",
              "    <tr style=\"text-align: right;\">\n",
              "      <th></th>\n",
              "      <th>revenue</th>\n",
              "      <th>treatment</th>\n",
              "      <th>compliance</th>\n",
              "      <th>age</th>\n",
              "      <th>gender</th>\n",
              "      <th>weekly</th>\n",
              "      <th>zone</th>\n",
              "      <th>signal</th>\n",
              "    </tr>\n",
              "  </thead>\n",
              "  <tbody>\n",
              "    <tr>\n",
              "      <th>0</th>\n",
              "      <td>13.327541</td>\n",
              "      <td>1</td>\n",
              "      <td>0</td>\n",
              "      <td>65</td>\n",
              "      <td>m</td>\n",
              "      <td>2</td>\n",
              "      <td>e</td>\n",
              "      <td>4.037839</td>\n",
              "    </tr>\n",
              "    <tr>\n",
              "      <th>1</th>\n",
              "      <td>23.808945</td>\n",
              "      <td>1</td>\n",
              "      <td>0</td>\n",
              "      <td>37</td>\n",
              "      <td>m</td>\n",
              "      <td>7</td>\n",
              "      <td>b</td>\n",
              "      <td>4.050101</td>\n",
              "    </tr>\n",
              "    <tr>\n",
              "      <th>2</th>\n",
              "      <td>24.997824</td>\n",
              "      <td>1</td>\n",
              "      <td>0</td>\n",
              "      <td>51</td>\n",
              "      <td>m</td>\n",
              "      <td>1</td>\n",
              "      <td>d</td>\n",
              "      <td>3.966287</td>\n",
              "    </tr>\n",
              "    <tr>\n",
              "      <th>3</th>\n",
              "      <td>22.750393</td>\n",
              "      <td>1</td>\n",
              "      <td>0</td>\n",
              "      <td>59</td>\n",
              "      <td>o</td>\n",
              "      <td>3</td>\n",
              "      <td>c</td>\n",
              "      <td>4.091852</td>\n",
              "    </tr>\n",
              "    <tr>\n",
              "      <th>4</th>\n",
              "      <td>24.001336</td>\n",
              "      <td>1</td>\n",
              "      <td>0</td>\n",
              "      <td>38</td>\n",
              "      <td>o</td>\n",
              "      <td>0</td>\n",
              "      <td>b</td>\n",
              "      <td>4.091740</td>\n",
              "    </tr>\n",
              "  </tbody>\n",
              "</table>\n",
              "</div>\n",
              "      <button class=\"colab-df-convert\" onclick=\"convertToInteractive('df-fcf0a205-73c6-431d-97c1-94d25bcfd4f6')\"\n",
              "              title=\"Convert this dataframe to an interactive table.\"\n",
              "              style=\"display:none;\">\n",
              "        \n",
              "  <svg xmlns=\"http://www.w3.org/2000/svg\" height=\"24px\"viewBox=\"0 0 24 24\"\n",
              "       width=\"24px\">\n",
              "    <path d=\"M0 0h24v24H0V0z\" fill=\"none\"/>\n",
              "    <path d=\"M18.56 5.44l.94 2.06.94-2.06 2.06-.94-2.06-.94-.94-2.06-.94 2.06-2.06.94zm-11 1L8.5 8.5l.94-2.06 2.06-.94-2.06-.94L8.5 2.5l-.94 2.06-2.06.94zm10 10l.94 2.06.94-2.06 2.06-.94-2.06-.94-.94-2.06-.94 2.06-2.06.94z\"/><path d=\"M17.41 7.96l-1.37-1.37c-.4-.4-.92-.59-1.43-.59-.52 0-1.04.2-1.43.59L10.3 9.45l-7.72 7.72c-.78.78-.78 2.05 0 2.83L4 21.41c.39.39.9.59 1.41.59.51 0 1.02-.2 1.41-.59l7.78-7.78 2.81-2.81c.8-.78.8-2.07 0-2.86zM5.41 20L4 18.59l7.72-7.72 1.47 1.35L5.41 20z\"/>\n",
              "  </svg>\n",
              "      </button>\n",
              "      \n",
              "  <style>\n",
              "    .colab-df-container {\n",
              "      display:flex;\n",
              "      flex-wrap:wrap;\n",
              "      gap: 12px;\n",
              "    }\n",
              "\n",
              "    .colab-df-convert {\n",
              "      background-color: #E8F0FE;\n",
              "      border: none;\n",
              "      border-radius: 50%;\n",
              "      cursor: pointer;\n",
              "      display: none;\n",
              "      fill: #1967D2;\n",
              "      height: 32px;\n",
              "      padding: 0 0 0 0;\n",
              "      width: 32px;\n",
              "    }\n",
              "\n",
              "    .colab-df-convert:hover {\n",
              "      background-color: #E2EBFA;\n",
              "      box-shadow: 0px 1px 2px rgba(60, 64, 67, 0.3), 0px 1px 3px 1px rgba(60, 64, 67, 0.15);\n",
              "      fill: #174EA6;\n",
              "    }\n",
              "\n",
              "    [theme=dark] .colab-df-convert {\n",
              "      background-color: #3B4455;\n",
              "      fill: #D2E3FC;\n",
              "    }\n",
              "\n",
              "    [theme=dark] .colab-df-convert:hover {\n",
              "      background-color: #434B5C;\n",
              "      box-shadow: 0px 1px 3px 1px rgba(0, 0, 0, 0.15);\n",
              "      filter: drop-shadow(0px 1px 2px rgba(0, 0, 0, 0.3));\n",
              "      fill: #FFFFFF;\n",
              "    }\n",
              "  </style>\n",
              "\n",
              "      <script>\n",
              "        const buttonEl =\n",
              "          document.querySelector('#df-fcf0a205-73c6-431d-97c1-94d25bcfd4f6 button.colab-df-convert');\n",
              "        buttonEl.style.display =\n",
              "          google.colab.kernel.accessAllowed ? 'block' : 'none';\n",
              "\n",
              "        async function convertToInteractive(key) {\n",
              "          const element = document.querySelector('#df-fcf0a205-73c6-431d-97c1-94d25bcfd4f6');\n",
              "          const dataTable =\n",
              "            await google.colab.kernel.invokeFunction('convertToInteractive',\n",
              "                                                     [key], {});\n",
              "          if (!dataTable) return;\n",
              "\n",
              "          const docLinkHtml = 'Like what you see? Visit the ' +\n",
              "            '<a target=\"_blank\" href=https://colab.research.google.com/notebooks/data_table.ipynb>data table notebook</a>'\n",
              "            + ' to learn more about interactive tables.';\n",
              "          element.innerHTML = '';\n",
              "          dataTable['output_type'] = 'display_data';\n",
              "          await google.colab.output.renderOutput(dataTable, element);\n",
              "          const docLink = document.createElement('div');\n",
              "          docLink.innerHTML = docLinkHtml;\n",
              "          element.appendChild(docLink);\n",
              "        }\n",
              "      </script>\n",
              "    </div>\n",
              "  </div>\n",
              "  "
            ]
          },
          "metadata": {},
          "execution_count": 104
        }
      ]
    },
    {
      "cell_type": "markdown",
      "source": [
        "**Problem 1: Non-Compliance**\n",
        "\n",
        "Suppose you are a data scientist at DoorDash, and you implement a new feature – linking of Venmo\n",
        "accounts to pay for meals – to increase revenue. You run a large experiment to test its impact in\n",
        "a given city, with an equal-sized treatment and control group. You want to understand the effect\n",
        "of linking the account on revenue. Of course, you cannot force users to link their accounts, and so\n",
        "that form of non-compliance will have to be handled.\n",
        "The data following the experiment is in the file data assignment3.csv. The file has 10,000 rows.\n",
        "Each row corresponds to a separate user, for which there are eight columns. Seven of the columns\n",
        "are collected at the time of the experiment: revenue brought in by the user, an indicator for\n",
        "whether the user is in the treatment group (where 1 indicates treatment), an indicator for whether\n",
        "the user actually complied with the treatment (i.e. linked their Venmo account, where 1 indicates\n",
        "compliance), the age of the user, the gender of the user (male, female, or other), the number of\n",
        "days in the last week the user has been active on the app, and the geographic zone (coded as (a)\n",
        "through (h)) of the user in the city. The last column (“signal”) should be put aside for now, and\n",
        "will be incorporated into the question later.\n",
        "\n",
        "1. (10 points) Estimate the treatment effect per the as-treated estimator, and then estimate\n",
        "the treatment effect using the per-protocol estimator. (You do not need to construct standard\n",
        "errors.) Explain in one sentence the assumption that both methodologies embed, and show\n",
        "using the data that this assumption is likely invalid."
      ],
      "metadata": {
        "id": "NYHMCvsw2tnp"
      }
    },
    {
      "cell_type": "code",
      "source": [
        "#AS-TREATED\n",
        "df1 = df.copy(deep=True)\n",
        "df1['treatment'] = np.where((df1['treatment'] == 1) & (df1['compliance'] == 0), 0, df1['treatment'])"
      ],
      "metadata": {
        "id": "B1i8kSVexdyl"
      },
      "execution_count": null,
      "outputs": []
    },
    {
      "cell_type": "code",
      "source": [
        "rev_treat = df1.loc[df1[\"treatment\"]==1,[\"revenue\"]]\n",
        "rev_control = df1.loc[df1[\"treatment\"]==0,[\"revenue\"]]\n",
        "\n",
        "as_treat = rev_treat.mean() - rev_control.mean()\n",
        "as_treat"
      ],
      "metadata": {
        "colab": {
          "base_uri": "https://localhost:8080/"
        },
        "id": "Ct7fbUbcK4gg",
        "outputId": "3e053001-238b-4a2b-aa18-8f27e4c6d7ef"
      },
      "execution_count": null,
      "outputs": [
        {
          "output_type": "execute_result",
          "data": {
            "text/plain": [
              "revenue    7.249241\n",
              "dtype: float64"
            ]
          },
          "metadata": {},
          "execution_count": 106
        }
      ]
    },
    {
      "cell_type": "code",
      "source": [
        "#Per Protocol\n",
        "df2 = df.copy(deep=True)\n",
        "df2 = df2.drop(df[(df[\"treatment\"]==1) & (df[\"compliance\"]==0)].index)"
      ],
      "metadata": {
        "id": "Aa9K1sKi0u4T"
      },
      "execution_count": null,
      "outputs": []
    },
    {
      "cell_type": "code",
      "source": [
        "rev_treat_1 = df2.loc[df2[\"treatment\"]==1,[\"revenue\"]]\n",
        "rev_control_1 = df2.loc[df2[\"treatment\"]==0,[\"revenue\"]]\n",
        "\n",
        "per_prot = rev_treat_1.mean() - rev_control_1.mean()\n",
        "per_prot"
      ],
      "metadata": {
        "colab": {
          "base_uri": "https://localhost:8080/"
        },
        "id": "zsDV5ZuPSIJa",
        "outputId": "ba85e929-861a-42b5-f566-5c8a1c51f14b"
      },
      "execution_count": null,
      "outputs": [
        {
          "output_type": "execute_result",
          "data": {
            "text/plain": [
              "revenue    7.197003\n",
              "dtype: float64"
            ]
          },
          "metadata": {},
          "execution_count": 108
        }
      ]
    },
    {
      "cell_type": "markdown",
      "source": [
        "Both of these methodologies do not address selection bias in the treatment group and hurt the power of the estimator by not properly accounting for the different weights of the experiment groups"
      ],
      "metadata": {
        "id": "5Yf_GzMJsfRn"
      }
    },
    {
      "cell_type": "markdown",
      "source": [
        "2. (10 points) Estimate the treatment effect per the intent-to-treat estimator, and then es-\n",
        "timate the treatment effect per the Wald estimator. (Again, you do not need to construct\n",
        "standard errors.) In one sentence each, explain exactly what each number measures. Explain\n",
        "in one further sentence why these estimates differ (substantially) from each other."
      ],
      "metadata": {
        "id": "UJmFQ9r_xWtn"
      }
    },
    {
      "cell_type": "code",
      "source": [
        "#intent to treat"
      ],
      "metadata": {
        "id": "dQg2T3AdxfVf"
      },
      "execution_count": null,
      "outputs": []
    },
    {
      "cell_type": "code",
      "source": [
        "rev_treat= df.loc[df[\"treatment\"]== 1,[\"revenue\"]]\n",
        "rev_control= df.loc[df[\"treatment\"]== 0,[\"revenue\"]]"
      ],
      "metadata": {
        "id": "7lUNEt55UCZN"
      },
      "execution_count": null,
      "outputs": []
    },
    {
      "cell_type": "code",
      "source": [
        "itt = rev_treat.mean() - rev_control.mean()\n",
        "itt"
      ],
      "metadata": {
        "colab": {
          "base_uri": "https://localhost:8080/"
        },
        "id": "hn7r7PqmUFju",
        "outputId": "f0e00f6a-7b36-48c2-ef40-d432b0111619"
      },
      "execution_count": null,
      "outputs": [
        {
          "output_type": "execute_result",
          "data": {
            "text/plain": [
              "revenue    0.189844\n",
              "dtype: float64"
            ]
          },
          "metadata": {},
          "execution_count": 111
        }
      ]
    },
    {
      "cell_type": "markdown",
      "source": [
        "The intent to treat estimate simply calculates the treatment effect, but does not address compliance and therefore adds selection bias to the estimate."
      ],
      "metadata": {
        "id": "x6LQq_aszJb8"
      }
    },
    {
      "cell_type": "code",
      "source": [
        "#WALD estimator\n",
        "df2 = df.copy(deep=True)\n",
        "df2 = df.loc[(df['treatment'] == 1) & (df['compliance'] == 1)]\n",
        "avg_treat_comp = df2.revenue.mean()\n",
        "WALD = itt / avg_treat_comp\n",
        "WALD"
      ],
      "metadata": {
        "colab": {
          "base_uri": "https://localhost:8080/"
        },
        "id": "9yt8kTUa87XF",
        "outputId": "09b43cf5-b869-40ad-d1e5-f04b23ca505e"
      },
      "execution_count": null,
      "outputs": [
        {
          "output_type": "execute_result",
          "data": {
            "text/plain": [
              "revenue    0.007595\n",
              "dtype: float64"
            ]
          },
          "metadata": {},
          "execution_count": 112
        }
      ]
    },
    {
      "cell_type": "markdown",
      "source": [
        "The Wald estimator divides the intent to treat by the average treated compliance, to capture the effect of actually taking treatment in the experiment. Since it factors in compliance, the treatment effect is more accurate, but also less than in the intent to treat at .008 (down from .19 in intent to treat)."
      ],
      "metadata": {
        "id": "ID9ks8lWz2vl"
      }
    },
    {
      "cell_type": "markdown",
      "source": [
        "3. (10 points) Compute the standard deviation of the Wald estimate using the bootstrap with\n",
        "at least 2,000 iterations. As always, explain and justify the choices you make in performing\n",
        "the bootstrap."
      ],
      "metadata": {
        "id": "9guO9Fkzxcpj"
      }
    },
    {
      "cell_type": "code",
      "source": [
        "#WALD estimate"
      ],
      "metadata": {
        "id": "n78s1Q4MjwL-"
      },
      "execution_count": null,
      "outputs": []
    },
    {
      "cell_type": "code",
      "source": [
        "\n",
        "# Compute difference in means\n",
        "effect = (np.average(df.loc[df['treatment'] == 1,'revenue']) -\n",
        "np.average(df.loc[df['treatment'] == 0,'revenue']))\n",
        "# Compute bootstrapped estimates\n",
        "# First identify the treated and control units\n",
        "samples = []\n",
        "i = np.where(df['treatment'] == 1)[0]\n",
        "j = np.where(df['treatment'] == 0)[0]\n",
        "# Set some fixed seed\n",
        "np.random.seed(0)\n",
        "# Run 2000 iterations of the bootstrap\n",
        "for counter in range(2000):\n",
        "# Implement re-sampling; notice we respect 5000 treated and 5000 control units\n",
        "# at all times, to mimic the original experiment!\n",
        "  i_sample = np.random.choice(i, len(i), replace = True)\n",
        "  j_sample = np.random.choice(j, len(j), replace = True)\n",
        "  # Create resampled data\n",
        "  resample = df.iloc[np.append(i_sample, j_sample),]\n",
        "  # Compute difference in means in resampled data \n",
        "  samples.append(\n",
        "  np.average(resample.loc[resample['treatment'] == 1,'revenue']) - np.average(resample.loc[resample['treatment'] == 0,'revenue'])/(np.mean(resample.loc[(resample['treatment'] == 1) & (resample['compliance'] == 1), 'revenue'])))\n",
        "print('The parameter estimate is ' + str(round(effect, 2)))\n",
        "print('The bootstrapped SE is ' + str(round(np.std(samples), 2)))"
      ],
      "metadata": {
        "colab": {
          "base_uri": "https://localhost:8080/"
        },
        "id": "cgHUrNoj2g2b",
        "outputId": "3ab723cb-a034-4fcb-faea-01293c9da382"
      },
      "execution_count": null,
      "outputs": [
        {
          "output_type": "stream",
          "name": "stdout",
          "text": [
            "The parameter estimate is 0.19\n",
            "The bootstrapped SE is 0.09\n"
          ]
        }
      ]
    },
    {
      "cell_type": "markdown",
      "source": [
        "4. Using the variables given (excluding “signal”), construct the estimate as given by the weighted\n",
        "Wald estimator. There are three key steps:\n",
        "\n",
        "(a) (10 points) First, predict compliance in the dataset using all pre-experimental variables\n",
        "except signal. To predict compliance, use the treated group to fit a linear regression\n",
        "model, as the treated group is the group who received the choice to comply or not.\n",
        "Then, use that fitted model to predict compliance across the entire dataset, i.e. across\n",
        "the treated and control groups alike. Note that full credit will be awarded to linear\n",
        "regression models, but you are welcome to pick any more complicated class of models\n",
        "(e.g. logistic regression, random forest, etc) if curious.\n"
      ],
      "metadata": {
        "id": "WuautG5KA4fo"
      }
    },
    {
      "cell_type": "code",
      "source": [
        "df4 = df.copy(deep=True)"
      ],
      "metadata": {
        "id": "EbCh7DxRtgmh"
      },
      "execution_count": null,
      "outputs": []
    },
    {
      "cell_type": "code",
      "source": [
        "df4 = df4.drop(df4[(df4[\"treatment\"]==0)].index)\n",
        "df4"
      ],
      "metadata": {
        "colab": {
          "base_uri": "https://localhost:8080/",
          "height": 424
        },
        "id": "2OGVFpYgus2B",
        "outputId": "972facda-ec87-4e26-d59f-118abddb04c9"
      },
      "execution_count": null,
      "outputs": [
        {
          "output_type": "execute_result",
          "data": {
            "text/plain": [
              "        revenue  treatment  compliance  age gender  weekly zone    signal\n",
              "0     13.327541          1           0   65      m       2    e  4.037839\n",
              "1     23.808945          1           0   37      m       7    b  4.050101\n",
              "2     24.997824          1           0   51      m       1    d  3.966287\n",
              "3     22.750393          1           0   59      o       3    c  4.091852\n",
              "4     24.001336          1           0   38      o       0    b  4.091740\n",
              "...         ...        ...         ...  ...    ...     ...  ...       ...\n",
              "4995  16.640247          1           0   20      o       4    g  4.021323\n",
              "4996  16.038328          1           0   47      o       0    c  4.312622\n",
              "4997  24.345769          1           0   39      m       1    b  4.052588\n",
              "4998  25.504740          1           0   49      m       5    g  3.733963\n",
              "4999  17.243453          1           0   62      o       0    g  3.906877\n",
              "\n",
              "[5000 rows x 8 columns]"
            ],
            "text/html": [
              "\n",
              "  <div id=\"df-eb44a45f-fd61-4108-952e-9ec8dd6b703d\">\n",
              "    <div class=\"colab-df-container\">\n",
              "      <div>\n",
              "<style scoped>\n",
              "    .dataframe tbody tr th:only-of-type {\n",
              "        vertical-align: middle;\n",
              "    }\n",
              "\n",
              "    .dataframe tbody tr th {\n",
              "        vertical-align: top;\n",
              "    }\n",
              "\n",
              "    .dataframe thead th {\n",
              "        text-align: right;\n",
              "    }\n",
              "</style>\n",
              "<table border=\"1\" class=\"dataframe\">\n",
              "  <thead>\n",
              "    <tr style=\"text-align: right;\">\n",
              "      <th></th>\n",
              "      <th>revenue</th>\n",
              "      <th>treatment</th>\n",
              "      <th>compliance</th>\n",
              "      <th>age</th>\n",
              "      <th>gender</th>\n",
              "      <th>weekly</th>\n",
              "      <th>zone</th>\n",
              "      <th>signal</th>\n",
              "    </tr>\n",
              "  </thead>\n",
              "  <tbody>\n",
              "    <tr>\n",
              "      <th>0</th>\n",
              "      <td>13.327541</td>\n",
              "      <td>1</td>\n",
              "      <td>0</td>\n",
              "      <td>65</td>\n",
              "      <td>m</td>\n",
              "      <td>2</td>\n",
              "      <td>e</td>\n",
              "      <td>4.037839</td>\n",
              "    </tr>\n",
              "    <tr>\n",
              "      <th>1</th>\n",
              "      <td>23.808945</td>\n",
              "      <td>1</td>\n",
              "      <td>0</td>\n",
              "      <td>37</td>\n",
              "      <td>m</td>\n",
              "      <td>7</td>\n",
              "      <td>b</td>\n",
              "      <td>4.050101</td>\n",
              "    </tr>\n",
              "    <tr>\n",
              "      <th>2</th>\n",
              "      <td>24.997824</td>\n",
              "      <td>1</td>\n",
              "      <td>0</td>\n",
              "      <td>51</td>\n",
              "      <td>m</td>\n",
              "      <td>1</td>\n",
              "      <td>d</td>\n",
              "      <td>3.966287</td>\n",
              "    </tr>\n",
              "    <tr>\n",
              "      <th>3</th>\n",
              "      <td>22.750393</td>\n",
              "      <td>1</td>\n",
              "      <td>0</td>\n",
              "      <td>59</td>\n",
              "      <td>o</td>\n",
              "      <td>3</td>\n",
              "      <td>c</td>\n",
              "      <td>4.091852</td>\n",
              "    </tr>\n",
              "    <tr>\n",
              "      <th>4</th>\n",
              "      <td>24.001336</td>\n",
              "      <td>1</td>\n",
              "      <td>0</td>\n",
              "      <td>38</td>\n",
              "      <td>o</td>\n",
              "      <td>0</td>\n",
              "      <td>b</td>\n",
              "      <td>4.091740</td>\n",
              "    </tr>\n",
              "    <tr>\n",
              "      <th>...</th>\n",
              "      <td>...</td>\n",
              "      <td>...</td>\n",
              "      <td>...</td>\n",
              "      <td>...</td>\n",
              "      <td>...</td>\n",
              "      <td>...</td>\n",
              "      <td>...</td>\n",
              "      <td>...</td>\n",
              "    </tr>\n",
              "    <tr>\n",
              "      <th>4995</th>\n",
              "      <td>16.640247</td>\n",
              "      <td>1</td>\n",
              "      <td>0</td>\n",
              "      <td>20</td>\n",
              "      <td>o</td>\n",
              "      <td>4</td>\n",
              "      <td>g</td>\n",
              "      <td>4.021323</td>\n",
              "    </tr>\n",
              "    <tr>\n",
              "      <th>4996</th>\n",
              "      <td>16.038328</td>\n",
              "      <td>1</td>\n",
              "      <td>0</td>\n",
              "      <td>47</td>\n",
              "      <td>o</td>\n",
              "      <td>0</td>\n",
              "      <td>c</td>\n",
              "      <td>4.312622</td>\n",
              "    </tr>\n",
              "    <tr>\n",
              "      <th>4997</th>\n",
              "      <td>24.345769</td>\n",
              "      <td>1</td>\n",
              "      <td>0</td>\n",
              "      <td>39</td>\n",
              "      <td>m</td>\n",
              "      <td>1</td>\n",
              "      <td>b</td>\n",
              "      <td>4.052588</td>\n",
              "    </tr>\n",
              "    <tr>\n",
              "      <th>4998</th>\n",
              "      <td>25.504740</td>\n",
              "      <td>1</td>\n",
              "      <td>0</td>\n",
              "      <td>49</td>\n",
              "      <td>m</td>\n",
              "      <td>5</td>\n",
              "      <td>g</td>\n",
              "      <td>3.733963</td>\n",
              "    </tr>\n",
              "    <tr>\n",
              "      <th>4999</th>\n",
              "      <td>17.243453</td>\n",
              "      <td>1</td>\n",
              "      <td>0</td>\n",
              "      <td>62</td>\n",
              "      <td>o</td>\n",
              "      <td>0</td>\n",
              "      <td>g</td>\n",
              "      <td>3.906877</td>\n",
              "    </tr>\n",
              "  </tbody>\n",
              "</table>\n",
              "<p>5000 rows × 8 columns</p>\n",
              "</div>\n",
              "      <button class=\"colab-df-convert\" onclick=\"convertToInteractive('df-eb44a45f-fd61-4108-952e-9ec8dd6b703d')\"\n",
              "              title=\"Convert this dataframe to an interactive table.\"\n",
              "              style=\"display:none;\">\n",
              "        \n",
              "  <svg xmlns=\"http://www.w3.org/2000/svg\" height=\"24px\"viewBox=\"0 0 24 24\"\n",
              "       width=\"24px\">\n",
              "    <path d=\"M0 0h24v24H0V0z\" fill=\"none\"/>\n",
              "    <path d=\"M18.56 5.44l.94 2.06.94-2.06 2.06-.94-2.06-.94-.94-2.06-.94 2.06-2.06.94zm-11 1L8.5 8.5l.94-2.06 2.06-.94-2.06-.94L8.5 2.5l-.94 2.06-2.06.94zm10 10l.94 2.06.94-2.06 2.06-.94-2.06-.94-.94-2.06-.94 2.06-2.06.94z\"/><path d=\"M17.41 7.96l-1.37-1.37c-.4-.4-.92-.59-1.43-.59-.52 0-1.04.2-1.43.59L10.3 9.45l-7.72 7.72c-.78.78-.78 2.05 0 2.83L4 21.41c.39.39.9.59 1.41.59.51 0 1.02-.2 1.41-.59l7.78-7.78 2.81-2.81c.8-.78.8-2.07 0-2.86zM5.41 20L4 18.59l7.72-7.72 1.47 1.35L5.41 20z\"/>\n",
              "  </svg>\n",
              "      </button>\n",
              "      \n",
              "  <style>\n",
              "    .colab-df-container {\n",
              "      display:flex;\n",
              "      flex-wrap:wrap;\n",
              "      gap: 12px;\n",
              "    }\n",
              "\n",
              "    .colab-df-convert {\n",
              "      background-color: #E8F0FE;\n",
              "      border: none;\n",
              "      border-radius: 50%;\n",
              "      cursor: pointer;\n",
              "      display: none;\n",
              "      fill: #1967D2;\n",
              "      height: 32px;\n",
              "      padding: 0 0 0 0;\n",
              "      width: 32px;\n",
              "    }\n",
              "\n",
              "    .colab-df-convert:hover {\n",
              "      background-color: #E2EBFA;\n",
              "      box-shadow: 0px 1px 2px rgba(60, 64, 67, 0.3), 0px 1px 3px 1px rgba(60, 64, 67, 0.15);\n",
              "      fill: #174EA6;\n",
              "    }\n",
              "\n",
              "    [theme=dark] .colab-df-convert {\n",
              "      background-color: #3B4455;\n",
              "      fill: #D2E3FC;\n",
              "    }\n",
              "\n",
              "    [theme=dark] .colab-df-convert:hover {\n",
              "      background-color: #434B5C;\n",
              "      box-shadow: 0px 1px 3px 1px rgba(0, 0, 0, 0.15);\n",
              "      filter: drop-shadow(0px 1px 2px rgba(0, 0, 0, 0.3));\n",
              "      fill: #FFFFFF;\n",
              "    }\n",
              "  </style>\n",
              "\n",
              "      <script>\n",
              "        const buttonEl =\n",
              "          document.querySelector('#df-eb44a45f-fd61-4108-952e-9ec8dd6b703d button.colab-df-convert');\n",
              "        buttonEl.style.display =\n",
              "          google.colab.kernel.accessAllowed ? 'block' : 'none';\n",
              "\n",
              "        async function convertToInteractive(key) {\n",
              "          const element = document.querySelector('#df-eb44a45f-fd61-4108-952e-9ec8dd6b703d');\n",
              "          const dataTable =\n",
              "            await google.colab.kernel.invokeFunction('convertToInteractive',\n",
              "                                                     [key], {});\n",
              "          if (!dataTable) return;\n",
              "\n",
              "          const docLinkHtml = 'Like what you see? Visit the ' +\n",
              "            '<a target=\"_blank\" href=https://colab.research.google.com/notebooks/data_table.ipynb>data table notebook</a>'\n",
              "            + ' to learn more about interactive tables.';\n",
              "          element.innerHTML = '';\n",
              "          dataTable['output_type'] = 'display_data';\n",
              "          await google.colab.output.renderOutput(dataTable, element);\n",
              "          const docLink = document.createElement('div');\n",
              "          docLink.innerHTML = docLinkHtml;\n",
              "          element.appendChild(docLink);\n",
              "        }\n",
              "      </script>\n",
              "    </div>\n",
              "  </div>\n",
              "  "
            ]
          },
          "metadata": {},
          "execution_count": 116
        }
      ]
    },
    {
      "cell_type": "code",
      "source": [
        "result = sm.ols(formula=\"compliance ~ age + gender + weekly + zone\", \n",
        "                data = df4).fit()\n",
        "print(result.summary())"
      ],
      "metadata": {
        "colab": {
          "base_uri": "https://localhost:8080/"
        },
        "id": "rHXRSYWiqkNG",
        "outputId": "c0b7fd2e-25a8-4c57-be2b-751c6d498b03"
      },
      "execution_count": null,
      "outputs": [
        {
          "output_type": "stream",
          "name": "stdout",
          "text": [
            "                            OLS Regression Results                            \n",
            "==============================================================================\n",
            "Dep. Variable:             compliance   R-squared:                       0.182\n",
            "Model:                            OLS   Adj. R-squared:                  0.180\n",
            "Method:                 Least Squares   F-statistic:                     100.8\n",
            "Date:                Mon, 14 Nov 2022   Prob (F-statistic):          5.89e-208\n",
            "Time:                        19:41:53   Log-Likelihood:                 1520.8\n",
            "No. Observations:                5000   AIC:                            -3018.\n",
            "Df Residuals:                    4988   BIC:                            -2939.\n",
            "Df Model:                          11                                         \n",
            "Covariance Type:            nonrobust                                         \n",
            "===============================================================================\n",
            "                  coef    std err          t      P>|t|      [0.025      0.975]\n",
            "-------------------------------------------------------------------------------\n",
            "Intercept       0.1923      0.012     16.371      0.000       0.169       0.215\n",
            "gender[T.m]     0.0093      0.006      1.497      0.134      -0.003       0.021\n",
            "gender[T.o]    -0.0037      0.006     -0.603      0.546      -0.016       0.008\n",
            "zone[T.b]      -0.0901      0.010     -8.828      0.000      -0.110      -0.070\n",
            "zone[T.c]       0.1392      0.010     13.797      0.000       0.119       0.159\n",
            "zone[T.d]      -0.0863      0.010     -8.577      0.000      -0.106      -0.067\n",
            "zone[T.e]      -0.0895      0.010     -8.629      0.000      -0.110      -0.069\n",
            "zone[T.f]      -0.0898      0.010     -8.964      0.000      -0.109      -0.070\n",
            "zone[T.g]      -0.0888      0.010     -8.769      0.000      -0.109      -0.069\n",
            "zone[T.h]      -0.0890      0.010     -8.817      0.000      -0.109      -0.069\n",
            "age            -0.0024      0.000    -13.009      0.000      -0.003      -0.002\n",
            "weekly         -0.0011      0.001     -1.011      0.312      -0.003       0.001\n",
            "==============================================================================\n",
            "Omnibus:                     3495.784   Durbin-Watson:                   1.974\n",
            "Prob(Omnibus):                  0.000   Jarque-Bera (JB):            44835.320\n",
            "Skew:                           3.308   Prob(JB):                         0.00\n",
            "Kurtosis:                      16.093   Cond. No.                         375.\n",
            "==============================================================================\n",
            "\n",
            "Notes:\n",
            "[1] Standard Errors assume that the covariance matrix of the errors is correctly specified.\n"
          ]
        }
      ]
    },
    {
      "cell_type": "code",
      "source": [
        "weights = result.predict(df)\n",
        "weights\n"
      ],
      "metadata": {
        "id": "dMWUIaVevvuB",
        "colab": {
          "base_uri": "https://localhost:8080/"
        },
        "outputId": "97f3f2ca-e8e3-4fe9-874d-f808746c445a"
      },
      "execution_count": null,
      "outputs": [
        {
          "output_type": "execute_result",
          "data": {
            "text/plain": [
              "0      -0.048051\n",
              "1       0.013738\n",
              "2      -0.009738\n",
              "3       0.181052\n",
              "4       0.006170\n",
              "          ...   \n",
              "9995   -0.056389\n",
              "9996   -0.007406\n",
              "9997    0.019695\n",
              "9998    0.109610\n",
              "9999    0.032011\n",
              "Length: 10000, dtype: float64"
            ]
          },
          "metadata": {},
          "execution_count": 118
        }
      ]
    },
    {
      "cell_type": "code",
      "source": [
        "weights = np.array(weights)"
      ],
      "metadata": {
        "id": "oXEVgnEUH2vx"
      },
      "execution_count": null,
      "outputs": []
    },
    {
      "cell_type": "code",
      "source": [
        "df['weights'] = np.array(weights)"
      ],
      "metadata": {
        "id": "KY4RZEuyH5FG"
      },
      "execution_count": null,
      "outputs": []
    },
    {
      "cell_type": "code",
      "source": [
        "df['weight_rev'] = df.weights * df.revenue\n",
        "df"
      ],
      "metadata": {
        "colab": {
          "base_uri": "https://localhost:8080/",
          "height": 424
        },
        "id": "UyRxQHjOH8tb",
        "outputId": "073e6a98-7797-4dca-91c9-69d82113e4db"
      },
      "execution_count": null,
      "outputs": [
        {
          "output_type": "execute_result",
          "data": {
            "text/plain": [
              "        revenue  treatment  compliance  age gender  weekly zone    signal  \\\n",
              "0     13.327541          1           0   65      m       2    e  4.037839   \n",
              "1     23.808945          1           0   37      m       7    b  4.050101   \n",
              "2     24.997824          1           0   51      m       1    d  3.966287   \n",
              "3     22.750393          1           0   59      o       3    c  4.091852   \n",
              "4     24.001336          1           0   38      o       0    b  4.091740   \n",
              "...         ...        ...         ...  ...    ...     ...  ...       ...   \n",
              "9995  19.930093          0           0   63      o       5    d  4.025142   \n",
              "9996  22.369214          0           0   48      m       3    h  4.212572   \n",
              "9997  25.611632          0           0   36      m       5    g  3.932084   \n",
              "9998  19.664749          0           0   36      m       4    a  4.212681   \n",
              "9999  27.453102          0           0   29      f       0    f  3.945958   \n",
              "\n",
              "       weights  weight_rev  \n",
              "0    -0.048051   -0.640403  \n",
              "1     0.013738    0.327077  \n",
              "2    -0.009738   -0.243428  \n",
              "3     0.181052    4.119009  \n",
              "4     0.006170    0.148085  \n",
              "...        ...         ...  \n",
              "9995 -0.056389   -1.123839  \n",
              "9996 -0.007406   -0.165666  \n",
              "9997  0.019695    0.504415  \n",
              "9998  0.109610    2.155463  \n",
              "9999  0.032011    0.878789  \n",
              "\n",
              "[10000 rows x 10 columns]"
            ],
            "text/html": [
              "\n",
              "  <div id=\"df-1c8bf6a0-9bf1-4e05-961d-754762855629\">\n",
              "    <div class=\"colab-df-container\">\n",
              "      <div>\n",
              "<style scoped>\n",
              "    .dataframe tbody tr th:only-of-type {\n",
              "        vertical-align: middle;\n",
              "    }\n",
              "\n",
              "    .dataframe tbody tr th {\n",
              "        vertical-align: top;\n",
              "    }\n",
              "\n",
              "    .dataframe thead th {\n",
              "        text-align: right;\n",
              "    }\n",
              "</style>\n",
              "<table border=\"1\" class=\"dataframe\">\n",
              "  <thead>\n",
              "    <tr style=\"text-align: right;\">\n",
              "      <th></th>\n",
              "      <th>revenue</th>\n",
              "      <th>treatment</th>\n",
              "      <th>compliance</th>\n",
              "      <th>age</th>\n",
              "      <th>gender</th>\n",
              "      <th>weekly</th>\n",
              "      <th>zone</th>\n",
              "      <th>signal</th>\n",
              "      <th>weights</th>\n",
              "      <th>weight_rev</th>\n",
              "    </tr>\n",
              "  </thead>\n",
              "  <tbody>\n",
              "    <tr>\n",
              "      <th>0</th>\n",
              "      <td>13.327541</td>\n",
              "      <td>1</td>\n",
              "      <td>0</td>\n",
              "      <td>65</td>\n",
              "      <td>m</td>\n",
              "      <td>2</td>\n",
              "      <td>e</td>\n",
              "      <td>4.037839</td>\n",
              "      <td>-0.048051</td>\n",
              "      <td>-0.640403</td>\n",
              "    </tr>\n",
              "    <tr>\n",
              "      <th>1</th>\n",
              "      <td>23.808945</td>\n",
              "      <td>1</td>\n",
              "      <td>0</td>\n",
              "      <td>37</td>\n",
              "      <td>m</td>\n",
              "      <td>7</td>\n",
              "      <td>b</td>\n",
              "      <td>4.050101</td>\n",
              "      <td>0.013738</td>\n",
              "      <td>0.327077</td>\n",
              "    </tr>\n",
              "    <tr>\n",
              "      <th>2</th>\n",
              "      <td>24.997824</td>\n",
              "      <td>1</td>\n",
              "      <td>0</td>\n",
              "      <td>51</td>\n",
              "      <td>m</td>\n",
              "      <td>1</td>\n",
              "      <td>d</td>\n",
              "      <td>3.966287</td>\n",
              "      <td>-0.009738</td>\n",
              "      <td>-0.243428</td>\n",
              "    </tr>\n",
              "    <tr>\n",
              "      <th>3</th>\n",
              "      <td>22.750393</td>\n",
              "      <td>1</td>\n",
              "      <td>0</td>\n",
              "      <td>59</td>\n",
              "      <td>o</td>\n",
              "      <td>3</td>\n",
              "      <td>c</td>\n",
              "      <td>4.091852</td>\n",
              "      <td>0.181052</td>\n",
              "      <td>4.119009</td>\n",
              "    </tr>\n",
              "    <tr>\n",
              "      <th>4</th>\n",
              "      <td>24.001336</td>\n",
              "      <td>1</td>\n",
              "      <td>0</td>\n",
              "      <td>38</td>\n",
              "      <td>o</td>\n",
              "      <td>0</td>\n",
              "      <td>b</td>\n",
              "      <td>4.091740</td>\n",
              "      <td>0.006170</td>\n",
              "      <td>0.148085</td>\n",
              "    </tr>\n",
              "    <tr>\n",
              "      <th>...</th>\n",
              "      <td>...</td>\n",
              "      <td>...</td>\n",
              "      <td>...</td>\n",
              "      <td>...</td>\n",
              "      <td>...</td>\n",
              "      <td>...</td>\n",
              "      <td>...</td>\n",
              "      <td>...</td>\n",
              "      <td>...</td>\n",
              "      <td>...</td>\n",
              "    </tr>\n",
              "    <tr>\n",
              "      <th>9995</th>\n",
              "      <td>19.930093</td>\n",
              "      <td>0</td>\n",
              "      <td>0</td>\n",
              "      <td>63</td>\n",
              "      <td>o</td>\n",
              "      <td>5</td>\n",
              "      <td>d</td>\n",
              "      <td>4.025142</td>\n",
              "      <td>-0.056389</td>\n",
              "      <td>-1.123839</td>\n",
              "    </tr>\n",
              "    <tr>\n",
              "      <th>9996</th>\n",
              "      <td>22.369214</td>\n",
              "      <td>0</td>\n",
              "      <td>0</td>\n",
              "      <td>48</td>\n",
              "      <td>m</td>\n",
              "      <td>3</td>\n",
              "      <td>h</td>\n",
              "      <td>4.212572</td>\n",
              "      <td>-0.007406</td>\n",
              "      <td>-0.165666</td>\n",
              "    </tr>\n",
              "    <tr>\n",
              "      <th>9997</th>\n",
              "      <td>25.611632</td>\n",
              "      <td>0</td>\n",
              "      <td>0</td>\n",
              "      <td>36</td>\n",
              "      <td>m</td>\n",
              "      <td>5</td>\n",
              "      <td>g</td>\n",
              "      <td>3.932084</td>\n",
              "      <td>0.019695</td>\n",
              "      <td>0.504415</td>\n",
              "    </tr>\n",
              "    <tr>\n",
              "      <th>9998</th>\n",
              "      <td>19.664749</td>\n",
              "      <td>0</td>\n",
              "      <td>0</td>\n",
              "      <td>36</td>\n",
              "      <td>m</td>\n",
              "      <td>4</td>\n",
              "      <td>a</td>\n",
              "      <td>4.212681</td>\n",
              "      <td>0.109610</td>\n",
              "      <td>2.155463</td>\n",
              "    </tr>\n",
              "    <tr>\n",
              "      <th>9999</th>\n",
              "      <td>27.453102</td>\n",
              "      <td>0</td>\n",
              "      <td>0</td>\n",
              "      <td>29</td>\n",
              "      <td>f</td>\n",
              "      <td>0</td>\n",
              "      <td>f</td>\n",
              "      <td>3.945958</td>\n",
              "      <td>0.032011</td>\n",
              "      <td>0.878789</td>\n",
              "    </tr>\n",
              "  </tbody>\n",
              "</table>\n",
              "<p>10000 rows × 10 columns</p>\n",
              "</div>\n",
              "      <button class=\"colab-df-convert\" onclick=\"convertToInteractive('df-1c8bf6a0-9bf1-4e05-961d-754762855629')\"\n",
              "              title=\"Convert this dataframe to an interactive table.\"\n",
              "              style=\"display:none;\">\n",
              "        \n",
              "  <svg xmlns=\"http://www.w3.org/2000/svg\" height=\"24px\"viewBox=\"0 0 24 24\"\n",
              "       width=\"24px\">\n",
              "    <path d=\"M0 0h24v24H0V0z\" fill=\"none\"/>\n",
              "    <path d=\"M18.56 5.44l.94 2.06.94-2.06 2.06-.94-2.06-.94-.94-2.06-.94 2.06-2.06.94zm-11 1L8.5 8.5l.94-2.06 2.06-.94-2.06-.94L8.5 2.5l-.94 2.06-2.06.94zm10 10l.94 2.06.94-2.06 2.06-.94-2.06-.94-.94-2.06-.94 2.06-2.06.94z\"/><path d=\"M17.41 7.96l-1.37-1.37c-.4-.4-.92-.59-1.43-.59-.52 0-1.04.2-1.43.59L10.3 9.45l-7.72 7.72c-.78.78-.78 2.05 0 2.83L4 21.41c.39.39.9.59 1.41.59.51 0 1.02-.2 1.41-.59l7.78-7.78 2.81-2.81c.8-.78.8-2.07 0-2.86zM5.41 20L4 18.59l7.72-7.72 1.47 1.35L5.41 20z\"/>\n",
              "  </svg>\n",
              "      </button>\n",
              "      \n",
              "  <style>\n",
              "    .colab-df-container {\n",
              "      display:flex;\n",
              "      flex-wrap:wrap;\n",
              "      gap: 12px;\n",
              "    }\n",
              "\n",
              "    .colab-df-convert {\n",
              "      background-color: #E8F0FE;\n",
              "      border: none;\n",
              "      border-radius: 50%;\n",
              "      cursor: pointer;\n",
              "      display: none;\n",
              "      fill: #1967D2;\n",
              "      height: 32px;\n",
              "      padding: 0 0 0 0;\n",
              "      width: 32px;\n",
              "    }\n",
              "\n",
              "    .colab-df-convert:hover {\n",
              "      background-color: #E2EBFA;\n",
              "      box-shadow: 0px 1px 2px rgba(60, 64, 67, 0.3), 0px 1px 3px 1px rgba(60, 64, 67, 0.15);\n",
              "      fill: #174EA6;\n",
              "    }\n",
              "\n",
              "    [theme=dark] .colab-df-convert {\n",
              "      background-color: #3B4455;\n",
              "      fill: #D2E3FC;\n",
              "    }\n",
              "\n",
              "    [theme=dark] .colab-df-convert:hover {\n",
              "      background-color: #434B5C;\n",
              "      box-shadow: 0px 1px 3px 1px rgba(0, 0, 0, 0.15);\n",
              "      filter: drop-shadow(0px 1px 2px rgba(0, 0, 0, 0.3));\n",
              "      fill: #FFFFFF;\n",
              "    }\n",
              "  </style>\n",
              "\n",
              "      <script>\n",
              "        const buttonEl =\n",
              "          document.querySelector('#df-1c8bf6a0-9bf1-4e05-961d-754762855629 button.colab-df-convert');\n",
              "        buttonEl.style.display =\n",
              "          google.colab.kernel.accessAllowed ? 'block' : 'none';\n",
              "\n",
              "        async function convertToInteractive(key) {\n",
              "          const element = document.querySelector('#df-1c8bf6a0-9bf1-4e05-961d-754762855629');\n",
              "          const dataTable =\n",
              "            await google.colab.kernel.invokeFunction('convertToInteractive',\n",
              "                                                     [key], {});\n",
              "          if (!dataTable) return;\n",
              "\n",
              "          const docLinkHtml = 'Like what you see? Visit the ' +\n",
              "            '<a target=\"_blank\" href=https://colab.research.google.com/notebooks/data_table.ipynb>data table notebook</a>'\n",
              "            + ' to learn more about interactive tables.';\n",
              "          element.innerHTML = '';\n",
              "          dataTable['output_type'] = 'display_data';\n",
              "          await google.colab.output.renderOutput(dataTable, element);\n",
              "          const docLink = document.createElement('div');\n",
              "          docLink.innerHTML = docLinkHtml;\n",
              "          element.appendChild(docLink);\n",
              "        }\n",
              "      </script>\n",
              "    </div>\n",
              "  </div>\n",
              "  "
            ]
          },
          "metadata": {},
          "execution_count": 121
        }
      ]
    },
    {
      "cell_type": "code",
      "source": [
        "df2=df.loc[(df['treatment'] == 1) & (df['compliance'] == 1)]\n",
        "df2"
      ],
      "metadata": {
        "colab": {
          "base_uri": "https://localhost:8080/",
          "height": 424
        },
        "id": "M4wMPQsgIYqC",
        "outputId": "31aec0db-4d3c-4d90-a8ce-98b3593a1863"
      },
      "execution_count": null,
      "outputs": [
        {
          "output_type": "execute_result",
          "data": {
            "text/plain": [
              "        revenue  treatment  compliance  age gender  weekly zone    signal  \\\n",
              "36    22.766160          1           1   27      f       5    c  4.825855   \n",
              "45    29.711148          1           1   36      f       1    c  5.044911   \n",
              "62    22.638085          1           1   21      m       6    c  5.150665   \n",
              "106   26.800444          1           1   48      f       0    c  5.297295   \n",
              "118   31.246848          1           1   18      m       2    a  5.063844   \n",
              "...         ...        ...         ...  ...    ...     ...  ...       ...   \n",
              "4766  16.563478          1           1   28      f       1    c  4.938427   \n",
              "4779  23.371625          1           1   30      m       5    c  5.028645   \n",
              "4825  27.681646          1           1   30      m       2    c  4.900100   \n",
              "4842  16.159265          1           1   18      f       3    c  5.120005   \n",
              "4860  31.916044          1           1   33      f       2    c  5.263080   \n",
              "\n",
              "       weights  weight_rev  \n",
              "36    0.260251    5.924925  \n",
              "45    0.242888    7.216495  \n",
              "62    0.282984    6.406221  \n",
              "106   0.214866    5.758515  \n",
              "118   0.155578    4.861329  \n",
              "...        ...         ...  \n",
              "4766  0.262319    4.344920  \n",
              "4779  0.262249    6.129179  \n",
              "4825  0.265621    7.352834  \n",
              "4842  0.284359    4.595039  \n",
              "4860  0.249051    7.948717  \n",
              "\n",
              "[203 rows x 10 columns]"
            ],
            "text/html": [
              "\n",
              "  <div id=\"df-7280727a-5f22-4868-a41b-ae778ec3e562\">\n",
              "    <div class=\"colab-df-container\">\n",
              "      <div>\n",
              "<style scoped>\n",
              "    .dataframe tbody tr th:only-of-type {\n",
              "        vertical-align: middle;\n",
              "    }\n",
              "\n",
              "    .dataframe tbody tr th {\n",
              "        vertical-align: top;\n",
              "    }\n",
              "\n",
              "    .dataframe thead th {\n",
              "        text-align: right;\n",
              "    }\n",
              "</style>\n",
              "<table border=\"1\" class=\"dataframe\">\n",
              "  <thead>\n",
              "    <tr style=\"text-align: right;\">\n",
              "      <th></th>\n",
              "      <th>revenue</th>\n",
              "      <th>treatment</th>\n",
              "      <th>compliance</th>\n",
              "      <th>age</th>\n",
              "      <th>gender</th>\n",
              "      <th>weekly</th>\n",
              "      <th>zone</th>\n",
              "      <th>signal</th>\n",
              "      <th>weights</th>\n",
              "      <th>weight_rev</th>\n",
              "    </tr>\n",
              "  </thead>\n",
              "  <tbody>\n",
              "    <tr>\n",
              "      <th>36</th>\n",
              "      <td>22.766160</td>\n",
              "      <td>1</td>\n",
              "      <td>1</td>\n",
              "      <td>27</td>\n",
              "      <td>f</td>\n",
              "      <td>5</td>\n",
              "      <td>c</td>\n",
              "      <td>4.825855</td>\n",
              "      <td>0.260251</td>\n",
              "      <td>5.924925</td>\n",
              "    </tr>\n",
              "    <tr>\n",
              "      <th>45</th>\n",
              "      <td>29.711148</td>\n",
              "      <td>1</td>\n",
              "      <td>1</td>\n",
              "      <td>36</td>\n",
              "      <td>f</td>\n",
              "      <td>1</td>\n",
              "      <td>c</td>\n",
              "      <td>5.044911</td>\n",
              "      <td>0.242888</td>\n",
              "      <td>7.216495</td>\n",
              "    </tr>\n",
              "    <tr>\n",
              "      <th>62</th>\n",
              "      <td>22.638085</td>\n",
              "      <td>1</td>\n",
              "      <td>1</td>\n",
              "      <td>21</td>\n",
              "      <td>m</td>\n",
              "      <td>6</td>\n",
              "      <td>c</td>\n",
              "      <td>5.150665</td>\n",
              "      <td>0.282984</td>\n",
              "      <td>6.406221</td>\n",
              "    </tr>\n",
              "    <tr>\n",
              "      <th>106</th>\n",
              "      <td>26.800444</td>\n",
              "      <td>1</td>\n",
              "      <td>1</td>\n",
              "      <td>48</td>\n",
              "      <td>f</td>\n",
              "      <td>0</td>\n",
              "      <td>c</td>\n",
              "      <td>5.297295</td>\n",
              "      <td>0.214866</td>\n",
              "      <td>5.758515</td>\n",
              "    </tr>\n",
              "    <tr>\n",
              "      <th>118</th>\n",
              "      <td>31.246848</td>\n",
              "      <td>1</td>\n",
              "      <td>1</td>\n",
              "      <td>18</td>\n",
              "      <td>m</td>\n",
              "      <td>2</td>\n",
              "      <td>a</td>\n",
              "      <td>5.063844</td>\n",
              "      <td>0.155578</td>\n",
              "      <td>4.861329</td>\n",
              "    </tr>\n",
              "    <tr>\n",
              "      <th>...</th>\n",
              "      <td>...</td>\n",
              "      <td>...</td>\n",
              "      <td>...</td>\n",
              "      <td>...</td>\n",
              "      <td>...</td>\n",
              "      <td>...</td>\n",
              "      <td>...</td>\n",
              "      <td>...</td>\n",
              "      <td>...</td>\n",
              "      <td>...</td>\n",
              "    </tr>\n",
              "    <tr>\n",
              "      <th>4766</th>\n",
              "      <td>16.563478</td>\n",
              "      <td>1</td>\n",
              "      <td>1</td>\n",
              "      <td>28</td>\n",
              "      <td>f</td>\n",
              "      <td>1</td>\n",
              "      <td>c</td>\n",
              "      <td>4.938427</td>\n",
              "      <td>0.262319</td>\n",
              "      <td>4.344920</td>\n",
              "    </tr>\n",
              "    <tr>\n",
              "      <th>4779</th>\n",
              "      <td>23.371625</td>\n",
              "      <td>1</td>\n",
              "      <td>1</td>\n",
              "      <td>30</td>\n",
              "      <td>m</td>\n",
              "      <td>5</td>\n",
              "      <td>c</td>\n",
              "      <td>5.028645</td>\n",
              "      <td>0.262249</td>\n",
              "      <td>6.129179</td>\n",
              "    </tr>\n",
              "    <tr>\n",
              "      <th>4825</th>\n",
              "      <td>27.681646</td>\n",
              "      <td>1</td>\n",
              "      <td>1</td>\n",
              "      <td>30</td>\n",
              "      <td>m</td>\n",
              "      <td>2</td>\n",
              "      <td>c</td>\n",
              "      <td>4.900100</td>\n",
              "      <td>0.265621</td>\n",
              "      <td>7.352834</td>\n",
              "    </tr>\n",
              "    <tr>\n",
              "      <th>4842</th>\n",
              "      <td>16.159265</td>\n",
              "      <td>1</td>\n",
              "      <td>1</td>\n",
              "      <td>18</td>\n",
              "      <td>f</td>\n",
              "      <td>3</td>\n",
              "      <td>c</td>\n",
              "      <td>5.120005</td>\n",
              "      <td>0.284359</td>\n",
              "      <td>4.595039</td>\n",
              "    </tr>\n",
              "    <tr>\n",
              "      <th>4860</th>\n",
              "      <td>31.916044</td>\n",
              "      <td>1</td>\n",
              "      <td>1</td>\n",
              "      <td>33</td>\n",
              "      <td>f</td>\n",
              "      <td>2</td>\n",
              "      <td>c</td>\n",
              "      <td>5.263080</td>\n",
              "      <td>0.249051</td>\n",
              "      <td>7.948717</td>\n",
              "    </tr>\n",
              "  </tbody>\n",
              "</table>\n",
              "<p>203 rows × 10 columns</p>\n",
              "</div>\n",
              "      <button class=\"colab-df-convert\" onclick=\"convertToInteractive('df-7280727a-5f22-4868-a41b-ae778ec3e562')\"\n",
              "              title=\"Convert this dataframe to an interactive table.\"\n",
              "              style=\"display:none;\">\n",
              "        \n",
              "  <svg xmlns=\"http://www.w3.org/2000/svg\" height=\"24px\"viewBox=\"0 0 24 24\"\n",
              "       width=\"24px\">\n",
              "    <path d=\"M0 0h24v24H0V0z\" fill=\"none\"/>\n",
              "    <path d=\"M18.56 5.44l.94 2.06.94-2.06 2.06-.94-2.06-.94-.94-2.06-.94 2.06-2.06.94zm-11 1L8.5 8.5l.94-2.06 2.06-.94-2.06-.94L8.5 2.5l-.94 2.06-2.06.94zm10 10l.94 2.06.94-2.06 2.06-.94-2.06-.94-.94-2.06-.94 2.06-2.06.94z\"/><path d=\"M17.41 7.96l-1.37-1.37c-.4-.4-.92-.59-1.43-.59-.52 0-1.04.2-1.43.59L10.3 9.45l-7.72 7.72c-.78.78-.78 2.05 0 2.83L4 21.41c.39.39.9.59 1.41.59.51 0 1.02-.2 1.41-.59l7.78-7.78 2.81-2.81c.8-.78.8-2.07 0-2.86zM5.41 20L4 18.59l7.72-7.72 1.47 1.35L5.41 20z\"/>\n",
              "  </svg>\n",
              "      </button>\n",
              "      \n",
              "  <style>\n",
              "    .colab-df-container {\n",
              "      display:flex;\n",
              "      flex-wrap:wrap;\n",
              "      gap: 12px;\n",
              "    }\n",
              "\n",
              "    .colab-df-convert {\n",
              "      background-color: #E8F0FE;\n",
              "      border: none;\n",
              "      border-radius: 50%;\n",
              "      cursor: pointer;\n",
              "      display: none;\n",
              "      fill: #1967D2;\n",
              "      height: 32px;\n",
              "      padding: 0 0 0 0;\n",
              "      width: 32px;\n",
              "    }\n",
              "\n",
              "    .colab-df-convert:hover {\n",
              "      background-color: #E2EBFA;\n",
              "      box-shadow: 0px 1px 2px rgba(60, 64, 67, 0.3), 0px 1px 3px 1px rgba(60, 64, 67, 0.15);\n",
              "      fill: #174EA6;\n",
              "    }\n",
              "\n",
              "    [theme=dark] .colab-df-convert {\n",
              "      background-color: #3B4455;\n",
              "      fill: #D2E3FC;\n",
              "    }\n",
              "\n",
              "    [theme=dark] .colab-df-convert:hover {\n",
              "      background-color: #434B5C;\n",
              "      box-shadow: 0px 1px 3px 1px rgba(0, 0, 0, 0.15);\n",
              "      filter: drop-shadow(0px 1px 2px rgba(0, 0, 0, 0.3));\n",
              "      fill: #FFFFFF;\n",
              "    }\n",
              "  </style>\n",
              "\n",
              "      <script>\n",
              "        const buttonEl =\n",
              "          document.querySelector('#df-7280727a-5f22-4868-a41b-ae778ec3e562 button.colab-df-convert');\n",
              "        buttonEl.style.display =\n",
              "          google.colab.kernel.accessAllowed ? 'block' : 'none';\n",
              "\n",
              "        async function convertToInteractive(key) {\n",
              "          const element = document.querySelector('#df-7280727a-5f22-4868-a41b-ae778ec3e562');\n",
              "          const dataTable =\n",
              "            await google.colab.kernel.invokeFunction('convertToInteractive',\n",
              "                                                     [key], {});\n",
              "          if (!dataTable) return;\n",
              "\n",
              "          const docLinkHtml = 'Like what you see? Visit the ' +\n",
              "            '<a target=\"_blank\" href=https://colab.research.google.com/notebooks/data_table.ipynb>data table notebook</a>'\n",
              "            + ' to learn more about interactive tables.';\n",
              "          element.innerHTML = '';\n",
              "          dataTable['output_type'] = 'display_data';\n",
              "          await google.colab.output.renderOutput(dataTable, element);\n",
              "          const docLink = document.createElement('div');\n",
              "          docLink.innerHTML = docLinkHtml;\n",
              "          element.appendChild(docLink);\n",
              "        }\n",
              "      </script>\n",
              "    </div>\n",
              "  </div>\n",
              "  "
            ]
          },
          "metadata": {},
          "execution_count": 122
        }
      ]
    },
    {
      "cell_type": "code",
      "source": [
        "treat_comp_weight_sum = df2.weights.sum()\n",
        "treat_comp_weight_sum"
      ],
      "metadata": {
        "colab": {
          "base_uri": "https://localhost:8080/"
        },
        "id": "e5JH-nM-IdCG",
        "outputId": "d56ebf44-dceb-4175-e890-4bf5f8195b1d"
      },
      "execution_count": null,
      "outputs": [
        {
          "output_type": "execute_result",
          "data": {
            "text/plain": [
              "43.670006312329576"
            ]
          },
          "metadata": {},
          "execution_count": 123
        }
      ]
    },
    {
      "cell_type": "markdown",
      "source": [
        "(b) (5 points) Second, using these predictions as the weights, estimate the treatment effect as given by the weighted Wald estimator. Remember that the weighted Wald estimator is mathematically the same as the Wald estimator, except each term in the numerator and denominator is multiplied by that observation’s weight."
      ],
      "metadata": {
        "id": "UeqjaS1lqRqL"
      }
    },
    {
      "cell_type": "code",
      "source": [
        "treat_weights = df.loc[df[\"treatment\"]==1,[\"weights\"]]\n",
        "treat_weight_sum = treat_weights.sum()\n",
        "treat_weight_sum"
      ],
      "metadata": {
        "colab": {
          "base_uri": "https://localhost:8080/"
        },
        "id": "ZsL8EdZEM50h",
        "outputId": "5055d47e-34c3-45e1-fe3d-73213200b26e"
      },
      "execution_count": null,
      "outputs": [
        {
          "output_type": "execute_result",
          "data": {
            "text/plain": [
              "weights    203.0\n",
              "dtype: float64"
            ]
          },
          "metadata": {},
          "execution_count": 127
        }
      ]
    },
    {
      "cell_type": "code",
      "source": [
        "weighted_revenue_treat = df.loc[df[\"treatment\"]==1,[\"weight_rev\"]]\n",
        "weighted_revenue_control = df.loc[df[\"treatment\"]==0,[\"weight_rev\"]]\n",
        "weighted_treatment_compliance = (len(df2)/len(weighted_revenue_treat))"
      ],
      "metadata": {
        "id": "0rR2DmJJNXmi"
      },
      "execution_count": null,
      "outputs": []
    },
    {
      "cell_type": "code",
      "source": [
        "treated_weights"
      ],
      "metadata": {
        "id": "LlEvxIG2quUS",
        "colab": {
          "base_uri": "https://localhost:8080/",
          "height": 424
        },
        "outputId": "5df991a2-ac46-4eb4-9ae1-44c28d576c00"
      },
      "execution_count": null,
      "outputs": [
        {
          "output_type": "execute_result",
          "data": {
            "text/plain": [
              "       weights\n",
              "2732  0.061823\n",
              "2607  0.024648\n",
              "1653 -0.006310\n",
              "3264  0.050036\n",
              "4931 -0.010937\n",
              "...        ...\n",
              "4769 -0.041799\n",
              "4092 -0.017600\n",
              "2568 -0.011555\n",
              "846   0.031418\n",
              "2537  0.041735\n",
              "\n",
              "[5000 rows x 1 columns]"
            ],
            "text/html": [
              "\n",
              "  <div id=\"df-4ede6477-44d8-4b9e-8418-94bd789f6f8e\">\n",
              "    <div class=\"colab-df-container\">\n",
              "      <div>\n",
              "<style scoped>\n",
              "    .dataframe tbody tr th:only-of-type {\n",
              "        vertical-align: middle;\n",
              "    }\n",
              "\n",
              "    .dataframe tbody tr th {\n",
              "        vertical-align: top;\n",
              "    }\n",
              "\n",
              "    .dataframe thead th {\n",
              "        text-align: right;\n",
              "    }\n",
              "</style>\n",
              "<table border=\"1\" class=\"dataframe\">\n",
              "  <thead>\n",
              "    <tr style=\"text-align: right;\">\n",
              "      <th></th>\n",
              "      <th>weights</th>\n",
              "    </tr>\n",
              "  </thead>\n",
              "  <tbody>\n",
              "    <tr>\n",
              "      <th>2732</th>\n",
              "      <td>0.061823</td>\n",
              "    </tr>\n",
              "    <tr>\n",
              "      <th>2607</th>\n",
              "      <td>0.024648</td>\n",
              "    </tr>\n",
              "    <tr>\n",
              "      <th>1653</th>\n",
              "      <td>-0.006310</td>\n",
              "    </tr>\n",
              "    <tr>\n",
              "      <th>3264</th>\n",
              "      <td>0.050036</td>\n",
              "    </tr>\n",
              "    <tr>\n",
              "      <th>4931</th>\n",
              "      <td>-0.010937</td>\n",
              "    </tr>\n",
              "    <tr>\n",
              "      <th>...</th>\n",
              "      <td>...</td>\n",
              "    </tr>\n",
              "    <tr>\n",
              "      <th>4769</th>\n",
              "      <td>-0.041799</td>\n",
              "    </tr>\n",
              "    <tr>\n",
              "      <th>4092</th>\n",
              "      <td>-0.017600</td>\n",
              "    </tr>\n",
              "    <tr>\n",
              "      <th>2568</th>\n",
              "      <td>-0.011555</td>\n",
              "    </tr>\n",
              "    <tr>\n",
              "      <th>846</th>\n",
              "      <td>0.031418</td>\n",
              "    </tr>\n",
              "    <tr>\n",
              "      <th>2537</th>\n",
              "      <td>0.041735</td>\n",
              "    </tr>\n",
              "  </tbody>\n",
              "</table>\n",
              "<p>5000 rows × 1 columns</p>\n",
              "</div>\n",
              "      <button class=\"colab-df-convert\" onclick=\"convertToInteractive('df-4ede6477-44d8-4b9e-8418-94bd789f6f8e')\"\n",
              "              title=\"Convert this dataframe to an interactive table.\"\n",
              "              style=\"display:none;\">\n",
              "        \n",
              "  <svg xmlns=\"http://www.w3.org/2000/svg\" height=\"24px\"viewBox=\"0 0 24 24\"\n",
              "       width=\"24px\">\n",
              "    <path d=\"M0 0h24v24H0V0z\" fill=\"none\"/>\n",
              "    <path d=\"M18.56 5.44l.94 2.06.94-2.06 2.06-.94-2.06-.94-.94-2.06-.94 2.06-2.06.94zm-11 1L8.5 8.5l.94-2.06 2.06-.94-2.06-.94L8.5 2.5l-.94 2.06-2.06.94zm10 10l.94 2.06.94-2.06 2.06-.94-2.06-.94-.94-2.06-.94 2.06-2.06.94z\"/><path d=\"M17.41 7.96l-1.37-1.37c-.4-.4-.92-.59-1.43-.59-.52 0-1.04.2-1.43.59L10.3 9.45l-7.72 7.72c-.78.78-.78 2.05 0 2.83L4 21.41c.39.39.9.59 1.41.59.51 0 1.02-.2 1.41-.59l7.78-7.78 2.81-2.81c.8-.78.8-2.07 0-2.86zM5.41 20L4 18.59l7.72-7.72 1.47 1.35L5.41 20z\"/>\n",
              "  </svg>\n",
              "      </button>\n",
              "      \n",
              "  <style>\n",
              "    .colab-df-container {\n",
              "      display:flex;\n",
              "      flex-wrap:wrap;\n",
              "      gap: 12px;\n",
              "    }\n",
              "\n",
              "    .colab-df-convert {\n",
              "      background-color: #E8F0FE;\n",
              "      border: none;\n",
              "      border-radius: 50%;\n",
              "      cursor: pointer;\n",
              "      display: none;\n",
              "      fill: #1967D2;\n",
              "      height: 32px;\n",
              "      padding: 0 0 0 0;\n",
              "      width: 32px;\n",
              "    }\n",
              "\n",
              "    .colab-df-convert:hover {\n",
              "      background-color: #E2EBFA;\n",
              "      box-shadow: 0px 1px 2px rgba(60, 64, 67, 0.3), 0px 1px 3px 1px rgba(60, 64, 67, 0.15);\n",
              "      fill: #174EA6;\n",
              "    }\n",
              "\n",
              "    [theme=dark] .colab-df-convert {\n",
              "      background-color: #3B4455;\n",
              "      fill: #D2E3FC;\n",
              "    }\n",
              "\n",
              "    [theme=dark] .colab-df-convert:hover {\n",
              "      background-color: #434B5C;\n",
              "      box-shadow: 0px 1px 3px 1px rgba(0, 0, 0, 0.15);\n",
              "      filter: drop-shadow(0px 1px 2px rgba(0, 0, 0, 0.3));\n",
              "      fill: #FFFFFF;\n",
              "    }\n",
              "  </style>\n",
              "\n",
              "      <script>\n",
              "        const buttonEl =\n",
              "          document.querySelector('#df-4ede6477-44d8-4b9e-8418-94bd789f6f8e button.colab-df-convert');\n",
              "        buttonEl.style.display =\n",
              "          google.colab.kernel.accessAllowed ? 'block' : 'none';\n",
              "\n",
              "        async function convertToInteractive(key) {\n",
              "          const element = document.querySelector('#df-4ede6477-44d8-4b9e-8418-94bd789f6f8e');\n",
              "          const dataTable =\n",
              "            await google.colab.kernel.invokeFunction('convertToInteractive',\n",
              "                                                     [key], {});\n",
              "          if (!dataTable) return;\n",
              "\n",
              "          const docLinkHtml = 'Like what you see? Visit the ' +\n",
              "            '<a target=\"_blank\" href=https://colab.research.google.com/notebooks/data_table.ipynb>data table notebook</a>'\n",
              "            + ' to learn more about interactive tables.';\n",
              "          element.innerHTML = '';\n",
              "          dataTable['output_type'] = 'display_data';\n",
              "          await google.colab.output.renderOutput(dataTable, element);\n",
              "          const docLink = document.createElement('div');\n",
              "          docLink.innerHTML = docLinkHtml;\n",
              "          element.appendChild(docLink);\n",
              "        }\n",
              "      </script>\n",
              "    </div>\n",
              "  </div>\n",
              "  "
            ]
          },
          "metadata": {},
          "execution_count": 136
        }
      ]
    },
    {
      "cell_type": "code",
      "source": [
        "avg_treat_comply_weights = float(treated_comply_weight_sum/treat_weight_sum)\n",
        "float(avg_treat_comply_weights)"
      ],
      "metadata": {
        "colab": {
          "base_uri": "https://localhost:8080/"
        },
        "id": "-9feL_aGNINX",
        "outputId": "00cb4fe9-ea0e-4430-d80c-9768b5befa87"
      },
      "execution_count": null,
      "outputs": [
        {
          "output_type": "execute_result",
          "data": {
            "text/plain": [
              "0.2151231838045828"
            ]
          },
          "metadata": {},
          "execution_count": 138
        }
      ]
    },
    {
      "cell_type": "code",
      "source": [
        "weighted_difference = weighted_revenue_treat.mean() - weighted_revenue_control.mean()\n",
        "weighted_difference"
      ],
      "metadata": {
        "colab": {
          "base_uri": "https://localhost:8080/"
        },
        "id": "AR1qI02BNKJ-",
        "outputId": "18e74273-3f81-4e61-b2f3-d93531aecbb8"
      },
      "execution_count": null,
      "outputs": [
        {
          "output_type": "execute_result",
          "data": {
            "text/plain": [
              "weight_rev    0.035908\n",
              "dtype: float64"
            ]
          },
          "metadata": {},
          "execution_count": 139
        }
      ]
    },
    {
      "cell_type": "code",
      "source": [
        "weighted_wald_estimator_v2 = (weighted_revenue_treat.mean() - weighted_revenue_control.mean())/(avg_treat_comply_weights)\n",
        "weighted_wald_estimator_v2"
      ],
      "metadata": {
        "colab": {
          "base_uri": "https://localhost:8080/"
        },
        "id": "1SMY2M3_NunL",
        "outputId": "379d153e-8bc4-49c4-f886-645fb957d920"
      },
      "execution_count": null,
      "outputs": [
        {
          "output_type": "execute_result",
          "data": {
            "text/plain": [
              "weight_rev    0.166916\n",
              "dtype: float64"
            ]
          },
          "metadata": {},
          "execution_count": 140
        }
      ]
    },
    {
      "cell_type": "markdown",
      "source": [
        "(c) (10 points) Third, compute the standard deviation of the weighted Wald estimator by bootstrapping, using at least 2,000 iterations. Note that you do not need to re-train a linear regression model on each iteration."
      ],
      "metadata": {
        "id": "KPDFpJF3qUs9"
      }
    },
    {
      "cell_type": "code",
      "source": [
        "# Compute bootstrapped estimates\n",
        "# First identify the treated and control units\n",
        "samples4 = []\n",
        "i = np.where(df['treatment'] == 1)[0]\n",
        "j = np.where(df['treatment'] == 0)[0]\n",
        "# Set some fixed seed\n",
        "np.random.seed(0)\n",
        "# Run 2000 iterations of the bootstrap\n",
        "for counter in range(2000):\n",
        "  # Implement re-sampling with 5000 treated and 5000 control units\n",
        "  i_sample = np.random.choice(i, len(i), replace = True)\n",
        "  j_sample = np.random.choice(j, len(j), replace = True)\n",
        "    # Create resampled data\n",
        "  resample = df.iloc[np.append(i_sample, j_sample),]\n",
        "    #subset resampled data to find number of people in treatment that complied\n",
        "  df_r=resample.loc[(resample['treatment'] == 1) & (resample['compliance'] == 1)]\n",
        "  treated_weights = resample.loc[df[\"treatment\"]==1,[\"weights\"]]\n",
        "    #find proportion of people in treated group that complied \n",
        "  avg_treat_comply = float((df_r.weights.sum())/treated_weights.sum())\n",
        "  a = np.average(resample.loc[resample['treatment'] == 1,'weight_rev'])\n",
        "  b = np.average(resample.loc[resample['treatment'] == 0,'weight_rev'])\n",
        "    # Compute difference in means in resampled data and divided by average treated compliance\n",
        "  samples4.append((a-b)/avg_treat_comply)"
      ],
      "metadata": {
        "id": "OIUSqAxYqu_v"
      },
      "execution_count": null,
      "outputs": []
    },
    {
      "cell_type": "code",
      "source": [
        "  print('The bootstrapped SE is ' + str(round(np.std(samples4), 4)))"
      ],
      "metadata": {
        "colab": {
          "base_uri": "https://localhost:8080/"
        },
        "id": "oi9dURuaLY2N",
        "outputId": "eea8d758-5003-4ab9-fe83-111cf3916903"
      },
      "execution_count": null,
      "outputs": [
        {
          "output_type": "stream",
          "name": "stdout",
          "text": [
            "The bootstrapped SE is 0.154\n"
          ]
        }
      ]
    },
    {
      "cell_type": "markdown",
      "source": [
        "5. Now let’s introduce the last variable, signal. A data scientist at DoorDash tells you that she has found a high-quality predictor of compliance, called signal.\n",
        "\n",
        "(a) (10 points) First, using this new variable along with all original variables: (i) build a new model to predict compliance, (ii) generate a new weighted Wald estimate, and (iii) generate new standard errors by bootstrap (using 2,000 iterations).\n"
      ],
      "metadata": {
        "id": "7oVLZnObqdn9"
      }
    },
    {
      "cell_type": "code",
      "source": [
        "result_2 = sm.ols(formula=\"compliance ~ age + gender + weekly + zone + signal\", \n",
        "                data = df4).fit()\n",
        "print(result_2.summary())"
      ],
      "metadata": {
        "id": "8T3wEkm2p0ec",
        "colab": {
          "base_uri": "https://localhost:8080/"
        },
        "outputId": "102845ec-da87-4b74-a3f1-91b79e7eca82"
      },
      "execution_count": null,
      "outputs": [
        {
          "output_type": "stream",
          "name": "stdout",
          "text": [
            "                            OLS Regression Results                            \n",
            "==============================================================================\n",
            "Dep. Variable:             compliance   R-squared:                       0.667\n",
            "Model:                            OLS   Adj. R-squared:                  0.666\n",
            "Method:                 Least Squares   F-statistic:                     831.9\n",
            "Date:                Mon, 14 Nov 2022   Prob (F-statistic):               0.00\n",
            "Time:                        19:46:56   Log-Likelihood:                 3766.9\n",
            "No. Observations:                5000   AIC:                            -7508.\n",
            "Df Residuals:                    4987   BIC:                            -7423.\n",
            "Df Model:                          12                                         \n",
            "Covariance Type:            nonrobust                                         \n",
            "===============================================================================\n",
            "                  coef    std err          t      P>|t|      [0.025      0.975]\n",
            "-------------------------------------------------------------------------------\n",
            "Intercept      -2.2739      0.030    -76.052      0.000      -2.332      -2.215\n",
            "gender[T.m]     0.0103      0.004      2.593      0.010       0.003       0.018\n",
            "gender[T.o]     0.0053      0.004      1.340      0.180      -0.002       0.013\n",
            "zone[T.b]      -0.0419      0.007     -6.418      0.000      -0.055      -0.029\n",
            "zone[T.c]       0.0521      0.007      7.986      0.000       0.039       0.065\n",
            "zone[T.d]      -0.0333      0.006     -5.169      0.000      -0.046      -0.021\n",
            "zone[T.e]      -0.0424      0.007     -6.379      0.000      -0.055      -0.029\n",
            "zone[T.f]      -0.0325      0.006     -5.051      0.000      -0.045      -0.020\n",
            "zone[T.g]      -0.0385      0.006     -5.937      0.000      -0.051      -0.026\n",
            "zone[T.h]      -0.0380      0.006     -5.867      0.000      -0.051      -0.025\n",
            "age            -0.0011      0.000     -8.933      0.000      -0.001      -0.001\n",
            "weekly      -6.767e-05      0.001     -0.095      0.924      -0.001       0.001\n",
            "signal          0.5878      0.007     85.203      0.000       0.574       0.601\n",
            "==============================================================================\n",
            "Omnibus:                      785.359   Durbin-Watson:                   1.990\n",
            "Prob(Omnibus):                  0.000   Jarque-Bera (JB):             1782.105\n",
            "Skew:                           0.909   Prob(JB):                         0.00\n",
            "Kurtosis:                       5.291   Cond. No.                         839.\n",
            "==============================================================================\n",
            "\n",
            "Notes:\n",
            "[1] Standard Errors assume that the covariance matrix of the errors is correctly specified.\n"
          ]
        }
      ]
    },
    {
      "cell_type": "code",
      "source": [
        "new_weights = result_2.predict(df)\n",
        "new_weights"
      ],
      "metadata": {
        "colab": {
          "base_uri": "https://localhost:8080/"
        },
        "id": "cuw0mZsSOH7F",
        "outputId": "083c2958-1195-4be5-876c-c90d96a547b5"
      },
      "execution_count": null,
      "outputs": [
        {
          "output_type": "execute_result",
          "data": {
            "text/plain": [
              "0      -0.002425\n",
              "1       0.034927\n",
              "2      -0.020371\n",
              "3       0.125139\n",
              "4       0.053824\n",
              "          ...   \n",
              "9995   -0.003912\n",
              "9996    0.122873\n",
              "9997   -0.029820\n",
              "9998    0.173712\n",
              "9999   -0.018019\n",
              "Length: 10000, dtype: float64"
            ]
          },
          "metadata": {},
          "execution_count": 145
        }
      ]
    },
    {
      "cell_type": "code",
      "source": [
        "new_weights = np.array(new_weights)\n",
        "new_weights"
      ],
      "metadata": {
        "colab": {
          "base_uri": "https://localhost:8080/"
        },
        "id": "xNIeNgfcOJ2o",
        "outputId": "6f9cb002-faf4-4827-a287-69c290c23bfd"
      },
      "execution_count": null,
      "outputs": [
        {
          "output_type": "execute_result",
          "data": {
            "text/plain": [
              "array([-0.00242484,  0.03492654, -0.02037136, ..., -0.0298205 ,\n",
              "        0.17371164, -0.01801875])"
            ]
          },
          "metadata": {},
          "execution_count": 146
        }
      ]
    },
    {
      "cell_type": "code",
      "source": [
        "df['new_weights'] = new_weights"
      ],
      "metadata": {
        "id": "vl-raPW1OjjT"
      },
      "execution_count": null,
      "outputs": []
    },
    {
      "cell_type": "code",
      "source": [
        "df['new_signal_revenue'] = np.multiply(new_weights, df.revenue)\n",
        "df"
      ],
      "metadata": {
        "colab": {
          "base_uri": "https://localhost:8080/",
          "height": 424
        },
        "id": "TmroHlkHOZtr",
        "outputId": "2f2d30d6-b439-4763-f175-f771bae672aa"
      },
      "execution_count": null,
      "outputs": [
        {
          "output_type": "execute_result",
          "data": {
            "text/plain": [
              "        revenue  treatment  compliance  age gender  weekly zone    signal  \\\n",
              "0     13.327541          1           0   65      m       2    e  4.037839   \n",
              "1     23.808945          1           0   37      m       7    b  4.050101   \n",
              "2     24.997824          1           0   51      m       1    d  3.966287   \n",
              "3     22.750393          1           0   59      o       3    c  4.091852   \n",
              "4     24.001336          1           0   38      o       0    b  4.091740   \n",
              "...         ...        ...         ...  ...    ...     ...  ...       ...   \n",
              "9995  19.930093          0           0   63      o       5    d  4.025142   \n",
              "9996  22.369214          0           0   48      m       3    h  4.212572   \n",
              "9997  25.611632          0           0   36      m       5    g  3.932084   \n",
              "9998  19.664749          0           0   36      m       4    a  4.212681   \n",
              "9999  27.453102          0           0   29      f       0    f  3.945958   \n",
              "\n",
              "       weights  weight_rev  new_weights  new_signal_revenue  \n",
              "0    -0.048051   -0.640403    -0.002425           -0.032317  \n",
              "1     0.013738    0.327077     0.034927            0.831564  \n",
              "2    -0.009738   -0.243428    -0.020371           -0.509240  \n",
              "3     0.181052    4.119009     0.125139            2.846965  \n",
              "4     0.006170    0.148085     0.053824            1.291846  \n",
              "...        ...         ...          ...                 ...  \n",
              "9995 -0.056389   -1.123839    -0.003912           -0.077968  \n",
              "9996 -0.007406   -0.165666     0.122873            2.748580  \n",
              "9997  0.019695    0.504415    -0.029820           -0.763752  \n",
              "9998  0.109610    2.155463     0.173712            3.415996  \n",
              "9999  0.032011    0.878789    -0.018019           -0.494671  \n",
              "\n",
              "[10000 rows x 12 columns]"
            ],
            "text/html": [
              "\n",
              "  <div id=\"df-3deff507-f96d-4ea2-84c1-de6148060e08\">\n",
              "    <div class=\"colab-df-container\">\n",
              "      <div>\n",
              "<style scoped>\n",
              "    .dataframe tbody tr th:only-of-type {\n",
              "        vertical-align: middle;\n",
              "    }\n",
              "\n",
              "    .dataframe tbody tr th {\n",
              "        vertical-align: top;\n",
              "    }\n",
              "\n",
              "    .dataframe thead th {\n",
              "        text-align: right;\n",
              "    }\n",
              "</style>\n",
              "<table border=\"1\" class=\"dataframe\">\n",
              "  <thead>\n",
              "    <tr style=\"text-align: right;\">\n",
              "      <th></th>\n",
              "      <th>revenue</th>\n",
              "      <th>treatment</th>\n",
              "      <th>compliance</th>\n",
              "      <th>age</th>\n",
              "      <th>gender</th>\n",
              "      <th>weekly</th>\n",
              "      <th>zone</th>\n",
              "      <th>signal</th>\n",
              "      <th>weights</th>\n",
              "      <th>weight_rev</th>\n",
              "      <th>new_weights</th>\n",
              "      <th>new_signal_revenue</th>\n",
              "    </tr>\n",
              "  </thead>\n",
              "  <tbody>\n",
              "    <tr>\n",
              "      <th>0</th>\n",
              "      <td>13.327541</td>\n",
              "      <td>1</td>\n",
              "      <td>0</td>\n",
              "      <td>65</td>\n",
              "      <td>m</td>\n",
              "      <td>2</td>\n",
              "      <td>e</td>\n",
              "      <td>4.037839</td>\n",
              "      <td>-0.048051</td>\n",
              "      <td>-0.640403</td>\n",
              "      <td>-0.002425</td>\n",
              "      <td>-0.032317</td>\n",
              "    </tr>\n",
              "    <tr>\n",
              "      <th>1</th>\n",
              "      <td>23.808945</td>\n",
              "      <td>1</td>\n",
              "      <td>0</td>\n",
              "      <td>37</td>\n",
              "      <td>m</td>\n",
              "      <td>7</td>\n",
              "      <td>b</td>\n",
              "      <td>4.050101</td>\n",
              "      <td>0.013738</td>\n",
              "      <td>0.327077</td>\n",
              "      <td>0.034927</td>\n",
              "      <td>0.831564</td>\n",
              "    </tr>\n",
              "    <tr>\n",
              "      <th>2</th>\n",
              "      <td>24.997824</td>\n",
              "      <td>1</td>\n",
              "      <td>0</td>\n",
              "      <td>51</td>\n",
              "      <td>m</td>\n",
              "      <td>1</td>\n",
              "      <td>d</td>\n",
              "      <td>3.966287</td>\n",
              "      <td>-0.009738</td>\n",
              "      <td>-0.243428</td>\n",
              "      <td>-0.020371</td>\n",
              "      <td>-0.509240</td>\n",
              "    </tr>\n",
              "    <tr>\n",
              "      <th>3</th>\n",
              "      <td>22.750393</td>\n",
              "      <td>1</td>\n",
              "      <td>0</td>\n",
              "      <td>59</td>\n",
              "      <td>o</td>\n",
              "      <td>3</td>\n",
              "      <td>c</td>\n",
              "      <td>4.091852</td>\n",
              "      <td>0.181052</td>\n",
              "      <td>4.119009</td>\n",
              "      <td>0.125139</td>\n",
              "      <td>2.846965</td>\n",
              "    </tr>\n",
              "    <tr>\n",
              "      <th>4</th>\n",
              "      <td>24.001336</td>\n",
              "      <td>1</td>\n",
              "      <td>0</td>\n",
              "      <td>38</td>\n",
              "      <td>o</td>\n",
              "      <td>0</td>\n",
              "      <td>b</td>\n",
              "      <td>4.091740</td>\n",
              "      <td>0.006170</td>\n",
              "      <td>0.148085</td>\n",
              "      <td>0.053824</td>\n",
              "      <td>1.291846</td>\n",
              "    </tr>\n",
              "    <tr>\n",
              "      <th>...</th>\n",
              "      <td>...</td>\n",
              "      <td>...</td>\n",
              "      <td>...</td>\n",
              "      <td>...</td>\n",
              "      <td>...</td>\n",
              "      <td>...</td>\n",
              "      <td>...</td>\n",
              "      <td>...</td>\n",
              "      <td>...</td>\n",
              "      <td>...</td>\n",
              "      <td>...</td>\n",
              "      <td>...</td>\n",
              "    </tr>\n",
              "    <tr>\n",
              "      <th>9995</th>\n",
              "      <td>19.930093</td>\n",
              "      <td>0</td>\n",
              "      <td>0</td>\n",
              "      <td>63</td>\n",
              "      <td>o</td>\n",
              "      <td>5</td>\n",
              "      <td>d</td>\n",
              "      <td>4.025142</td>\n",
              "      <td>-0.056389</td>\n",
              "      <td>-1.123839</td>\n",
              "      <td>-0.003912</td>\n",
              "      <td>-0.077968</td>\n",
              "    </tr>\n",
              "    <tr>\n",
              "      <th>9996</th>\n",
              "      <td>22.369214</td>\n",
              "      <td>0</td>\n",
              "      <td>0</td>\n",
              "      <td>48</td>\n",
              "      <td>m</td>\n",
              "      <td>3</td>\n",
              "      <td>h</td>\n",
              "      <td>4.212572</td>\n",
              "      <td>-0.007406</td>\n",
              "      <td>-0.165666</td>\n",
              "      <td>0.122873</td>\n",
              "      <td>2.748580</td>\n",
              "    </tr>\n",
              "    <tr>\n",
              "      <th>9997</th>\n",
              "      <td>25.611632</td>\n",
              "      <td>0</td>\n",
              "      <td>0</td>\n",
              "      <td>36</td>\n",
              "      <td>m</td>\n",
              "      <td>5</td>\n",
              "      <td>g</td>\n",
              "      <td>3.932084</td>\n",
              "      <td>0.019695</td>\n",
              "      <td>0.504415</td>\n",
              "      <td>-0.029820</td>\n",
              "      <td>-0.763752</td>\n",
              "    </tr>\n",
              "    <tr>\n",
              "      <th>9998</th>\n",
              "      <td>19.664749</td>\n",
              "      <td>0</td>\n",
              "      <td>0</td>\n",
              "      <td>36</td>\n",
              "      <td>m</td>\n",
              "      <td>4</td>\n",
              "      <td>a</td>\n",
              "      <td>4.212681</td>\n",
              "      <td>0.109610</td>\n",
              "      <td>2.155463</td>\n",
              "      <td>0.173712</td>\n",
              "      <td>3.415996</td>\n",
              "    </tr>\n",
              "    <tr>\n",
              "      <th>9999</th>\n",
              "      <td>27.453102</td>\n",
              "      <td>0</td>\n",
              "      <td>0</td>\n",
              "      <td>29</td>\n",
              "      <td>f</td>\n",
              "      <td>0</td>\n",
              "      <td>f</td>\n",
              "      <td>3.945958</td>\n",
              "      <td>0.032011</td>\n",
              "      <td>0.878789</td>\n",
              "      <td>-0.018019</td>\n",
              "      <td>-0.494671</td>\n",
              "    </tr>\n",
              "  </tbody>\n",
              "</table>\n",
              "<p>10000 rows × 12 columns</p>\n",
              "</div>\n",
              "      <button class=\"colab-df-convert\" onclick=\"convertToInteractive('df-3deff507-f96d-4ea2-84c1-de6148060e08')\"\n",
              "              title=\"Convert this dataframe to an interactive table.\"\n",
              "              style=\"display:none;\">\n",
              "        \n",
              "  <svg xmlns=\"http://www.w3.org/2000/svg\" height=\"24px\"viewBox=\"0 0 24 24\"\n",
              "       width=\"24px\">\n",
              "    <path d=\"M0 0h24v24H0V0z\" fill=\"none\"/>\n",
              "    <path d=\"M18.56 5.44l.94 2.06.94-2.06 2.06-.94-2.06-.94-.94-2.06-.94 2.06-2.06.94zm-11 1L8.5 8.5l.94-2.06 2.06-.94-2.06-.94L8.5 2.5l-.94 2.06-2.06.94zm10 10l.94 2.06.94-2.06 2.06-.94-2.06-.94-.94-2.06-.94 2.06-2.06.94z\"/><path d=\"M17.41 7.96l-1.37-1.37c-.4-.4-.92-.59-1.43-.59-.52 0-1.04.2-1.43.59L10.3 9.45l-7.72 7.72c-.78.78-.78 2.05 0 2.83L4 21.41c.39.39.9.59 1.41.59.51 0 1.02-.2 1.41-.59l7.78-7.78 2.81-2.81c.8-.78.8-2.07 0-2.86zM5.41 20L4 18.59l7.72-7.72 1.47 1.35L5.41 20z\"/>\n",
              "  </svg>\n",
              "      </button>\n",
              "      \n",
              "  <style>\n",
              "    .colab-df-container {\n",
              "      display:flex;\n",
              "      flex-wrap:wrap;\n",
              "      gap: 12px;\n",
              "    }\n",
              "\n",
              "    .colab-df-convert {\n",
              "      background-color: #E8F0FE;\n",
              "      border: none;\n",
              "      border-radius: 50%;\n",
              "      cursor: pointer;\n",
              "      display: none;\n",
              "      fill: #1967D2;\n",
              "      height: 32px;\n",
              "      padding: 0 0 0 0;\n",
              "      width: 32px;\n",
              "    }\n",
              "\n",
              "    .colab-df-convert:hover {\n",
              "      background-color: #E2EBFA;\n",
              "      box-shadow: 0px 1px 2px rgba(60, 64, 67, 0.3), 0px 1px 3px 1px rgba(60, 64, 67, 0.15);\n",
              "      fill: #174EA6;\n",
              "    }\n",
              "\n",
              "    [theme=dark] .colab-df-convert {\n",
              "      background-color: #3B4455;\n",
              "      fill: #D2E3FC;\n",
              "    }\n",
              "\n",
              "    [theme=dark] .colab-df-convert:hover {\n",
              "      background-color: #434B5C;\n",
              "      box-shadow: 0px 1px 3px 1px rgba(0, 0, 0, 0.15);\n",
              "      filter: drop-shadow(0px 1px 2px rgba(0, 0, 0, 0.3));\n",
              "      fill: #FFFFFF;\n",
              "    }\n",
              "  </style>\n",
              "\n",
              "      <script>\n",
              "        const buttonEl =\n",
              "          document.querySelector('#df-3deff507-f96d-4ea2-84c1-de6148060e08 button.colab-df-convert');\n",
              "        buttonEl.style.display =\n",
              "          google.colab.kernel.accessAllowed ? 'block' : 'none';\n",
              "\n",
              "        async function convertToInteractive(key) {\n",
              "          const element = document.querySelector('#df-3deff507-f96d-4ea2-84c1-de6148060e08');\n",
              "          const dataTable =\n",
              "            await google.colab.kernel.invokeFunction('convertToInteractive',\n",
              "                                                     [key], {});\n",
              "          if (!dataTable) return;\n",
              "\n",
              "          const docLinkHtml = 'Like what you see? Visit the ' +\n",
              "            '<a target=\"_blank\" href=https://colab.research.google.com/notebooks/data_table.ipynb>data table notebook</a>'\n",
              "            + ' to learn more about interactive tables.';\n",
              "          element.innerHTML = '';\n",
              "          dataTable['output_type'] = 'display_data';\n",
              "          await google.colab.output.renderOutput(dataTable, element);\n",
              "          const docLink = document.createElement('div');\n",
              "          docLink.innerHTML = docLinkHtml;\n",
              "          element.appendChild(docLink);\n",
              "        }\n",
              "      </script>\n",
              "    </div>\n",
              "  </div>\n",
              "  "
            ]
          },
          "metadata": {},
          "execution_count": 148
        }
      ]
    },
    {
      "cell_type": "code",
      "source": [
        "df3=df.loc[(df['treatment'] == 1) & (df['compliance'] == 1)]\n",
        "df3"
      ],
      "metadata": {
        "colab": {
          "base_uri": "https://localhost:8080/",
          "height": 424
        },
        "id": "8WMC0Ws6Qs6d",
        "outputId": "f9271d26-f4c3-4a30-8534-18c9cb8369f1"
      },
      "execution_count": null,
      "outputs": [
        {
          "output_type": "execute_result",
          "data": {
            "text/plain": [
              "        revenue  treatment  compliance  age gender  weekly zone    signal  \\\n",
              "36    22.766160          1           1   27      f       5    c  4.825855   \n",
              "45    29.711148          1           1   36      f       1    c  5.044911   \n",
              "62    22.638085          1           1   21      m       6    c  5.150665   \n",
              "106   26.800444          1           1   48      f       0    c  5.297295   \n",
              "118   31.246848          1           1   18      m       2    a  5.063844   \n",
              "...         ...        ...         ...  ...    ...     ...  ...       ...   \n",
              "4766  16.563478          1           1   28      f       1    c  4.938427   \n",
              "4779  23.371625          1           1   30      m       5    c  5.028645   \n",
              "4825  27.681646          1           1   30      m       2    c  4.900100   \n",
              "4842  16.159265          1           1   18      f       3    c  5.120005   \n",
              "4860  31.916044          1           1   33      f       2    c  5.263080   \n",
              "\n",
              "       weights  weight_rev  new_weights  new_signal_revenue  \n",
              "36    0.260251    5.924925     0.585536           13.330406  \n",
              "45    0.242888    7.216495     0.704903           20.943484  \n",
              "62    0.282984    6.406221     0.793097           17.954203  \n",
              "106   0.214866    5.758515     0.840437           22.524073  \n",
              "118   0.155578    4.861329     0.693495           21.669518  \n",
              "...        ...         ...          ...                 ...  \n",
              "4766  0.262319    4.344920     0.650903           10.781219  \n",
              "4779  0.262249    6.129179     0.711776           16.635362  \n",
              "4825  0.265621    7.352834     0.636419           17.617136  \n",
              "4842  0.284359    4.595039     0.768239           12.414171  \n",
              "4860  0.249051    7.948717     0.836298           26.691330  \n",
              "\n",
              "[203 rows x 12 columns]"
            ],
            "text/html": [
              "\n",
              "  <div id=\"df-cb27d27f-f165-4e12-b47e-1cbaa6942ee7\">\n",
              "    <div class=\"colab-df-container\">\n",
              "      <div>\n",
              "<style scoped>\n",
              "    .dataframe tbody tr th:only-of-type {\n",
              "        vertical-align: middle;\n",
              "    }\n",
              "\n",
              "    .dataframe tbody tr th {\n",
              "        vertical-align: top;\n",
              "    }\n",
              "\n",
              "    .dataframe thead th {\n",
              "        text-align: right;\n",
              "    }\n",
              "</style>\n",
              "<table border=\"1\" class=\"dataframe\">\n",
              "  <thead>\n",
              "    <tr style=\"text-align: right;\">\n",
              "      <th></th>\n",
              "      <th>revenue</th>\n",
              "      <th>treatment</th>\n",
              "      <th>compliance</th>\n",
              "      <th>age</th>\n",
              "      <th>gender</th>\n",
              "      <th>weekly</th>\n",
              "      <th>zone</th>\n",
              "      <th>signal</th>\n",
              "      <th>weights</th>\n",
              "      <th>weight_rev</th>\n",
              "      <th>new_weights</th>\n",
              "      <th>new_signal_revenue</th>\n",
              "    </tr>\n",
              "  </thead>\n",
              "  <tbody>\n",
              "    <tr>\n",
              "      <th>36</th>\n",
              "      <td>22.766160</td>\n",
              "      <td>1</td>\n",
              "      <td>1</td>\n",
              "      <td>27</td>\n",
              "      <td>f</td>\n",
              "      <td>5</td>\n",
              "      <td>c</td>\n",
              "      <td>4.825855</td>\n",
              "      <td>0.260251</td>\n",
              "      <td>5.924925</td>\n",
              "      <td>0.585536</td>\n",
              "      <td>13.330406</td>\n",
              "    </tr>\n",
              "    <tr>\n",
              "      <th>45</th>\n",
              "      <td>29.711148</td>\n",
              "      <td>1</td>\n",
              "      <td>1</td>\n",
              "      <td>36</td>\n",
              "      <td>f</td>\n",
              "      <td>1</td>\n",
              "      <td>c</td>\n",
              "      <td>5.044911</td>\n",
              "      <td>0.242888</td>\n",
              "      <td>7.216495</td>\n",
              "      <td>0.704903</td>\n",
              "      <td>20.943484</td>\n",
              "    </tr>\n",
              "    <tr>\n",
              "      <th>62</th>\n",
              "      <td>22.638085</td>\n",
              "      <td>1</td>\n",
              "      <td>1</td>\n",
              "      <td>21</td>\n",
              "      <td>m</td>\n",
              "      <td>6</td>\n",
              "      <td>c</td>\n",
              "      <td>5.150665</td>\n",
              "      <td>0.282984</td>\n",
              "      <td>6.406221</td>\n",
              "      <td>0.793097</td>\n",
              "      <td>17.954203</td>\n",
              "    </tr>\n",
              "    <tr>\n",
              "      <th>106</th>\n",
              "      <td>26.800444</td>\n",
              "      <td>1</td>\n",
              "      <td>1</td>\n",
              "      <td>48</td>\n",
              "      <td>f</td>\n",
              "      <td>0</td>\n",
              "      <td>c</td>\n",
              "      <td>5.297295</td>\n",
              "      <td>0.214866</td>\n",
              "      <td>5.758515</td>\n",
              "      <td>0.840437</td>\n",
              "      <td>22.524073</td>\n",
              "    </tr>\n",
              "    <tr>\n",
              "      <th>118</th>\n",
              "      <td>31.246848</td>\n",
              "      <td>1</td>\n",
              "      <td>1</td>\n",
              "      <td>18</td>\n",
              "      <td>m</td>\n",
              "      <td>2</td>\n",
              "      <td>a</td>\n",
              "      <td>5.063844</td>\n",
              "      <td>0.155578</td>\n",
              "      <td>4.861329</td>\n",
              "      <td>0.693495</td>\n",
              "      <td>21.669518</td>\n",
              "    </tr>\n",
              "    <tr>\n",
              "      <th>...</th>\n",
              "      <td>...</td>\n",
              "      <td>...</td>\n",
              "      <td>...</td>\n",
              "      <td>...</td>\n",
              "      <td>...</td>\n",
              "      <td>...</td>\n",
              "      <td>...</td>\n",
              "      <td>...</td>\n",
              "      <td>...</td>\n",
              "      <td>...</td>\n",
              "      <td>...</td>\n",
              "      <td>...</td>\n",
              "    </tr>\n",
              "    <tr>\n",
              "      <th>4766</th>\n",
              "      <td>16.563478</td>\n",
              "      <td>1</td>\n",
              "      <td>1</td>\n",
              "      <td>28</td>\n",
              "      <td>f</td>\n",
              "      <td>1</td>\n",
              "      <td>c</td>\n",
              "      <td>4.938427</td>\n",
              "      <td>0.262319</td>\n",
              "      <td>4.344920</td>\n",
              "      <td>0.650903</td>\n",
              "      <td>10.781219</td>\n",
              "    </tr>\n",
              "    <tr>\n",
              "      <th>4779</th>\n",
              "      <td>23.371625</td>\n",
              "      <td>1</td>\n",
              "      <td>1</td>\n",
              "      <td>30</td>\n",
              "      <td>m</td>\n",
              "      <td>5</td>\n",
              "      <td>c</td>\n",
              "      <td>5.028645</td>\n",
              "      <td>0.262249</td>\n",
              "      <td>6.129179</td>\n",
              "      <td>0.711776</td>\n",
              "      <td>16.635362</td>\n",
              "    </tr>\n",
              "    <tr>\n",
              "      <th>4825</th>\n",
              "      <td>27.681646</td>\n",
              "      <td>1</td>\n",
              "      <td>1</td>\n",
              "      <td>30</td>\n",
              "      <td>m</td>\n",
              "      <td>2</td>\n",
              "      <td>c</td>\n",
              "      <td>4.900100</td>\n",
              "      <td>0.265621</td>\n",
              "      <td>7.352834</td>\n",
              "      <td>0.636419</td>\n",
              "      <td>17.617136</td>\n",
              "    </tr>\n",
              "    <tr>\n",
              "      <th>4842</th>\n",
              "      <td>16.159265</td>\n",
              "      <td>1</td>\n",
              "      <td>1</td>\n",
              "      <td>18</td>\n",
              "      <td>f</td>\n",
              "      <td>3</td>\n",
              "      <td>c</td>\n",
              "      <td>5.120005</td>\n",
              "      <td>0.284359</td>\n",
              "      <td>4.595039</td>\n",
              "      <td>0.768239</td>\n",
              "      <td>12.414171</td>\n",
              "    </tr>\n",
              "    <tr>\n",
              "      <th>4860</th>\n",
              "      <td>31.916044</td>\n",
              "      <td>1</td>\n",
              "      <td>1</td>\n",
              "      <td>33</td>\n",
              "      <td>f</td>\n",
              "      <td>2</td>\n",
              "      <td>c</td>\n",
              "      <td>5.263080</td>\n",
              "      <td>0.249051</td>\n",
              "      <td>7.948717</td>\n",
              "      <td>0.836298</td>\n",
              "      <td>26.691330</td>\n",
              "    </tr>\n",
              "  </tbody>\n",
              "</table>\n",
              "<p>203 rows × 12 columns</p>\n",
              "</div>\n",
              "      <button class=\"colab-df-convert\" onclick=\"convertToInteractive('df-cb27d27f-f165-4e12-b47e-1cbaa6942ee7')\"\n",
              "              title=\"Convert this dataframe to an interactive table.\"\n",
              "              style=\"display:none;\">\n",
              "        \n",
              "  <svg xmlns=\"http://www.w3.org/2000/svg\" height=\"24px\"viewBox=\"0 0 24 24\"\n",
              "       width=\"24px\">\n",
              "    <path d=\"M0 0h24v24H0V0z\" fill=\"none\"/>\n",
              "    <path d=\"M18.56 5.44l.94 2.06.94-2.06 2.06-.94-2.06-.94-.94-2.06-.94 2.06-2.06.94zm-11 1L8.5 8.5l.94-2.06 2.06-.94-2.06-.94L8.5 2.5l-.94 2.06-2.06.94zm10 10l.94 2.06.94-2.06 2.06-.94-2.06-.94-.94-2.06-.94 2.06-2.06.94z\"/><path d=\"M17.41 7.96l-1.37-1.37c-.4-.4-.92-.59-1.43-.59-.52 0-1.04.2-1.43.59L10.3 9.45l-7.72 7.72c-.78.78-.78 2.05 0 2.83L4 21.41c.39.39.9.59 1.41.59.51 0 1.02-.2 1.41-.59l7.78-7.78 2.81-2.81c.8-.78.8-2.07 0-2.86zM5.41 20L4 18.59l7.72-7.72 1.47 1.35L5.41 20z\"/>\n",
              "  </svg>\n",
              "      </button>\n",
              "      \n",
              "  <style>\n",
              "    .colab-df-container {\n",
              "      display:flex;\n",
              "      flex-wrap:wrap;\n",
              "      gap: 12px;\n",
              "    }\n",
              "\n",
              "    .colab-df-convert {\n",
              "      background-color: #E8F0FE;\n",
              "      border: none;\n",
              "      border-radius: 50%;\n",
              "      cursor: pointer;\n",
              "      display: none;\n",
              "      fill: #1967D2;\n",
              "      height: 32px;\n",
              "      padding: 0 0 0 0;\n",
              "      width: 32px;\n",
              "    }\n",
              "\n",
              "    .colab-df-convert:hover {\n",
              "      background-color: #E2EBFA;\n",
              "      box-shadow: 0px 1px 2px rgba(60, 64, 67, 0.3), 0px 1px 3px 1px rgba(60, 64, 67, 0.15);\n",
              "      fill: #174EA6;\n",
              "    }\n",
              "\n",
              "    [theme=dark] .colab-df-convert {\n",
              "      background-color: #3B4455;\n",
              "      fill: #D2E3FC;\n",
              "    }\n",
              "\n",
              "    [theme=dark] .colab-df-convert:hover {\n",
              "      background-color: #434B5C;\n",
              "      box-shadow: 0px 1px 3px 1px rgba(0, 0, 0, 0.15);\n",
              "      filter: drop-shadow(0px 1px 2px rgba(0, 0, 0, 0.3));\n",
              "      fill: #FFFFFF;\n",
              "    }\n",
              "  </style>\n",
              "\n",
              "      <script>\n",
              "        const buttonEl =\n",
              "          document.querySelector('#df-cb27d27f-f165-4e12-b47e-1cbaa6942ee7 button.colab-df-convert');\n",
              "        buttonEl.style.display =\n",
              "          google.colab.kernel.accessAllowed ? 'block' : 'none';\n",
              "\n",
              "        async function convertToInteractive(key) {\n",
              "          const element = document.querySelector('#df-cb27d27f-f165-4e12-b47e-1cbaa6942ee7');\n",
              "          const dataTable =\n",
              "            await google.colab.kernel.invokeFunction('convertToInteractive',\n",
              "                                                     [key], {});\n",
              "          if (!dataTable) return;\n",
              "\n",
              "          const docLinkHtml = 'Like what you see? Visit the ' +\n",
              "            '<a target=\"_blank\" href=https://colab.research.google.com/notebooks/data_table.ipynb>data table notebook</a>'\n",
              "            + ' to learn more about interactive tables.';\n",
              "          element.innerHTML = '';\n",
              "          dataTable['output_type'] = 'display_data';\n",
              "          await google.colab.output.renderOutput(dataTable, element);\n",
              "          const docLink = document.createElement('div');\n",
              "          docLink.innerHTML = docLinkHtml;\n",
              "          element.appendChild(docLink);\n",
              "        }\n",
              "      </script>\n",
              "    </div>\n",
              "  </div>\n",
              "  "
            ]
          },
          "metadata": {},
          "execution_count": 149
        }
      ]
    },
    {
      "cell_type": "code",
      "source": [
        "df3.new_weights.sum()"
      ],
      "metadata": {
        "colab": {
          "base_uri": "https://localhost:8080/"
        },
        "id": "fE5ljUa3Q2Nu",
        "outputId": "4e738364-ae10-42b1-978e-50f676f3503b"
      },
      "execution_count": null,
      "outputs": [
        {
          "output_type": "execute_result",
          "data": {
            "text/plain": [
              "138.1182419160276"
            ]
          },
          "metadata": {},
          "execution_count": 150
        }
      ]
    },
    {
      "cell_type": "code",
      "source": [
        "signal_weighted_revenue_treat = df.loc[df[\"treatment\"]==1,[\"new_signal_revenue\"]]\n",
        "signal_weighted_revenue_control = df.loc[df[\"treatment\"]==0,[\"new_signal_revenue\"]]"
      ],
      "metadata": {
        "id": "-acrXWtBQ45P"
      },
      "execution_count": null,
      "outputs": []
    },
    {
      "cell_type": "code",
      "source": [
        "signal_treated_weights = df.loc[df[\"treatment\"]==1,[\"new_weights\"]]\n",
        "signal_treated_weight_sum = signal_treated_weights.sum()\n",
        "signal_treated_weight_sum"
      ],
      "metadata": {
        "colab": {
          "base_uri": "https://localhost:8080/"
        },
        "id": "CvpSuzMmRGc-",
        "outputId": "1b8eba0a-86b9-4621-a9b5-d5f5db993e24"
      },
      "execution_count": null,
      "outputs": [
        {
          "output_type": "execute_result",
          "data": {
            "text/plain": [
              "new_weights    203.0\n",
              "dtype: float64"
            ]
          },
          "metadata": {},
          "execution_count": 152
        }
      ]
    },
    {
      "cell_type": "code",
      "source": [
        "signal_treated_comply_weight_sum = df3.new_weights.sum()\n",
        "signal_treated_comply_weight_sum"
      ],
      "metadata": {
        "colab": {
          "base_uri": "https://localhost:8080/"
        },
        "id": "LvdwiaxKRTke",
        "outputId": "08e80161-11e4-482a-d9ac-d4ddc9bddf2f"
      },
      "execution_count": null,
      "outputs": [
        {
          "output_type": "execute_result",
          "data": {
            "text/plain": [
              "138.1182419160276"
            ]
          },
          "metadata": {},
          "execution_count": 153
        }
      ]
    },
    {
      "cell_type": "code",
      "source": [
        "avg_signal_treat_comply_weights = float(signal_treated_comply_weight_sum/signal_treated_weight_sum)\n",
        "float(avg_signal_treat_comply_weights)"
      ],
      "metadata": {
        "colab": {
          "base_uri": "https://localhost:8080/"
        },
        "id": "mvbXfACkRLb-",
        "outputId": "4f1af551-b32f-47a5-9e7c-bb37e3b77e1b"
      },
      "execution_count": null,
      "outputs": [
        {
          "output_type": "execute_result",
          "data": {
            "text/plain": [
              "0.6803854281577733"
            ]
          },
          "metadata": {},
          "execution_count": 154
        }
      ]
    },
    {
      "cell_type": "code",
      "source": [
        "signal_weighted_wald_estimator = (signal_weighted_revenue_treat.mean() - signal_weighted_revenue_control.mean())/(avg_signal_treat_comply_weights)\n",
        "signal_weighted_wald_estimator"
      ],
      "metadata": {
        "colab": {
          "base_uri": "https://localhost:8080/"
        },
        "id": "HZ2NWScVRbje",
        "outputId": "4ad174fd-7b5e-4de5-c570-cbadb4d4871d"
      },
      "execution_count": null,
      "outputs": [
        {
          "output_type": "execute_result",
          "data": {
            "text/plain": [
              "new_signal_revenue    0.229376\n",
              "dtype: float64"
            ]
          },
          "metadata": {},
          "execution_count": 155
        }
      ]
    },
    {
      "cell_type": "code",
      "source": [
        "# Compute difference in means\n",
        "\n",
        "# Compute bootstrapped estimates\n",
        "# First identify the treated and control units\n",
        "samples5 = []\n",
        "i = np.where(df['treatment'] == 1)[0]\n",
        "j = np.where(df['treatment'] == 0)[0]\n",
        "# Set some fixed seed\n",
        "np.random.seed(0)\n",
        "# Run 2000 iterations of the bootstrap\n",
        "for counter in range(2000):\n",
        "  # Implement re-sampling with 5000 treated and 5000 control units\n",
        "  i_sample = np.random.choice(i, len(i), replace = True)\n",
        "  j_sample = np.random.choice(j, len(j), replace = True)\n",
        "    # Create resampled data\n",
        "  resample = df.iloc[np.append(i_sample, j_sample),]\n",
        "    #subset resampled data to find number of people in treatment that complied\n",
        "  df_r=resample.loc[(resample['treatment'] == 1) & (resample['compliance'] == 1)]\n",
        "  treated_weights = resample.loc[df[\"treatment\"]==1,[\"new_weights\"]]\n",
        "  #treated_weight_sum = treated_weights.sum()\n",
        "    #find proportion of people in treated group that complied \n",
        "  avg_treat_comply = float((df_r.new_weights.sum())/treated_weights.sum())\n",
        "  a = np.average(resample.loc[resample['treatment'] == 1,'new_signal_revenue'])\n",
        "  b = np.average(resample.loc[resample['treatment'] == 0,'new_signal_revenue'])\n",
        "    # Compute difference in means in resampled data and divided by average treated compliance\n",
        "  samples5.append((a-b)/avg_treat_comply)"
      ],
      "metadata": {
        "id": "UFD7uI6kReou"
      },
      "execution_count": null,
      "outputs": []
    },
    {
      "cell_type": "code",
      "source": [
        "print('The bootstrapped SE is ' + str(round(np.std(samples5), 2)))"
      ],
      "metadata": {
        "colab": {
          "base_uri": "https://localhost:8080/"
        },
        "id": "zODQk_NIRg9O",
        "outputId": "568760a5-5022-48ab-f1b9-94100d3622a7"
      },
      "execution_count": null,
      "outputs": [
        {
          "output_type": "stream",
          "name": "stdout",
          "text": [
            "The bootstrapped SE is 0.1\n"
          ]
        }
      ]
    },
    {
      "cell_type": "markdown",
      "source": [
        "(b) (5 points) Second, compare the original weighted Wald estimator (i.e. without “signal”) against the enhanced weighted Wald estimator (i.e. with “signal”) on two metrics: performance of the compliance models (e.g. R2) and standard errors. In one or two sentences: which approach has a lower standard error, and why?"
      ],
      "metadata": {
        "id": "v8k3V-U6ycj7"
      }
    },
    {
      "cell_type": "markdown",
      "source": [
        "The weighted Wald estimator without \"signal\" variable included has a lower R^2 (.18 < .67) and a higher standard error (.152 > .1) than the weighted Wald estimator with \"signal\". The approach with the \"signal\" variabile included has a lower standard error because adding more variables decreases the variance and increases the R^2, though this does not necessarily make the estimator more accurate."
      ],
      "metadata": {
        "id": "Jm3BDk32cRRG"
      }
    },
    {
      "cell_type": "markdown",
      "source": [
        "6. (5 points) We now have collected three estimates with three sets of standard errors: Wald,\n",
        "weighted Wald for a simple model (i.e. no “signal”), and weighted Wald for an enhanced\n",
        "model (i.e. with “signal”). Depict the standard errors of all three graphically, by plotting\n",
        "their bootstrapped samples."
      ],
      "metadata": {
        "id": "TtRg2qYyx8Uu"
      }
    },
    {
      "cell_type": "code",
      "source": [
        "#Wald estimate\n",
        "sns.kdeplot(np.array(samples), bw=0.5)"
      ],
      "metadata": {
        "colab": {
          "base_uri": "https://localhost:8080/",
          "height": 337
        },
        "id": "2HOKpzX0mEHw",
        "outputId": "bff492f3-e413-4d5f-b623-f1ea9253164a"
      },
      "execution_count": null,
      "outputs": [
        {
          "output_type": "stream",
          "name": "stderr",
          "text": [
            "/usr/local/lib/python3.7/dist-packages/seaborn/distributions.py:1699: FutureWarning: The `bw` parameter is deprecated in favor of `bw_method` and `bw_adjust`. Using 0.5 for `bw_method`, but please see the docs for the new parameters and update your code.\n",
            "  warnings.warn(msg, FutureWarning)\n"
          ]
        },
        {
          "output_type": "execute_result",
          "data": {
            "text/plain": [
              "<matplotlib.axes._subplots.AxesSubplot at 0x7f1fe42ba690>"
            ]
          },
          "metadata": {},
          "execution_count": 158
        },
        {
          "output_type": "display_data",
          "data": {
            "text/plain": [
              "<Figure size 432x288 with 1 Axes>"
            ],
            "image/png": "[encoded data removed]"
          },
          "metadata": {}
        }
      ]
    },
    {
      "cell_type": "code",
      "source": [
        "#weighted Wald estimate\n",
        "sns.kdeplot(np.array(samples4), bw=0.5)"
      ],
      "metadata": {
        "colab": {
          "base_uri": "https://localhost:8080/",
          "height": 337
        },
        "id": "NKth439yr_uL",
        "outputId": "06ed1987-77e0-4650-9486-aa9c9a8a499d"
      },
      "execution_count": null,
      "outputs": [
        {
          "output_type": "stream",
          "name": "stderr",
          "text": [
            "/usr/local/lib/python3.7/dist-packages/seaborn/distributions.py:1699: FutureWarning: The `bw` parameter is deprecated in favor of `bw_method` and `bw_adjust`. Using 0.5 for `bw_method`, but please see the docs for the new parameters and update your code.\n",
            "  warnings.warn(msg, FutureWarning)\n"
          ]
        },
        {
          "output_type": "execute_result",
          "data": {
            "text/plain": [
              "<matplotlib.axes._subplots.AxesSubplot at 0x7f1fe41f6350>"
            ]
          },
          "metadata": {},
          "execution_count": 159
        },
        {
          "output_type": "display_data",
          "data": {
            "text/plain": [
              "<Figure size 432x288 with 1 Axes>"
            ],
            "image/png": "[encoded data removed]"
          },
          "metadata": {}
        }
      ]
    },
    {
      "cell_type": "code",
      "source": [
        "#reweighted Wald estimate\n",
        "sns.kdeplot(np.array(samples5), bw=0.5)"
      ],
      "metadata": {
        "colab": {
          "base_uri": "https://localhost:8080/",
          "height": 337
        },
        "id": "RfqrhMQssB3h",
        "outputId": "fd2fc3c5-8c2a-4c18-e454-c0d8b66c42a9"
      },
      "execution_count": null,
      "outputs": [
        {
          "output_type": "stream",
          "name": "stderr",
          "text": [
            "/usr/local/lib/python3.7/dist-packages/seaborn/distributions.py:1699: FutureWarning: The `bw` parameter is deprecated in favor of `bw_method` and `bw_adjust`. Using 0.5 for `bw_method`, but please see the docs for the new parameters and update your code.\n",
            "  warnings.warn(msg, FutureWarning)\n"
          ]
        },
        {
          "output_type": "execute_result",
          "data": {
            "text/plain": [
              "<matplotlib.axes._subplots.AxesSubplot at 0x7f1fe41c2950>"
            ]
          },
          "metadata": {},
          "execution_count": 160
        },
        {
          "output_type": "display_data",
          "data": {
            "text/plain": [
              "<Figure size 432x288 with 1 Axes>"
            ],
            "image/png": "[encoded data removed]"
          },
          "metadata": {}
        }
      ]
    },
    {
      "cell_type": "markdown",
      "source": [
        "**Problem 2: Surrogates**\n",
        "\n",
        "*Consider the following scenario: Airbnb wants to understand the effect of boosting host earnings in the US for October 1 (for instance, by giving the service fees it collects to hosts) on the number of bookings that a host accepts over the month of October. Unable to wait until the end of October to assess the one-day experiment, Airbnb considers utilizing the surrogacy methodology.*\n",
        "\n",
        "*Now consider five variants of this experiment. For each variant, which one of the key assumptions is most likely violated, and why? Limit your answer to one to two sentences per answer.*\n",
        "\n",
        " \n",
        "\n",
        "*1. (5 points) Airbnb uses the number of bookings that a host accepts on October 1 as the surrogate variable.*\n",
        "\n",
        "This variant violates the surrogacy assumption. There may be other metrics that effect number of bookings not included in surrogacy, such as region and number of listings.\n",
        "\n",
        " \n",
        "*2. (5 points) Airbnb uses the same surrogate variable, but changes the treatment to run from October 1 through October 3.*\n",
        "\n",
        "This variant violates the surrogacy assumption. The experiment will run longer than your observational sample.\n",
        "\n",
        " \n",
        "\n",
        "*3. (5 points) Airbnb uses two surrogate variables: the number of bookings that a host accepts from October 1 through October 3, and the number of properties that a host lists from October 1 through October 3. As in the original setup, the treatment is deployed on October\n",
        "1 only.*\n",
        "\n",
        "This variant violates the comparability assumption. The experiment only runs for a single day, while it is being compared to multiple day surrogacy.\n",
        "\n",
        " \n",
        "*4. (5 points) Airbnb uses a long-running observational study from Japan to link its chosen surrogates to the downstream outcome.*\n",
        "\n",
        "This variant violates the comparability assumption. These are two different markets (Japan and the US) so we cannot compare outcomes.\n",
        "\n",
        " \n",
        "\n",
        "*5. (5 points) Airbnb uses observational data from the month of August (which is already available and without lags) to identify the treatment effect.*\n",
        "\n",
        "This variant violates comparability assumption. The observational sample is from a different time than the experiment and therefore the link between surrogacy and the outcome is broken"
      ],
      "metadata": {
        "id": "Ph7QsIaT1hvS"
      }
    }
  ]
}